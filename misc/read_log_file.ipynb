{
 "cells": [
  {
   "cell_type": "markdown",
   "metadata": {},
   "source": [
    "# Read Log File"
   ]
  },
  {
   "cell_type": "code",
   "execution_count": null,
   "metadata": {},
   "outputs": [],
   "source": [
    "import os, sys, pathlib\n",
    "\n",
    "import pandas as pd\n",
    "\n",
    "from tqdm import tqdm\n",
    "from langchain_core.prompts import PipelinePromptTemplate, PromptTemplate\n",
    "\n",
    "# Get the current working directory of the notebook\n",
    "notebook_dir = os.getcwd()\n",
    "# Add the parent directory to the system path\n",
    "sys.path.append(os.path.join(notebook_dir, '../'))\n",
    "\n",
    "from log_files import LogData\n",
    "from data_processing import DataProcessing\n",
    "from text_generation_models import TextGenerationModelFactory"
   ]
  },
  {
   "cell_type": "code",
   "execution_count": null,
   "metadata": {},
   "outputs": [],
   "source": [
    "print(\"Start logging batch\")\n",
    "\n",
    "batch_predictions_df = DataProcessing.concat_dfs(batch_dfs)\n",
    "base_path = pathlib.Path(__file__).parent.resolve()\n",
    "log_file_path = \"data/prediction_logs\"\n",
    "log_directory = os.path.join(base_path, log_file_path)\n",
    "print(f\"log_directory: {log_directory}\")\n",
    "\n",
    "n = 1\n",
    "save_batch_directory = os.path.join(log_directory, f\"batch_{n}-predictions\")\n",
    "\n",
    "while os.path.exists(save_batch_directory):\n",
    "    n += 1\n",
    "    save_batch_directory = os.path.join(log_directory, f\"batch_{n}-predictions\")\n",
    "\n",
    "os.makedirs(save_batch_directory)\n",
    "save_batch_name = f\"batch_{n}-info.log\"\n",
    "save_from_df_name = f\"batch_{n}-from_df.csv\"\n",
    "save_from_csv_name = f\"batch_{n}-from_csv.log\"\n",
    "\n",
    "logger = LogData(batch_predictions_df, base_path, log_file_path, save_batch_directory, save_batch_name, n)\n",
    "logger.dataframe_to_csv(save_from_df_name)\n",
    "logger.csv_to_log(save_from_df_name, save_from_csv_name)\n"
   ]
  },
  {
   "cell_type": "code",
   "execution_count": null,
   "metadata": {},
   "outputs": [],
   "source": []
  }
 ],
 "metadata": {
  "kernelspec": {
   "display_name": "predictions",
   "language": "python",
   "name": "python3"
  },
  "language_info": {
   "codemirror_mode": {
    "name": "ipython",
    "version": 3
   },
   "file_extension": ".py",
   "mimetype": "text/x-python",
   "name": "python",
   "nbconvert_exporter": "python",
   "pygments_lexer": "ipython3",
   "version": "3.11.0"
  }
 },
 "nbformat": 4,
 "nbformat_minor": 2
}
