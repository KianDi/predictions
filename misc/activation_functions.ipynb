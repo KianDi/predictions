{
 "cells": [
  {
   "cell_type": "markdown",
   "id": "6540182f",
   "metadata": {},
   "source": [
    "# Activation Functions"
   ]
  },
  {
   "cell_type": "markdown",
   "id": "f680c5bd",
   "metadata": {},
   "source": [
    "## Sigmoid\n",
    "\n",
    "$$\n",
    "\n",
    "f(x) = \\frac{e^x}{e^x + 1}\n",
    "\n",
    "$$"
   ]
  },
  {
   "cell_type": "code",
   "execution_count": null,
   "id": "32eb82a1",
   "metadata": {},
   "outputs": [],
   "source": [
    "def ipow(y, e: float = 2.718):\n",
    "    res = 1\n",
    "    for i in range(y):\n",
    "        res = res*e\n",
    "    return res"
   ]
  },
  {
   "cell_type": "code",
   "execution_count": 7,
   "id": "8543a109",
   "metadata": {},
   "outputs": [],
   "source": [
    "def activate_sigmoid(y: int, e: int = 2.718) -> float:\n",
    "    return ipow(y) / (ipow(y) + 1)\n",
    "\n",
    "\n",
    "# def ipow(y, e: float = 2.718):\n",
    "#     res = 1\n",
    "#     for i in range(y):\n",
    "#         res *= e\n",
    "#     return res\n",
    "\n",
    "# def activate_sigmoid(y: int, e: float = 2.718) -> float:\n",
    "#     exp_value = ipow(y, e)\n",
    "#     return exp_value / (exp_value + 1)\n"
   ]
  },
  {
   "cell_type": "code",
   "execution_count": 8,
   "id": "d1446a99",
   "metadata": {},
   "outputs": [
    {
     "data": {
      "text/plain": [
       "0.9999545550385778"
      ]
     },
     "execution_count": 8,
     "metadata": {},
     "output_type": "execute_result"
    }
   ],
   "source": [
    "activate_sigmoid(10)"
   ]
  },
  {
   "cell_type": "code",
   "execution_count": null,
   "id": "b7ea139c",
   "metadata": {},
   "outputs": [],
   "source": []
  }
 ],
 "metadata": {
  "kernelspec": {
   "display_name": "predictions",
   "language": "python",
   "name": "python3"
  },
  "language_info": {
   "codemirror_mode": {
    "name": "ipython",
    "version": 3
   },
   "file_extension": ".py",
   "mimetype": "text/x-python",
   "name": "python",
   "nbconvert_exporter": "python",
   "pygments_lexer": "ipython3",
   "version": "3.12.2"
  }
 },
 "nbformat": 4,
 "nbformat_minor": 5
}
