{
 "cells": [
  {
   "cell_type": "markdown",
   "metadata": {},
   "source": [
    "# Examples for Paper"
   ]
  },
  {
   "cell_type": "code",
   "execution_count": 1,
   "metadata": {},
   "outputs": [
    {
     "data": {
      "text/html": [
       "<span class=\"tex2jax_ignore\"><div class=\"entities\" style=\"line-height: 2.5; direction: ltr\">My name is \n",
       "<mark class=\"entity\" style=\"background: #aa9cfc; padding: 0.45em 0.6em; margin: 0 0.25em; line-height: 1; border-radius: 0.35em;\">\n",
       "    John Smith\n",
       "    <span style=\"font-size: 0.8em; font-weight: bold; line-height: 1; border-radius: 0.35em; vertical-align: middle; margin-left: 0.5rem\">Person</span>\n",
       "</mark>\n",
       " and I live in \n",
       "<mark class=\"entity\" style=\"background: #ddd; padding: 0.45em 0.6em; margin: 0 0.25em; line-height: 1; border-radius: 0.35em;\">\n",
       "    Paris\n",
       "    <span style=\"font-size: 0.8em; font-weight: bold; line-height: 1; border-radius: 0.35em; vertical-align: middle; margin-left: 0.5rem\">Location</span>\n",
       "</mark>\n",
       "</div></span>"
      ],
      "text/plain": [
       "<IPython.core.display.HTML object>"
      ]
     },
     "metadata": {},
     "output_type": "display_data"
    }
   ],
   "source": [
    "import spacy\n",
    "from spacy import displacy\n",
    "\n",
    "# Load a blank model\n",
    "nlp = spacy.blank(\"en\")\n",
    "\n",
    "# Your text and custom entities\n",
    "text = \"My name is John Smith and I live in Paris\"\n",
    "entities = [\n",
    "    {\"start\": 11, \"end\": 21, \"label\": \"Person\"},\n",
    "    {\"start\": 36, \"end\": 41, \"label\": \"Location\"}\n",
    "]\n",
    "\n",
    "# Create a dictionary for displaCy\n",
    "doc_data = {\n",
    "    \"text\": text,\n",
    "    \"ents\": entities,\n",
    "    \"title\": None\n",
    "}\n",
    "\n",
    "# Render the visualization\n",
    "html = displacy.render(doc_data, style=\"ent\", manual=True, jupyter=True)\n"
   ]
  },
  {
   "cell_type": "code",
   "execution_count": null,
   "metadata": {},
   "outputs": [],
   "source": []
  },
  {
   "cell_type": "code",
   "execution_count": 2,
   "metadata": {},
   "outputs": [],
   "source": [
    "# import spacy\n",
    "# from spacy import displacy\n",
    "\n",
    "# # Load a blank model\n",
    "# nlp = spacy.blank(\"en\")\n",
    "\n",
    "# # Your text and custom entities\n",
    "# text = \"On [Monday, December 16, 2024], [President John Doe] [forecasts] that the [unemployment rate] at [the United States] [will likely] [decrease] by [2%] in [2025 Q1].\"\n",
    "# entities = [\n",
    "#     {\"start\": , \"end\": 21, \"label\": \"Person\"},\n",
    "#     {\"start\": 36, \"end\": 41, \"label\": \"Location\"}\n",
    "# ]\n",
    "\n",
    "# # Create a dictionary for displaCy\n",
    "# doc_data = {\n",
    "#     \"text\": text,\n",
    "#     \"ents\": entities,\n",
    "#     \"title\": None\n",
    "# }\n",
    "\n",
    "# # Render the visualization\n",
    "# html = displacy.render(doc_data, style=\"ent\", manual=True, jupyter=True)\n"
   ]
  },
  {
   "cell_type": "code",
   "execution_count": 3,
   "metadata": {},
   "outputs": [],
   "source": [
    "# import pandas as pd\n",
    "\n",
    "# # Sample dataframe\n",
    "# data = {\n",
    "#     \"text\": [\"My name is John Smith and I live in Paris\"],\n",
    "#     \"Person\": [\"John Smith\"],\n",
    "#     \"Location\": [\"Paris\"]\n",
    "# }\n",
    "# df = pd.DataFrame(data)\n",
    "\n",
    "# # Convert dataframe to the required format\n",
    "# text = df[\"text\"][0]\n",
    "# entities = []\n",
    "# for label in df.columns[1:]:\n",
    "#     for entity in df[label]:\n",
    "#         start = text.find(entity)\n",
    "#         end = start + len(entity)\n",
    "#         entities.append({\"start\": start, \"end\": end, \"label\": label})\n",
    "\n",
    "# # Create a dictionary for displaCy\n",
    "# doc_data = {\n",
    "#     \"text\": text,\n",
    "#     \"ents\": entities,\n",
    "#     \"title\": None\n",
    "# }\n",
    "\n",
    "# # Render the visualization\n",
    "# html = displacy.render(doc_data, style=\"ent\", manual=True, jupyter=True)\n"
   ]
  },
  {
   "cell_type": "code",
   "execution_count": 4,
   "metadata": {},
   "outputs": [],
   "source": [
    "\n",
    "# T4: According to a [ $p_p$ ] from [ $p_o$ ] in [ $p_l$ ], on [ $p_t$ ], the [ $p_a$ ] [ $p_v$ ] [ $p_s$ ] beyond [ $p_m$ ] in the time frame of [ $p_f$ ].\n",
    "# According to [David Harper] from [Weather Underground, on [Fri, August 9, 2024], the [air quality index] in [Los Angeles] [is likely to] [improve] by [20%] in the time frame of [21 Aug 2024].\n",
    "                                  \n",
    "\n",
    "# T4: According to a [ $p_p$ ] from [ $p_o$ ], on [ $p_t$ ], the [ $p_a$ ] [ $p_v$ ] [ $p_s$ ] beyond [ $p_m$ ] in the time frame of [ $p_f$ ].\n",
    "# According to a [top executive] from [Chevron], on [08/21/2024], the [net profit] [is expected to] [increase] beyond [10,000 USD] in the time frame of [Q3 of 2029]."
   ]
  },
  {
   "cell_type": "code",
   "execution_count": 68,
   "metadata": {},
   "outputs": [],
   "source": [
    "    # Define custom colors for each label\n",
    "\n",
    "colors = {\n",
    "    \"Person\": \"#fc9ce7\",\n",
    "    \"Organization\": \"#fad0c4\",\n",
    "    \"Word\": \"#08e76d\",\n",
    "    \"Exact Time\": \"#a6c1ee\",\n",
    "    \"Forecast Time\": \"#fcb69f\",\n",
    "    \"Attribute\": \"#c2e9fb\",\n",
    "    \"Verb\": \"#f9e24f\",\n",
    "    \"Metric\": \"#ffb214\",\n",
    "    \"Slope\": \"#21f7f6\",\n",
    "    \"Location\": \"#61040c\"\n",
    "}"
   ]
  },
  {
   "cell_type": "code",
   "execution_count": 69,
   "metadata": {},
   "outputs": [],
   "source": [
    "def create_visualization(text, entities, title, colors):\n",
    "    doc_data = {\n",
    "        \"text\": text,\n",
    "        \"ents\": entities,\n",
    "        \"title\": title\n",
    "    }\n",
    "\n",
    "    options = {\"colors\": colors}\n",
    "\n",
    "    # Render the visualization\n",
    "    html = displacy.render(doc_data, style=\"ent\", manual=True, jupyter=True, options=options)"
   ]
  },
  {
   "cell_type": "code",
   "execution_count": 70,
   "metadata": {},
   "outputs": [],
   "source": [
    "# # Your text and custom entities\n",
    "# text = \"According to David Harper from Weather Underground, on Fri, August 9, 2024, the air quality index in Los Angeles is likely to improve by 20% in the time frame of 21 Aug 2024.\"\n",
    "# entities = [\n",
    "#     {\"start\": 12, \"end\": 26, \"label\": \"Person\"},\n",
    "#     {\"start\": 30, \"end\": 50, \"label\": \"Organization\"},\n",
    "#     {\"start\": 55, \"end\": 74, \"label\": \"Exact Time\"},\n",
    "#     {\"start\": 79, \"end\": 97, \"label\": \"Attribute\"},\n",
    "#     {\"start\": 100, \"end\": 112, \"label\": \"Location\"},\n",
    "#     {\"start\": 113, \"end\": 123, \"label\": \"Verb\"},\n",
    "#     {\"start\": 126, \"end\": 134, \"label\": \"Slope\"},\n",
    "#     {\"start\": 136, \"end\": 140, \"label\": \"Metric\"},\n",
    "#     {\"start\": 161, \"end\": 173, \"label\": \"Forecast Time\"}\n",
    "# ]\n",
    "# create_visualization(text, entities, colors)"
   ]
  },
  {
   "cell_type": "code",
   "execution_count": 73,
   "metadata": {},
   "outputs": [
    {
     "data": {
      "text/html": [
       "<span class=\"tex2jax_ignore\"><h2 style=\"margin: 0\">Health Prediction Example</h2>\n",
       "\n",
       "<div class=\"entities\" style=\"line-height: 2.5; direction: ltr\">\n",
       "<mark class=\"entity\" style=\"background: #fc9ce7; padding: 0.45em 0.6em; margin: 0 0.25em; line-height: 1; border-radius: 0.35em;\">\n",
       "    A trusted expert\n",
       "    <span style=\"font-size: 0.8em; font-weight: bold; line-height: 1; border-radius: 0.35em; vertical-align: middle; margin-left: 0.5rem\">Person</span>\n",
       "</mark>\n",
       " \n",
       "<mark class=\"entity\" style=\"background: #08e76d; padding: 0.45em 0.6em; margin: 0 0.25em; line-height: 1; border-radius: 0.35em;\">\n",
       "    speculates\n",
       "    <span style=\"font-size: 0.8em; font-weight: bold; line-height: 1; border-radius: 0.35em; vertical-align: middle; margin-left: 0.5rem\">Word</span>\n",
       "</mark>\n",
       " on \n",
       "<mark class=\"entity\" style=\"background: #a6c1ee; padding: 0.45em 0.6em; margin: 0 0.25em; line-height: 1; border-radius: 0.35em;\">\n",
       "    23 October 2024\n",
       "    <span style=\"font-size: 0.8em; font-weight: bold; line-height: 1; border-radius: 0.35em; vertical-align: middle; margin-left: 0.5rem\">Exact Time</span>\n",
       "</mark>\n",
       " that the\n",
       "<mark class=\"entity\" style=\"background: #c2e9fb; padding: 0.45em 0.6em; margin: 0 0.25em; line-height: 1; border-radius: 0.35em;\">\n",
       "     global vaccination rate for measles \n",
       "    <span style=\"font-size: 0.8em; font-weight: bold; line-height: 1; border-radius: 0.35em; vertical-align: middle; margin-left: 0.5rem\">Attribute</span>\n",
       "</mark>\n",
       "in the \n",
       "<mark class=\"entity\" style=\"background: #fad0c4; padding: 0.45em 0.6em; margin: 0 0.25em; line-height: 1; border-radius: 0.35em;\">\n",
       "    US\n",
       "    <span style=\"font-size: 0.8em; font-weight: bold; line-height: 1; border-radius: 0.35em; vertical-align: middle; margin-left: 0.5rem\">Organization</span>\n",
       "</mark>\n",
       " \n",
       "<mark class=\"entity\" style=\"background: #f9e24f; padding: 0.45em 0.6em; margin: 0 0.25em; line-height: 1; border-radius: 0.35em;\">\n",
       "    should \n",
       "    <span style=\"font-size: 0.8em; font-weight: bold; line-height: 1; border-radius: 0.35em; vertical-align: middle; margin-left: 0.5rem\">Verb</span>\n",
       "</mark>\n",
       "\n",
       "<mark class=\"entity\" style=\"background: #21f7f6; padding: 0.45em 0.6em; margin: 0 0.25em; line-height: 1; border-radius: 0.35em;\">\n",
       "    stay stable \n",
       "    <span style=\"font-size: 0.8em; font-weight: bold; line-height: 1; border-radius: 0.35em; vertical-align: middle; margin-left: 0.5rem\">Slope</span>\n",
       "</mark>\n",
       "at \n",
       "<mark class=\"entity\" style=\"background: #ffb214; padding: 0.45em 0.6em; margin: 0 0.25em; line-height: 1; border-radius: 0.35em;\">\n",
       "    100K people \n",
       "    <span style=\"font-size: 0.8em; font-weight: bold; line-height: 1; border-radius: 0.35em; vertical-align: middle; margin-left: 0.5rem\">Metric</span>\n",
       "</mark>\n",
       "in \n",
       "<mark class=\"entity\" style=\"background: #fcb69f; padding: 0.45em 0.6em; margin: 0 0.25em; line-height: 1; border-radius: 0.35em;\">\n",
       "    2027 Quarter 4\n",
       "    <span style=\"font-size: 0.8em; font-weight: bold; line-height: 1; border-radius: 0.35em; vertical-align: middle; margin-left: 0.5rem\">Forecast Time</span>\n",
       "</mark>\n",
       ".</div></span>"
      ],
      "text/plain": [
       "<IPython.core.display.HTML object>"
      ]
     },
     "metadata": {},
     "output_type": "display_data"
    }
   ],
   "source": [
    "title = \"Health Prediction Example\"\n",
    "text = \"A trusted expert speculates on 23 October 2024 that the global vaccination rate for measles in the US should stay stable at 100K people in 2027 Quarter 4.\"\n",
    "entities = [\n",
    "    {\"start\": 0, \"end\": 16, \"label\": \"Person\"},\n",
    "    {\"start\": 17, \"end\": 27, \"label\": \"Word\"},\n",
    "    {\"start\": 31, \"end\": 46, \"label\": \"Exact Time\"},\n",
    "    {\"start\": 55, \"end\": 92, \"label\": \"Attribute\"},\n",
    "    {\"start\": 99, \"end\": 101, \"label\": \"Organization\"},\n",
    "    {\"start\": 102, \"end\": 109, \"label\": \"Verb\"},\n",
    "    {\"start\": 109, \"end\": 121, \"label\": \"Slope\"},\n",
    "    {\"start\": 124, \"end\": 136, \"label\": \"Metric\"},\n",
    "    {\"start\": 139, \"end\": 153, \"label\": \"Forecast Time\"}\n",
    "]\n",
    "\n",
    "create_visualization(text, entities, title, colors)\n",
    "\n",
    "# [A trusted expert] [speculates] on [23 October 2024] that the [global vaccination rate for measles] in the [US] [should] [stay stable] at [100K people] in [2027 Quarter 4]."
   ]
  },
  {
   "cell_type": "code",
   "execution_count": null,
   "metadata": {},
   "outputs": [],
   "source": [
    "colors = {\n",
    "    \"p_p\": \"#fc9ce7\",\n",
    "    \"p_o\": \"#fad0c4\",\n",
    "    \"p_w\": \"#08e76d\",\n",
    "    \"p_t\": \"#a6c1ee\",\n",
    "    \"p_f\": \"#fcb69f\",\n",
    "    \"p_a\": \"#c2e9fb\",\n",
    "    \"p_v\": \"#f9e24f\",\n",
    "    \"p_m\": \"#ffb214\",\n",
    "    \"p_s\": \"#21f7f6\",\n",
    "    \"p_l\": \"#61040c\"\n",
    "}\n"
   ]
  },
  {
   "cell_type": "code",
   "execution_count": 16,
   "metadata": {},
   "outputs": [],
   "source": [
    "def create_visualization(text, entities, title, colors):\n",
    "    doc_data = {\n",
    "        \"text\": text,\n",
    "        \"ents\": entities,\n",
    "        \"title\": title\n",
    "    }\n",
    "\n",
    "    options = {\"ents\": list(colors.keys()), \"colors\": colors}\n",
    "\n",
    "    # Render the visualization\n",
    "    html = displacy.render(doc_data, style=\"ent\", manual=True, jupyter=True, options=options)"
   ]
  },
  {
   "cell_type": "code",
   "execution_count": 17,
   "metadata": {},
   "outputs": [
    {
     "data": {
      "text/html": [
       "<span class=\"tex2jax_ignore\"><h2 style=\"margin: 0\">Financial Prediction Template 1</h2>\n",
       "\n",
       "<div class=\"entities\" style=\"line-height: 2.5; direction: ltr\">On \n",
       "<mark class=\"entity\" style=\"background: #a6c1ee; padding: 0.45em 0.6em; margin: 0 0.25em; line-height: 1; border-radius: 0.35em;\">\n",
       "    [ $p_t$ ]\n",
       "    <span style=\"font-size: 0.8em; font-weight: bold; line-height: 1; border-radius: 0.35em; vertical-align: middle; margin-left: 0.5rem\">p_t</span>\n",
       "</mark>\n",
       ", \n",
       "<mark class=\"entity\" style=\"background: #fc9ce7; padding: 0.45em 0.6em; margin: 0 0.25em; line-height: 1; border-radius: 0.35em;\">\n",
       "    [ $p_p$ ]\n",
       "    <span style=\"font-size: 0.8em; font-weight: bold; line-height: 1; border-radius: 0.35em; vertical-align: middle; margin-left: 0.5rem\">p_p</span>\n",
       "</mark>\n",
       " \n",
       "<mark class=\"entity\" style=\"background: #08e76d; padding: 0.45em 0.6em; margin: 0 0.25em; line-height: 1; border-radius: 0.35em;\">\n",
       "    [ $p_w$ ]\n",
       "    <span style=\"font-size: 0.8em; font-weight: bold; line-height: 1; border-radius: 0.35em; vertical-align: middle; margin-left: 0.5rem\">p_w</span>\n",
       "</mark>\n",
       " that the \n",
       "<mark class=\"entity\" style=\"background: #c2e9fb; padding: 0.45em 0.6em; margin: 0 0.25em; line-height: 1; border-radius: 0.35em;\">\n",
       "    [ $p_a$ ] \n",
       "    <span style=\"font-size: 0.8em; font-weight: bold; line-height: 1; border-radius: 0.35em; vertical-align: middle; margin-left: 0.5rem\">p_a</span>\n",
       "</mark>\n",
       "at\n",
       "<mark class=\"entity\" style=\"background: #fad0c4; padding: 0.45em 0.6em; margin: 0 0.25em; line-height: 1; border-radius: 0.35em;\">\n",
       "     [ $p_o$ ]\n",
       "    <span style=\"font-size: 0.8em; font-weight: bold; line-height: 1; border-radius: 0.35em; vertical-align: middle; margin-left: 0.5rem\">p_o</span>\n",
       "</mark>\n",
       " \n",
       "<mark class=\"entity\" style=\"background: #f9e24f; padding: 0.45em 0.6em; margin: 0 0.25em; line-height: 1; border-radius: 0.35em;\">\n",
       "    [ $p_v$ ] \n",
       "    <span style=\"font-size: 0.8em; font-weight: bold; line-height: 1; border-radius: 0.35em; vertical-align: middle; margin-left: 0.5rem\">p_v</span>\n",
       "</mark>\n",
       "\n",
       "<mark class=\"entity\" style=\"background: #21f7f6; padding: 0.45em 0.6em; margin: 0 0.25em; line-height: 1; border-radius: 0.35em;\">\n",
       "    [ $p_s$ ] \n",
       "    <span style=\"font-size: 0.8em; font-weight: bold; line-height: 1; border-radius: 0.35em; vertical-align: middle; margin-left: 0.5rem\">p_s</span>\n",
       "</mark>\n",
       "by \n",
       "<mark class=\"entity\" style=\"background: #ffb214; padding: 0.45em 0.6em; margin: 0 0.25em; line-height: 1; border-radius: 0.35em;\">\n",
       "    [ $p_m$ ] \n",
       "    <span style=\"font-size: 0.8em; font-weight: bold; line-height: 1; border-radius: 0.35em; vertical-align: middle; margin-left: 0.5rem\">p_m</span>\n",
       "</mark>\n",
       "in \n",
       "<mark class=\"entity\" style=\"background: #fcb69f; padding: 0.45em 0.6em; margin: 0 0.25em; line-height: 1; border-radius: 0.35em;\">\n",
       "    [ $p_f$ ]\n",
       "    <span style=\"font-size: 0.8em; font-weight: bold; line-height: 1; border-radius: 0.35em; vertical-align: middle; margin-left: 0.5rem\">p_f</span>\n",
       "</mark>\n",
       ".</div></span>"
      ],
      "text/plain": [
       "<IPython.core.display.HTML object>"
      ]
     },
     "metadata": {},
     "output_type": "display_data"
    },
    {
     "data": {
      "text/html": [
       "<span class=\"tex2jax_ignore\"><h2 style=\"margin: 0\">Financial Prediction Example</h2>\n",
       "\n",
       "<div class=\"entities\" style=\"line-height: 2.5; direction: ltr\">On \n",
       "<mark class=\"entity\" style=\"background: #a6c1ee; padding: 0.45em 0.6em; margin: 0 0.25em; line-height: 1; border-radius: 0.35em;\">\n",
       "    [Monday, December 16, 2024]\n",
       "    <span style=\"font-size: 0.8em; font-weight: bold; line-height: 1; border-radius: 0.35em; vertical-align: middle; margin-left: 0.5rem\">p_t</span>\n",
       "</mark>\n",
       ", \n",
       "<mark class=\"entity\" style=\"background: #fc9ce7; padding: 0.45em 0.6em; margin: 0 0.25em; line-height: 1; border-radius: 0.35em;\">\n",
       "    [Detravious, an investor]\n",
       "    <span style=\"font-size: 0.8em; font-weight: bold; line-height: 1; border-radius: 0.35em; vertical-align: middle; margin-left: 0.5rem\">p_p</span>\n",
       "</mark>\n",
       " \n",
       "<mark class=\"entity\" style=\"background: #08e76d; padding: 0.45em 0.6em; margin: 0 0.25em; line-height: 1; border-radius: 0.35em;\">\n",
       "    [forecasts] \n",
       "    <span style=\"font-size: 0.8em; font-weight: bold; line-height: 1; border-radius: 0.35em; vertical-align: middle; margin-left: 0.5rem\">p_w</span>\n",
       "</mark>\n",
       "that the \n",
       "<mark class=\"entity\" style=\"background: #c2e9fb; padding: 0.45em 0.6em; margin: 0 0.25em; line-height: 1; border-radius: 0.35em;\">\n",
       "    [revenue]\n",
       "    <span style=\"font-size: 0.8em; font-weight: bold; line-height: 1; border-radius: 0.35em; vertical-align: middle; margin-left: 0.5rem\">p_a</span>\n",
       "</mark>\n",
       " at \n",
       "<mark class=\"entity\" style=\"background: #fad0c4; padding: 0.45em 0.6em; margin: 0 0.25em; line-height: 1; border-radius: 0.35em;\">\n",
       "    [Apple]\n",
       "    <span style=\"font-size: 0.8em; font-weight: bold; line-height: 1; border-radius: 0.35em; vertical-align: middle; margin-left: 0.5rem\">p_o</span>\n",
       "</mark>\n",
       "\n",
       "<mark class=\"entity\" style=\"background: #f9e24f; padding: 0.45em 0.6em; margin: 0 0.25em; line-height: 1; border-radius: 0.35em;\">\n",
       "     [will likely]\n",
       "    <span style=\"font-size: 0.8em; font-weight: bold; line-height: 1; border-radius: 0.35em; vertical-align: middle; margin-left: 0.5rem\">p_v</span>\n",
       "</mark>\n",
       "\n",
       "<mark class=\"entity\" style=\"background: #21f7f6; padding: 0.45em 0.6em; margin: 0 0.25em; line-height: 1; border-radius: 0.35em;\">\n",
       "     [decrease]\n",
       "    <span style=\"font-size: 0.8em; font-weight: bold; line-height: 1; border-radius: 0.35em; vertical-align: middle; margin-left: 0.5rem\">p_s</span>\n",
       "</mark>\n",
       " by \n",
       "<mark class=\"entity\" style=\"background: #ffb214; padding: 0.45em 0.6em; margin: 0 0.25em; line-height: 1; border-radius: 0.35em;\">\n",
       "    [5 percent to $20 billion]\n",
       "    <span style=\"font-size: 0.8em; font-weight: bold; line-height: 1; border-radius: 0.35em; vertical-align: middle; margin-left: 0.5rem\">p_m</span>\n",
       "</mark>\n",
       " in \n",
       "<mark class=\"entity\" style=\"background: #fcb69f; padding: 0.45em 0.6em; margin: 0 0.25em; line-height: 1; border-radius: 0.35em;\">\n",
       "    [2025 Q1]\n",
       "    <span style=\"font-size: 0.8em; font-weight: bold; line-height: 1; border-radius: 0.35em; vertical-align: middle; margin-left: 0.5rem\">p_f</span>\n",
       "</mark>\n",
       ".</div></span>"
      ],
      "text/plain": [
       "<IPython.core.display.HTML object>"
      ]
     },
     "metadata": {},
     "output_type": "display_data"
    }
   ],
   "source": [
    "title = \"Financial Prediction Template 1\"\n",
    "text = \"On [ $p_t$ ], [ $p_p$ ] [ $p_w$ ] that the [ $p_a$ ] at [ $p_o$ ] [ $p_v$ ] [ $p_s$ ] by [ $p_m$ ] in [ $p_f$ ].\"\n",
    "entities = [\n",
    "    {\"start\": 3, \"end\": 12, \"label\": \"p_t\"},\n",
    "    {\"start\": 14, \"end\": 23, \"label\": \"p_p\"},\n",
    "    {\"start\": 24, \"end\": 33, \"label\": \"p_w\"},\n",
    "    {\"start\": 43, \"end\": 53, \"label\": \"p_a\"},\n",
    "    {\"start\": 55, \"end\": 65, \"label\": \"p_o\"},\n",
    "    {\"start\": 66, \"end\": 76, \"label\": \"p_v\"},\n",
    "    {\"start\": 76, \"end\": 86, \"label\": \"p_s\"},\n",
    "    {\"start\": 89, \"end\": 99, \"label\": \"p_m\"},\n",
    "    {\"start\": 102, \"end\": 111, \"label\": \"p_f\"}\n",
    "]\n",
    "create_visualization(text, entities, title, colors)\n",
    "\n",
    "title = \"Financial Prediction Example\"\n",
    "text = \"On [Monday, December 16, 2024], [Detravious, an investor] [forecasts] that the [revenue] at [Apple] [will likely] [decrease] by [5 percent to $20 billion] in [2025 Q1].\"\n",
    "entities = [\n",
    "    {\"start\": 3, \"end\": 30, \"label\": \"p_t\"},\n",
    "    {\"start\": 32, \"end\": 57, \"label\": \"p_p\"},\n",
    "    {\"start\": 58, \"end\": 70, \"label\": \"p_w\"},\n",
    "    {\"start\": 79, \"end\": 88, \"label\": \"p_a\"},\n",
    "    {\"start\": 92, \"end\": 99, \"label\": \"p_o\"},\n",
    "    {\"start\": 99, \"end\": 113, \"label\": \"p_v\"},\n",
    "    {\"start\": 113, \"end\": 124, \"label\": \"p_s\"},\n",
    "    {\"start\": 128, \"end\": 154, \"label\": \"p_m\"},\n",
    "    {\"start\": 158, \"end\": 167, \"label\": \"p_f\"}\n",
    "]\n",
    "\n",
    "create_visualization(text, entities, title, colors)\n"
   ]
  },
  {
   "cell_type": "code",
   "execution_count": null,
   "metadata": {},
   "outputs": [],
   "source": []
  },
  {
   "cell_type": "code",
   "execution_count": null,
   "metadata": {},
   "outputs": [],
   "source": [
    "import os\n",
    "import sys\n",
    "\n",
    "import pandas as pd\n",
    "\n",
    "from IPython.display import Image\n",
    "\n",
    "# Get the current working directory of the notebook\n",
    "notebook_dir = os.getcwd()\n",
    "# Add the parent directory to the system path\n",
    "sys.path.append(os.path.join(notebook_dir, '../'))\n",
    "\n",
    "from data_processing import DataProcessing\n",
    "from feature_extraction import TfidfFeatureExtraction, SpacyFeatureExtraction"
   ]
  },
  {
   "cell_type": "code",
   "execution_count": null,
   "metadata": {},
   "outputs": [],
   "source": [
    "pd.set_option('max_colwidth', 800)\n",
    "pd.set_option('display.max_columns', None)\n",
    "pd.set_option('display.max_rows', None)\n",
    "ex_text = \"On Monday, December 16, 2024, Detravious, an investor forecasts that the revenue at Apple will likely increase by 5 percent to $20 billion in 2025 Q1.\"\n",
    "label = 1\n",
    "ex_df = pd.DataFrame([ex_text], columns=[\"Base Sentence\"])\n",
    "ex_df[\"Sentence Label\"] = label\n",
    "ex_df"
   ]
  },
  {
   "cell_type": "code",
   "execution_count": null,
   "metadata": {},
   "outputs": [],
   "source": [
    "max_features = None\n",
    "\n",
    "tf_idf_feature_extractor = TfidfFeatureExtraction(ex_df, 'Base Sentence')\n",
    "tfidf_vectorized_features = tf_idf_feature_extractor.word_feature_extraction(max_features)\n",
    "tfidf_vectorized_features"
   ]
  },
  {
   "cell_type": "code",
   "execution_count": null,
   "metadata": {},
   "outputs": [],
   "source": [
    "# tfidf_vectorized_features_df = tf_idf_feature_extractor.feature_scores(max_features)\n",
    "# tfidf_vectorized_features_df"
   ]
  },
  {
   "cell_type": "code",
   "execution_count": null,
   "metadata": {},
   "outputs": [],
   "source": [
    "# initialize the spacy model\n",
    "spacy_feature_extractor = SpacyFeatureExtraction(ex_df, 'Base Sentence')\n",
    "spacy_feature_extractor"
   ]
  },
  {
   "cell_type": "code",
   "execution_count": null,
   "metadata": {},
   "outputs": [],
   "source": [
    "only_predictions = DataProcessing.df_to_list(ex_df, 'Base Sentence')\n",
    "only_predictions"
   ]
  },
  {
   "cell_type": "code",
   "execution_count": null,
   "metadata": {},
   "outputs": [],
   "source": [
    "word_leveL_disable_components = [\"lemmatizer\"]\n",
    "word_level_pos_tags, word_level_pos_mappings, word_level_ner_entities, word_level_ner_mappings = spacy_feature_extractor.extract_entities(only_predictions, word_leveL_disable_components, visualize=True)"
   ]
  },
  {
   "cell_type": "code",
   "execution_count": null,
   "metadata": {},
   "outputs": [],
   "source": [
    "all_word_level_pos_df = DataProcessing.convert_to_df(word_level_pos_tags, mapping=word_level_pos_mappings)\n",
    "all_word_level_pos_df"
   ]
  },
  {
   "cell_type": "code",
   "execution_count": null,
   "metadata": {},
   "outputs": [],
   "source": [
    "all_word_level_ner_df = DataProcessing.convert_to_df(word_level_ner_entities, word_level_ner_mappings)\n",
    "all_word_level_ner_df"
   ]
  },
  {
   "cell_type": "code",
   "execution_count": null,
   "metadata": {},
   "outputs": [],
   "source": [
    "# word_level_tags_entities = [all_word_level_pos_df, all_word_level_ner_df]\n",
    "# word_level_tags_entities_df = DataProcessing.concat_dfs(word_level_tags_entities, axis=1, ignore_index=False)\n",
    "# word_level_tags_entities_df"
   ]
  },
  {
   "cell_type": "code",
   "execution_count": null,
   "metadata": {},
   "outputs": [],
   "source": [
    "# encoded_word_level_tags_entities_df = DataProcessing.encode_tags_entities_df(word_level_tags_entities_df, sentence_and_label_df=ex_df)\n",
    "# encoded_word_level_tags_entities_df"
   ]
  },
  {
   "cell_type": "code",
   "execution_count": null,
   "metadata": {},
   "outputs": [],
   "source": [
    "# import spacy\n",
    "# from spacy import displacy\n",
    "\n",
    "\n",
    "# nlp = spacy.load(\"en_core_web_sm\")\n",
    "# doc = nlp(ex_text)\n",
    "# displacy.serve(doc, style=\"ent\", auto_select_port=True)"
   ]
  },
  {
   "cell_type": "code",
   "execution_count": null,
   "metadata": {},
   "outputs": [],
   "source": []
  }
 ],
 "metadata": {
  "kernelspec": {
   "display_name": "predictions",
   "language": "python",
   "name": "python3"
  },
  "language_info": {
   "codemirror_mode": {
    "name": "ipython",
    "version": 3
   },
   "file_extension": ".py",
   "mimetype": "text/x-python",
   "name": "python",
   "nbconvert_exporter": "python",
   "pygments_lexer": "ipython3",
   "version": "3.11.0"
  }
 },
 "nbformat": 4,
 "nbformat_minor": 2
}
