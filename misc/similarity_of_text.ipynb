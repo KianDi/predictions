{
 "cells": [
  {
   "cell_type": "markdown",
   "metadata": {},
   "source": [
    "# How similar is the text?"
   ]
  },
  {
   "cell_type": "code",
   "execution_count": 1,
   "metadata": {},
   "outputs": [],
   "source": [
    "import os, sys, spacy\n",
    "\n",
    "import pandas as pd\n",
    "import gensim.downloader as api\n",
    "\n",
    "# Get the current working directory of the notebook\n",
    "notebook_dir = os.getcwd()\n",
    "# Add the parent directory to the system path\n",
    "sys.path.append(os.path.join(notebook_dir, '../'))\n",
    "\n",
    "from feature_extraction import SpacyFeatureExtraction\n",
    "# from data_processing import DataProcessing"
   ]
  },
  {
   "cell_type": "code",
   "execution_count": 2,
   "metadata": {},
   "outputs": [],
   "source": [
    "load_nlp_model = spacy.load(\"en_core_web_md\")\n",
    "# pretrained_word_two_vec_model = api.load('word2vec-google-news-300')"
   ]
  },
  {
   "cell_type": "code",
   "execution_count": 59,
   "metadata": {},
   "outputs": [],
   "source": [
    "mappings = {\n",
    "    \"I predict it will be sunny on 4 April 2025.\" : [\"It was sunny on 4 April 2025.\", \"It was not sunny on 4 April 2025.\"],\n",
    "    \"Apple's stock will rise by 10%.\" : [\"Apple's stock rose by 11%.\", \"Apple's stock rose by 900%.\", \"Apple's stock rose by 10%.\"]\n",
    "}\n",
    "\n",
    "mappings = {\n",
    "    \"Tesla's stock will rise by 10%.\" : [\"Apple's stock will rise by 10%.\", \"Apple's stock rose by 11%.\", \"Apple's stock rose by 10%.\", \"Apple's stock rose by 900%.\"]\n",
    "}\n",
    "\n",
    "mappings = {\n",
    "    \"Tesla's stock will rise by 10%.\" : [\"Apple's stock will rise by 10%.\", \"Apple's stock rose by 11%.\", \"Apple's stock rose by 10%.\", \"Apple's stock rose by 900%.\"],\n",
    "    \"Apple's stock will rise by 10%.\" : [\"Apple's stock will rise by 10%.\", \"Apple's stock rose by 11%.\", \"Apple's stock rose by 900%.\", \"Apple's stock rose by 10%.\"]\n",
    "}"
   ]
  },
  {
   "cell_type": "code",
   "execution_count": 60,
   "metadata": {},
   "outputs": [
    {
     "name": "stdout",
     "output_type": "stream",
     "text": [
      "Prediction: Tesla's stock will rise by 10%.\n",
      "    Observation: Apple's stock will rise by 10%.\n",
      "    Similarity: 0.948739442627313\n",
      "\n",
      "    Observation: Apple's stock rose by 11%.\n",
      "    Similarity: 0.8743882813030235\n",
      "\n",
      "    Observation: Apple's stock rose by 10%.\n",
      "    Similarity: 0.8743882813030235\n",
      "\n",
      "    Observation: Apple's stock rose by 900%.\n",
      "    Similarity: 0.8511686894801594\n",
      "\n",
      "Prediction: Apple's stock will rise by 10%.\n",
      "    Observation: Apple's stock will rise by 10%.\n",
      "    Similarity: 1.0\n",
      "\n",
      "    Observation: Apple's stock rose by 11%.\n",
      "    Similarity: 0.9399013747850621\n",
      "\n",
      "    Observation: Apple's stock rose by 900%.\n",
      "    Similarity: 0.9199637743259186\n",
      "\n",
      "    Observation: Apple's stock rose by 10%.\n",
      "    Similarity: 0.9399013747850621\n",
      "\n"
     ]
    }
   ],
   "source": [
    "load_nlp_model = spacy.load(\"en_core_web_md\")\n",
    "\n",
    "all_mappings = {} # Mapping of predictions to observations\n",
    "pom_mappings = {} # Mapping of predictions to observations to metrics/scoresl pos can be misleading\n",
    "\n",
    "oms = []\n",
    "for prediction in mappings.keys():\n",
    "    print(f\"Prediction: {prediction}\")\n",
    "\n",
    "    om_mappings = {} # Mapping of observations to metrics/scores\n",
    "\n",
    "    for observation in mappings[prediction]:\n",
    "        print(f\"    Observation: {observation}\")\n",
    "\n",
    "        # Calculate the similarity score\n",
    "        prediction_doc = load_nlp_model(prediction)\n",
    "        observation_doc = load_nlp_model(observation)\n",
    "        similarity = prediction_doc.similarity(observation_doc)\n",
    "        print(f\"    Similarity: {similarity}\")\n",
    "        om_mappings[observation] = [similarity]\n",
    "        print()   \n",
    "        # print(f\"    OM Mapping: {om_mappings}\")\n",
    "    pom_mappings[prediction] = om_mappings\n"
   ]
  },
  {
   "cell_type": "code",
   "execution_count": 61,
   "metadata": {},
   "outputs": [
    {
     "data": {
      "text/plain": [
       "{\"Tesla's stock will rise by 10%.\": {\"Apple's stock will rise by 10%.\": [0.948739442627313],\n",
       "  \"Apple's stock rose by 11%.\": [0.8743882813030235],\n",
       "  \"Apple's stock rose by 10%.\": [0.8743882813030235],\n",
       "  \"Apple's stock rose by 900%.\": [0.8511686894801594]},\n",
       " \"Apple's stock will rise by 10%.\": {\"Apple's stock will rise by 10%.\": [1.0],\n",
       "  \"Apple's stock rose by 11%.\": [0.9399013747850621],\n",
       "  \"Apple's stock rose by 900%.\": [0.9199637743259186],\n",
       "  \"Apple's stock rose by 10%.\": [0.9399013747850621]}}"
      ]
     },
     "execution_count": 61,
     "metadata": {},
     "output_type": "execute_result"
    }
   ],
   "source": [
    "pom_mappings"
   ]
  },
  {
   "cell_type": "code",
   "execution_count": 62,
   "metadata": {},
   "outputs": [
    {
     "data": {
      "text/html": [
       "<div>\n",
       "<style scoped>\n",
       "    .dataframe tbody tr th:only-of-type {\n",
       "        vertical-align: middle;\n",
       "    }\n",
       "\n",
       "    .dataframe tbody tr th {\n",
       "        vertical-align: top;\n",
       "    }\n",
       "\n",
       "    .dataframe thead th {\n",
       "        text-align: right;\n",
       "    }\n",
       "</style>\n",
       "<table border=\"1\" class=\"dataframe\">\n",
       "  <thead>\n",
       "    <tr style=\"text-align: right;\">\n",
       "      <th></th>\n",
       "      <th>Prediction</th>\n",
       "      <th>Observation</th>\n",
       "      <th>Spacy Similarity</th>\n",
       "    </tr>\n",
       "  </thead>\n",
       "  <tbody>\n",
       "    <tr>\n",
       "      <th>0</th>\n",
       "      <td>Tesla's stock will rise by 10%.</td>\n",
       "      <td>Apple's stock will rise by 10%.</td>\n",
       "      <td>0.948739</td>\n",
       "    </tr>\n",
       "    <tr>\n",
       "      <th>1</th>\n",
       "      <td>Tesla's stock will rise by 10%.</td>\n",
       "      <td>Apple's stock rose by 11%.</td>\n",
       "      <td>0.874388</td>\n",
       "    </tr>\n",
       "    <tr>\n",
       "      <th>2</th>\n",
       "      <td>Tesla's stock will rise by 10%.</td>\n",
       "      <td>Apple's stock rose by 10%.</td>\n",
       "      <td>0.874388</td>\n",
       "    </tr>\n",
       "    <tr>\n",
       "      <th>3</th>\n",
       "      <td>Tesla's stock will rise by 10%.</td>\n",
       "      <td>Apple's stock rose by 900%.</td>\n",
       "      <td>0.851169</td>\n",
       "    </tr>\n",
       "    <tr>\n",
       "      <th>4</th>\n",
       "      <td>Apple's stock will rise by 10%.</td>\n",
       "      <td>Apple's stock will rise by 10%.</td>\n",
       "      <td>1.000000</td>\n",
       "    </tr>\n",
       "    <tr>\n",
       "      <th>5</th>\n",
       "      <td>Apple's stock will rise by 10%.</td>\n",
       "      <td>Apple's stock rose by 11%.</td>\n",
       "      <td>0.939901</td>\n",
       "    </tr>\n",
       "    <tr>\n",
       "      <th>6</th>\n",
       "      <td>Apple's stock will rise by 10%.</td>\n",
       "      <td>Apple's stock rose by 900%.</td>\n",
       "      <td>0.919964</td>\n",
       "    </tr>\n",
       "    <tr>\n",
       "      <th>7</th>\n",
       "      <td>Apple's stock will rise by 10%.</td>\n",
       "      <td>Apple's stock rose by 10%.</td>\n",
       "      <td>0.939901</td>\n",
       "    </tr>\n",
       "  </tbody>\n",
       "</table>\n",
       "</div>"
      ],
      "text/plain": [
       "                        Prediction                      Observation  \\\n",
       "0  Tesla's stock will rise by 10%.  Apple's stock will rise by 10%.   \n",
       "1  Tesla's stock will rise by 10%.       Apple's stock rose by 11%.   \n",
       "2  Tesla's stock will rise by 10%.       Apple's stock rose by 10%.   \n",
       "3  Tesla's stock will rise by 10%.      Apple's stock rose by 900%.   \n",
       "4  Apple's stock will rise by 10%.  Apple's stock will rise by 10%.   \n",
       "5  Apple's stock will rise by 10%.       Apple's stock rose by 11%.   \n",
       "6  Apple's stock will rise by 10%.      Apple's stock rose by 900%.   \n",
       "7  Apple's stock will rise by 10%.       Apple's stock rose by 10%.   \n",
       "\n",
       "   Spacy Similarity  \n",
       "0          0.948739  \n",
       "1          0.874388  \n",
       "2          0.874388  \n",
       "3          0.851169  \n",
       "4          1.000000  \n",
       "5          0.939901  \n",
       "6          0.919964  \n",
       "7          0.939901  "
      ]
     },
     "execution_count": 62,
     "metadata": {},
     "output_type": "execute_result"
    }
   ],
   "source": [
    "# Flatten the dictionary into a list of rows\n",
    "data = []\n",
    "for prediction, observations in pom_mappings.items():\n",
    "    for observation, scores in observations.items():\n",
    "        data.append([prediction, observation, scores[0]])\n",
    "\n",
    "# Create the DataFrame\n",
    "df = pd.DataFrame(data, columns=['Prediction', 'Observation', 'Spacy Similarity'])\n",
    "\n",
    "# Display the DataFrame\n",
    "df"
   ]
  },
  {
   "cell_type": "code",
   "execution_count": 67,
   "metadata": {},
   "outputs": [
    {
     "ename": "KeyError",
     "evalue": "0",
     "output_type": "error",
     "traceback": [
      "\u001b[0;31m---------------------------------------------------------------------------\u001b[0m",
      "\u001b[0;31mKeyError\u001b[0m                                  Traceback (most recent call last)",
      "File \u001b[0;32m~/opt/anaconda3/envs/predictions/lib/python3.11/site-packages/pandas/core/indexes/base.py:3805\u001b[0m, in \u001b[0;36mIndex.get_loc\u001b[0;34m(self, key)\u001b[0m\n\u001b[1;32m   3804\u001b[0m \u001b[38;5;28;01mtry\u001b[39;00m:\n\u001b[0;32m-> 3805\u001b[0m     \u001b[38;5;28;01mreturn\u001b[39;00m \u001b[38;5;28;43mself\u001b[39;49m\u001b[38;5;241;43m.\u001b[39;49m\u001b[43m_engine\u001b[49m\u001b[38;5;241;43m.\u001b[39;49m\u001b[43mget_loc\u001b[49m\u001b[43m(\u001b[49m\u001b[43mcasted_key\u001b[49m\u001b[43m)\u001b[49m\n\u001b[1;32m   3806\u001b[0m \u001b[38;5;28;01mexcept\u001b[39;00m \u001b[38;5;167;01mKeyError\u001b[39;00m \u001b[38;5;28;01mas\u001b[39;00m err:\n",
      "File \u001b[0;32mindex.pyx:167\u001b[0m, in \u001b[0;36mpandas._libs.index.IndexEngine.get_loc\u001b[0;34m()\u001b[0m\n",
      "File \u001b[0;32mindex.pyx:196\u001b[0m, in \u001b[0;36mpandas._libs.index.IndexEngine.get_loc\u001b[0;34m()\u001b[0m\n",
      "File \u001b[0;32mpandas/_libs/hashtable_class_helper.pxi:7081\u001b[0m, in \u001b[0;36mpandas._libs.hashtable.PyObjectHashTable.get_item\u001b[0;34m()\u001b[0m\n",
      "File \u001b[0;32mpandas/_libs/hashtable_class_helper.pxi:7089\u001b[0m, in \u001b[0;36mpandas._libs.hashtable.PyObjectHashTable.get_item\u001b[0;34m()\u001b[0m\n",
      "\u001b[0;31mKeyError\u001b[0m: 0",
      "\nThe above exception was the direct cause of the following exception:\n",
      "\u001b[0;31mKeyError\u001b[0m                                  Traceback (most recent call last)",
      "Cell \u001b[0;32mIn[67], line 1\u001b[0m\n\u001b[0;32m----> 1\u001b[0m \u001b[43mdf\u001b[49m\u001b[43m[\u001b[49m\u001b[38;5;241;43m0\u001b[39;49m\u001b[43m]\u001b[49m\n",
      "File \u001b[0;32m~/opt/anaconda3/envs/predictions/lib/python3.11/site-packages/pandas/core/frame.py:4102\u001b[0m, in \u001b[0;36mDataFrame.__getitem__\u001b[0;34m(self, key)\u001b[0m\n\u001b[1;32m   4100\u001b[0m \u001b[38;5;28;01mif\u001b[39;00m \u001b[38;5;28mself\u001b[39m\u001b[38;5;241m.\u001b[39mcolumns\u001b[38;5;241m.\u001b[39mnlevels \u001b[38;5;241m>\u001b[39m \u001b[38;5;241m1\u001b[39m:\n\u001b[1;32m   4101\u001b[0m     \u001b[38;5;28;01mreturn\u001b[39;00m \u001b[38;5;28mself\u001b[39m\u001b[38;5;241m.\u001b[39m_getitem_multilevel(key)\n\u001b[0;32m-> 4102\u001b[0m indexer \u001b[38;5;241m=\u001b[39m \u001b[38;5;28;43mself\u001b[39;49m\u001b[38;5;241;43m.\u001b[39;49m\u001b[43mcolumns\u001b[49m\u001b[38;5;241;43m.\u001b[39;49m\u001b[43mget_loc\u001b[49m\u001b[43m(\u001b[49m\u001b[43mkey\u001b[49m\u001b[43m)\u001b[49m\n\u001b[1;32m   4103\u001b[0m \u001b[38;5;28;01mif\u001b[39;00m is_integer(indexer):\n\u001b[1;32m   4104\u001b[0m     indexer \u001b[38;5;241m=\u001b[39m [indexer]\n",
      "File \u001b[0;32m~/opt/anaconda3/envs/predictions/lib/python3.11/site-packages/pandas/core/indexes/base.py:3812\u001b[0m, in \u001b[0;36mIndex.get_loc\u001b[0;34m(self, key)\u001b[0m\n\u001b[1;32m   3807\u001b[0m     \u001b[38;5;28;01mif\u001b[39;00m \u001b[38;5;28misinstance\u001b[39m(casted_key, \u001b[38;5;28mslice\u001b[39m) \u001b[38;5;129;01mor\u001b[39;00m (\n\u001b[1;32m   3808\u001b[0m         \u001b[38;5;28misinstance\u001b[39m(casted_key, abc\u001b[38;5;241m.\u001b[39mIterable)\n\u001b[1;32m   3809\u001b[0m         \u001b[38;5;129;01mand\u001b[39;00m \u001b[38;5;28many\u001b[39m(\u001b[38;5;28misinstance\u001b[39m(x, \u001b[38;5;28mslice\u001b[39m) \u001b[38;5;28;01mfor\u001b[39;00m x \u001b[38;5;129;01min\u001b[39;00m casted_key)\n\u001b[1;32m   3810\u001b[0m     ):\n\u001b[1;32m   3811\u001b[0m         \u001b[38;5;28;01mraise\u001b[39;00m InvalidIndexError(key)\n\u001b[0;32m-> 3812\u001b[0m     \u001b[38;5;28;01mraise\u001b[39;00m \u001b[38;5;167;01mKeyError\u001b[39;00m(key) \u001b[38;5;28;01mfrom\u001b[39;00m\u001b[38;5;250m \u001b[39m\u001b[38;5;21;01merr\u001b[39;00m\n\u001b[1;32m   3813\u001b[0m \u001b[38;5;28;01mexcept\u001b[39;00m \u001b[38;5;167;01mTypeError\u001b[39;00m:\n\u001b[1;32m   3814\u001b[0m     \u001b[38;5;66;03m# If we have a listlike key, _check_indexing_error will raise\u001b[39;00m\n\u001b[1;32m   3815\u001b[0m     \u001b[38;5;66;03m#  InvalidIndexError. Otherwise we fall through and re-raise\u001b[39;00m\n\u001b[1;32m   3816\u001b[0m     \u001b[38;5;66;03m#  the TypeError.\u001b[39;00m\n\u001b[1;32m   3817\u001b[0m     \u001b[38;5;28mself\u001b[39m\u001b[38;5;241m.\u001b[39m_check_indexing_error(key)\n",
      "\u001b[0;31mKeyError\u001b[0m: 0"
     ]
    }
   ],
   "source": [
    "df[0]"
   ]
  },
  {
   "cell_type": "markdown",
   "metadata": {},
   "source": [
    "Comparison\n",
    "1. No focus on #s, more on words"
   ]
  },
  {
   "cell_type": "code",
   "execution_count": 72,
   "metadata": {},
   "outputs": [
    {
     "data": {
      "text/plain": [
       "0.7693690410123013"
      ]
     },
     "execution_count": 72,
     "metadata": {},
     "output_type": "execute_result"
    }
   ],
   "source": [
    "prediction_doc = load_nlp_model(\"10%\")\n",
    "observation_doc = load_nlp_model(\"10.5%\")\n",
    "observation_doc_2 = load_nlp_model(\"11%\")\n",
    "similarity = prediction_doc.similarity(observation_doc)\n",
    "similarity"
   ]
  },
  {
   "cell_type": "code",
   "execution_count": 73,
   "metadata": {},
   "outputs": [
    {
     "data": {
      "text/plain": [
       "0.9999999501502246"
      ]
     },
     "execution_count": 73,
     "metadata": {},
     "output_type": "execute_result"
    }
   ],
   "source": [
    "similarity = prediction_doc.similarity(observation_doc_2)\n",
    "similarity"
   ]
  },
  {
   "cell_type": "code",
   "execution_count": 69,
   "metadata": {},
   "outputs": [
    {
     "data": {
      "text/plain": [
       "0.6711231861889055"
      ]
     },
     "execution_count": 69,
     "metadata": {},
     "output_type": "execute_result"
    }
   ],
   "source": [
    "prediction_doc = load_nlp_model(\"Apple's stock\")\n",
    "observation_doc = load_nlp_model(\"Tesla's stock\")\n",
    "similarity = prediction_doc.similarity(observation_doc)\n",
    "similarity"
   ]
  },
  {
   "cell_type": "code",
   "execution_count": null,
   "metadata": {},
   "outputs": [],
   "source": []
  }
 ],
 "metadata": {
  "kernelspec": {
   "display_name": "predictions",
   "language": "python",
   "name": "python3"
  },
  "language_info": {
   "codemirror_mode": {
    "name": "ipython",
    "version": 3
   },
   "file_extension": ".py",
   "mimetype": "text/x-python",
   "name": "python",
   "nbconvert_exporter": "python",
   "pygments_lexer": "ipython3",
   "version": "3.11.0"
  }
 },
 "nbformat": 4,
 "nbformat_minor": 2
}
