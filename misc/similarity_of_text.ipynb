{
 "cells": [
  {
   "cell_type": "markdown",
   "metadata": {},
   "source": [
    "# How similar is the text?"
   ]
  },
  {
   "cell_type": "code",
   "execution_count": 1,
   "metadata": {},
   "outputs": [],
   "source": [
    "import os, sys, spacy\n",
    "\n",
    "import pandas as pd\n",
    "import gensim.downloader as api\n",
    "\n",
    "# Get the current working directory of the notebook\n",
    "notebook_dir = os.getcwd()\n",
    "# Add the parent directory to the system path\n",
    "sys.path.append(os.path.join(notebook_dir, '../'))\n",
    "\n",
    "from feature_extraction import SpacyFeatureExtraction\n",
    "# from data_processing import DataProcessing"
   ]
  },
  {
   "cell_type": "code",
   "execution_count": 2,
   "metadata": {},
   "outputs": [],
   "source": [
    "load_nlp_model = spacy.load(\"en_core_web_md\")\n",
    "# pretrained_word_two_vec_model = api.load('word2vec-google-news-300')"
   ]
  },
  {
   "cell_type": "code",
   "execution_count": 3,
   "metadata": {},
   "outputs": [],
   "source": [
    "mappings = {\n",
    "    \"I predict it will be sunny on 4 April 2025.\" : [\"It was sunny on 4 April 2025.\", \"It was not sunny on 4 April 2025.\"],\n",
    "    \"Apple's stock will rise by 10%.\" : [\"Apple's stock rose by 11%.\", \"Apple's stock rose by 900%.\", \"Apple's stock rose by 10%.\"]\n",
    "}\n",
    "\n",
    "mappings = {\n",
    "    \"Tesla's stock will rise by 10%.\" : [\"Apple's stock will rise by 10%.\", \"Apple's stock rose by 11%.\", \"Apple's stock rose by 10%.\", \"Apple's stock rose by 900%.\"]\n",
    "}\n",
    "\n",
    "mappings = {\n",
    "    \"Tesla's stock will rise by 10%.\" : [\"Apple's stock will rise by 10%.\", \"Apple's stock rose by 11%.\", \"Apple's stock rose by 10%.\", \"Apple's stock rose by 900%.\"],\n",
    "    \"Apple's stock will rise by 10%.\" : [\"Apple's stock will rise by 10%.\", \"Apple's stock rose by 11%.\", \"Apple's stock rose by 900%.\", \"Apple's stock rose by 10%.\"]\n",
    "}"
   ]
  },
  {
   "cell_type": "code",
   "execution_count": 4,
   "metadata": {},
   "outputs": [
    {
     "name": "stdout",
     "output_type": "stream",
     "text": [
      "Prediction: Tesla's stock will rise by 10%.\n",
      "    Observation: Apple's stock will rise by 10%.\n",
      "    Similarity: 0.948739442627313\n",
      "\n",
      "    Observation: Apple's stock rose by 11%.\n",
      "    Similarity: 0.8743882813030235\n",
      "\n",
      "    Observation: Apple's stock rose by 10%.\n",
      "    Similarity: 0.8743882813030235\n",
      "\n",
      "    Observation: Apple's stock rose by 900%.\n",
      "    Similarity: 0.8511686894801594\n",
      "\n",
      "Prediction: Apple's stock will rise by 10%.\n",
      "    Observation: Apple's stock will rise by 10%.\n",
      "    Similarity: 1.0\n",
      "\n",
      "    Observation: Apple's stock rose by 11%.\n",
      "    Similarity: 0.9399013747850621\n",
      "\n",
      "    Observation: Apple's stock rose by 900%.\n",
      "    Similarity: 0.9199637743259186\n",
      "\n",
      "    Observation: Apple's stock rose by 10%.\n",
      "    Similarity: 0.9399013747850621\n",
      "\n"
     ]
    }
   ],
   "source": [
    "load_nlp_model = spacy.load(\"en_core_web_md\")\n",
    "\n",
    "all_mappings = {} # Mapping of predictions to observations\n",
    "pom_mappings = {} # Mapping of predictions to observations to metrics/scoresl pos can be misleading\n",
    "\n",
    "oms = []\n",
    "for prediction in mappings.keys():\n",
    "    print(f\"Prediction: {prediction}\")\n",
    "\n",
    "    om_mappings = {} # Mapping of observations to metrics/scores\n",
    "\n",
    "    for observation in mappings[prediction]:\n",
    "        print(f\"    Observation: {observation}\")\n",
    "\n",
    "        # Calculate the similarity score\n",
    "        prediction_doc = load_nlp_model(prediction)\n",
    "        observation_doc = load_nlp_model(observation)\n",
    "        similarity = prediction_doc.similarity(observation_doc)\n",
    "        print(f\"    Similarity: {similarity}\")\n",
    "        om_mappings[observation] = [similarity]\n",
    "        print()   \n",
    "        # print(f\"    OM Mapping: {om_mappings}\")\n",
    "    pom_mappings[prediction] = om_mappings\n"
   ]
  },
  {
   "cell_type": "code",
   "execution_count": 5,
   "metadata": {},
   "outputs": [
    {
     "data": {
      "text/plain": [
       "{\"Tesla's stock will rise by 10%.\": {\"Apple's stock will rise by 10%.\": [0.948739442627313],\n",
       "  \"Apple's stock rose by 11%.\": [0.8743882813030235],\n",
       "  \"Apple's stock rose by 10%.\": [0.8743882813030235],\n",
       "  \"Apple's stock rose by 900%.\": [0.8511686894801594]},\n",
       " \"Apple's stock will rise by 10%.\": {\"Apple's stock will rise by 10%.\": [1.0],\n",
       "  \"Apple's stock rose by 11%.\": [0.9399013747850621],\n",
       "  \"Apple's stock rose by 900%.\": [0.9199637743259186],\n",
       "  \"Apple's stock rose by 10%.\": [0.9399013747850621]}}"
      ]
     },
     "execution_count": 5,
     "metadata": {},
     "output_type": "execute_result"
    }
   ],
   "source": [
    "pom_mappings"
   ]
  },
  {
   "cell_type": "code",
   "execution_count": 6,
   "metadata": {},
   "outputs": [
    {
     "data": {
      "text/html": [
       "<div>\n",
       "<style scoped>\n",
       "    .dataframe tbody tr th:only-of-type {\n",
       "        vertical-align: middle;\n",
       "    }\n",
       "\n",
       "    .dataframe tbody tr th {\n",
       "        vertical-align: top;\n",
       "    }\n",
       "\n",
       "    .dataframe thead th {\n",
       "        text-align: right;\n",
       "    }\n",
       "</style>\n",
       "<table border=\"1\" class=\"dataframe\">\n",
       "  <thead>\n",
       "    <tr style=\"text-align: right;\">\n",
       "      <th></th>\n",
       "      <th>Prediction</th>\n",
       "      <th>Observation</th>\n",
       "      <th>Spacy Similarity</th>\n",
       "    </tr>\n",
       "  </thead>\n",
       "  <tbody>\n",
       "    <tr>\n",
       "      <th>0</th>\n",
       "      <td>Tesla's stock will rise by 10%.</td>\n",
       "      <td>Apple's stock will rise by 10%.</td>\n",
       "      <td>0.948739</td>\n",
       "    </tr>\n",
       "    <tr>\n",
       "      <th>1</th>\n",
       "      <td>Tesla's stock will rise by 10%.</td>\n",
       "      <td>Apple's stock rose by 11%.</td>\n",
       "      <td>0.874388</td>\n",
       "    </tr>\n",
       "    <tr>\n",
       "      <th>2</th>\n",
       "      <td>Tesla's stock will rise by 10%.</td>\n",
       "      <td>Apple's stock rose by 10%.</td>\n",
       "      <td>0.874388</td>\n",
       "    </tr>\n",
       "    <tr>\n",
       "      <th>3</th>\n",
       "      <td>Tesla's stock will rise by 10%.</td>\n",
       "      <td>Apple's stock rose by 900%.</td>\n",
       "      <td>0.851169</td>\n",
       "    </tr>\n",
       "    <tr>\n",
       "      <th>4</th>\n",
       "      <td>Apple's stock will rise by 10%.</td>\n",
       "      <td>Apple's stock will rise by 10%.</td>\n",
       "      <td>1.000000</td>\n",
       "    </tr>\n",
       "    <tr>\n",
       "      <th>5</th>\n",
       "      <td>Apple's stock will rise by 10%.</td>\n",
       "      <td>Apple's stock rose by 11%.</td>\n",
       "      <td>0.939901</td>\n",
       "    </tr>\n",
       "    <tr>\n",
       "      <th>6</th>\n",
       "      <td>Apple's stock will rise by 10%.</td>\n",
       "      <td>Apple's stock rose by 900%.</td>\n",
       "      <td>0.919964</td>\n",
       "    </tr>\n",
       "    <tr>\n",
       "      <th>7</th>\n",
       "      <td>Apple's stock will rise by 10%.</td>\n",
       "      <td>Apple's stock rose by 10%.</td>\n",
       "      <td>0.939901</td>\n",
       "    </tr>\n",
       "  </tbody>\n",
       "</table>\n",
       "</div>"
      ],
      "text/plain": [
       "                        Prediction                      Observation  \\\n",
       "0  Tesla's stock will rise by 10%.  Apple's stock will rise by 10%.   \n",
       "1  Tesla's stock will rise by 10%.       Apple's stock rose by 11%.   \n",
       "2  Tesla's stock will rise by 10%.       Apple's stock rose by 10%.   \n",
       "3  Tesla's stock will rise by 10%.      Apple's stock rose by 900%.   \n",
       "4  Apple's stock will rise by 10%.  Apple's stock will rise by 10%.   \n",
       "5  Apple's stock will rise by 10%.       Apple's stock rose by 11%.   \n",
       "6  Apple's stock will rise by 10%.      Apple's stock rose by 900%.   \n",
       "7  Apple's stock will rise by 10%.       Apple's stock rose by 10%.   \n",
       "\n",
       "   Spacy Similarity  \n",
       "0          0.948739  \n",
       "1          0.874388  \n",
       "2          0.874388  \n",
       "3          0.851169  \n",
       "4          1.000000  \n",
       "5          0.939901  \n",
       "6          0.919964  \n",
       "7          0.939901  "
      ]
     },
     "execution_count": 6,
     "metadata": {},
     "output_type": "execute_result"
    }
   ],
   "source": [
    "# Flatten the dictionary into a list of rows\n",
    "data = []\n",
    "for prediction, observations in pom_mappings.items():\n",
    "    for observation, scores in observations.items():\n",
    "        data.append([prediction, observation, scores[0]])\n",
    "\n",
    "# Create the DataFrame\n",
    "df = pd.DataFrame(data, columns=['Prediction', 'Observation', 'Spacy Similarity'])\n",
    "\n",
    "# Display the DataFrame\n",
    "df"
   ]
  },
  {
   "cell_type": "code",
   "execution_count": 8,
   "metadata": {},
   "outputs": [
    {
     "ename": "KeyError",
     "evalue": "4",
     "output_type": "error",
     "traceback": [
      "\u001b[0;31m---------------------------------------------------------------------------\u001b[0m",
      "\u001b[0;31mKeyError\u001b[0m                                  Traceback (most recent call last)",
      "File \u001b[0;32m~/opt/anaconda3/envs/predictions/lib/python3.11/site-packages/pandas/core/indexes/base.py:3805\u001b[0m, in \u001b[0;36mIndex.get_loc\u001b[0;34m(self, key)\u001b[0m\n\u001b[1;32m   3804\u001b[0m \u001b[38;5;28;01mtry\u001b[39;00m:\n\u001b[0;32m-> 3805\u001b[0m     \u001b[38;5;28;01mreturn\u001b[39;00m \u001b[38;5;28;43mself\u001b[39;49m\u001b[38;5;241;43m.\u001b[39;49m\u001b[43m_engine\u001b[49m\u001b[38;5;241;43m.\u001b[39;49m\u001b[43mget_loc\u001b[49m\u001b[43m(\u001b[49m\u001b[43mcasted_key\u001b[49m\u001b[43m)\u001b[49m\n\u001b[1;32m   3806\u001b[0m \u001b[38;5;28;01mexcept\u001b[39;00m \u001b[38;5;167;01mKeyError\u001b[39;00m \u001b[38;5;28;01mas\u001b[39;00m err:\n",
      "File \u001b[0;32mindex.pyx:167\u001b[0m, in \u001b[0;36mpandas._libs.index.IndexEngine.get_loc\u001b[0;34m()\u001b[0m\n",
      "File \u001b[0;32mindex.pyx:196\u001b[0m, in \u001b[0;36mpandas._libs.index.IndexEngine.get_loc\u001b[0;34m()\u001b[0m\n",
      "File \u001b[0;32mpandas/_libs/hashtable_class_helper.pxi:7081\u001b[0m, in \u001b[0;36mpandas._libs.hashtable.PyObjectHashTable.get_item\u001b[0;34m()\u001b[0m\n",
      "File \u001b[0;32mpandas/_libs/hashtable_class_helper.pxi:7089\u001b[0m, in \u001b[0;36mpandas._libs.hashtable.PyObjectHashTable.get_item\u001b[0;34m()\u001b[0m\n",
      "\u001b[0;31mKeyError\u001b[0m: 4",
      "\nThe above exception was the direct cause of the following exception:\n",
      "\u001b[0;31mKeyError\u001b[0m                                  Traceback (most recent call last)",
      "Cell \u001b[0;32mIn[8], line 1\u001b[0m\n\u001b[0;32m----> 1\u001b[0m df[\u001b[38;5;241m2\u001b[39m][\u001b[38;5;124m'\u001b[39m\u001b[38;5;124mObservation\u001b[39m\u001b[38;5;124m'\u001b[39m]\u001b[38;5;241m.\u001b[39mvector \u001b[38;5;241m=\u001b[39m \u001b[43mdf\u001b[49m\u001b[43m[\u001b[49m\u001b[38;5;241;43m4\u001b[39;49m\u001b[43m]\u001b[49m[\u001b[38;5;124m'\u001b[39m\u001b[38;5;124mObservation\u001b[39m\u001b[38;5;124m'\u001b[39m]\u001b[38;5;241m.\u001b[39mvector\n",
      "File \u001b[0;32m~/opt/anaconda3/envs/predictions/lib/python3.11/site-packages/pandas/core/frame.py:4102\u001b[0m, in \u001b[0;36mDataFrame.__getitem__\u001b[0;34m(self, key)\u001b[0m\n\u001b[1;32m   4100\u001b[0m \u001b[38;5;28;01mif\u001b[39;00m \u001b[38;5;28mself\u001b[39m\u001b[38;5;241m.\u001b[39mcolumns\u001b[38;5;241m.\u001b[39mnlevels \u001b[38;5;241m>\u001b[39m \u001b[38;5;241m1\u001b[39m:\n\u001b[1;32m   4101\u001b[0m     \u001b[38;5;28;01mreturn\u001b[39;00m \u001b[38;5;28mself\u001b[39m\u001b[38;5;241m.\u001b[39m_getitem_multilevel(key)\n\u001b[0;32m-> 4102\u001b[0m indexer \u001b[38;5;241m=\u001b[39m \u001b[38;5;28;43mself\u001b[39;49m\u001b[38;5;241;43m.\u001b[39;49m\u001b[43mcolumns\u001b[49m\u001b[38;5;241;43m.\u001b[39;49m\u001b[43mget_loc\u001b[49m\u001b[43m(\u001b[49m\u001b[43mkey\u001b[49m\u001b[43m)\u001b[49m\n\u001b[1;32m   4103\u001b[0m \u001b[38;5;28;01mif\u001b[39;00m is_integer(indexer):\n\u001b[1;32m   4104\u001b[0m     indexer \u001b[38;5;241m=\u001b[39m [indexer]\n",
      "File \u001b[0;32m~/opt/anaconda3/envs/predictions/lib/python3.11/site-packages/pandas/core/indexes/base.py:3812\u001b[0m, in \u001b[0;36mIndex.get_loc\u001b[0;34m(self, key)\u001b[0m\n\u001b[1;32m   3807\u001b[0m     \u001b[38;5;28;01mif\u001b[39;00m \u001b[38;5;28misinstance\u001b[39m(casted_key, \u001b[38;5;28mslice\u001b[39m) \u001b[38;5;129;01mor\u001b[39;00m (\n\u001b[1;32m   3808\u001b[0m         \u001b[38;5;28misinstance\u001b[39m(casted_key, abc\u001b[38;5;241m.\u001b[39mIterable)\n\u001b[1;32m   3809\u001b[0m         \u001b[38;5;129;01mand\u001b[39;00m \u001b[38;5;28many\u001b[39m(\u001b[38;5;28misinstance\u001b[39m(x, \u001b[38;5;28mslice\u001b[39m) \u001b[38;5;28;01mfor\u001b[39;00m x \u001b[38;5;129;01min\u001b[39;00m casted_key)\n\u001b[1;32m   3810\u001b[0m     ):\n\u001b[1;32m   3811\u001b[0m         \u001b[38;5;28;01mraise\u001b[39;00m InvalidIndexError(key)\n\u001b[0;32m-> 3812\u001b[0m     \u001b[38;5;28;01mraise\u001b[39;00m \u001b[38;5;167;01mKeyError\u001b[39;00m(key) \u001b[38;5;28;01mfrom\u001b[39;00m\u001b[38;5;250m \u001b[39m\u001b[38;5;21;01merr\u001b[39;00m\n\u001b[1;32m   3813\u001b[0m \u001b[38;5;28;01mexcept\u001b[39;00m \u001b[38;5;167;01mTypeError\u001b[39;00m:\n\u001b[1;32m   3814\u001b[0m     \u001b[38;5;66;03m# If we have a listlike key, _check_indexing_error will raise\u001b[39;00m\n\u001b[1;32m   3815\u001b[0m     \u001b[38;5;66;03m#  InvalidIndexError. Otherwise we fall through and re-raise\u001b[39;00m\n\u001b[1;32m   3816\u001b[0m     \u001b[38;5;66;03m#  the TypeError.\u001b[39;00m\n\u001b[1;32m   3817\u001b[0m     \u001b[38;5;28mself\u001b[39m\u001b[38;5;241m.\u001b[39m_check_indexing_error(key)\n",
      "\u001b[0;31mKeyError\u001b[0m: 4"
     ]
    }
   ],
   "source": [
    "df[2]['Observation'].vector = df[4]['Observation'].vector"
   ]
  },
  {
   "cell_type": "markdown",
   "metadata": {},
   "source": [
    "Comparison\n",
    "1. No focus on #s, more on words"
   ]
  },
  {
   "cell_type": "code",
   "execution_count": null,
   "metadata": {},
   "outputs": [],
   "source": [
    "prediction_doc = load_nlp_model(\"10%\")\n",
    "observation_doc = load_nlp_model(\"10.5%\")\n",
    "observation_doc_2 = load_nlp_model(\"11%\")\n",
    "similarity = prediction_doc.similarity(observation_doc)\n",
    "similarity"
   ]
  },
  {
   "cell_type": "code",
   "execution_count": null,
   "metadata": {},
   "outputs": [],
   "source": [
    "similarity = prediction_doc.similarity(observation_doc_2)\n",
    "similarity"
   ]
  },
  {
   "cell_type": "code",
   "execution_count": 9,
   "metadata": {},
   "outputs": [
    {
     "data": {
      "text/plain": [
       "0.9999999324834256"
      ]
     },
     "execution_count": 9,
     "metadata": {},
     "output_type": "execute_result"
    }
   ],
   "source": [
    "prediction_doc = load_nlp_model(\"Apple's stock rose by 10%.\")\n",
    "observation_doc = load_nlp_model(\"Apple's stock rose by 11%.\")\n",
    "similarity = prediction_doc.similarity(observation_doc)\n",
    "similarity"
   ]
  },
  {
   "cell_type": "code",
   "execution_count": 12,
   "metadata": {},
   "outputs": [
    {
     "data": {
      "text/plain": [
       "array([-8.01272571e-01,  1.79031253e-01, -5.82190007e-02, -4.93226722e-02,\n",
       "       -1.86806634e-01,  1.06649976e-02, -2.27949008e-01,  2.23186314e-02,\n",
       "        5.82532510e-02,  1.43173873e+00, -1.91523328e-01,  9.29074958e-02,\n",
       "       -2.82150000e-01, -6.67073764e-03, -1.25323206e-01, -1.95667252e-01,\n",
       "       -2.26755753e-01,  8.04331779e-01, -1.62955493e-01, -1.96525007e-02,\n",
       "       -1.70191228e-02,  1.71808768e-02, -7.93302506e-02,  4.61874530e-04,\n",
       "        1.48741268e-02,  2.48367470e-02, -1.25513121e-01,  1.32563382e-01,\n",
       "       -1.96952522e-02, -1.96085006e-01, -1.53880164e-01,  1.51512586e-03,\n",
       "        1.70807645e-01, -5.63037433e-02,  2.55896240e-01,  7.37582445e-02,\n",
       "       -1.10983491e-01, -1.09516317e-02,  7.29376301e-02, -3.32989991e-02,\n",
       "        4.64804769e-02, -2.20928505e-01,  2.63958365e-01,  2.69109011e-02,\n",
       "        7.65738785e-02,  1.32258952e-01, -1.20638870e-01, -4.43828776e-02,\n",
       "       -6.20492510e-02, -3.91898751e-02, -1.50005758e-01,  1.21044993e-01,\n",
       "       -5.48769608e-02, -6.53337613e-02,  8.17546397e-02, -9.78132561e-02,\n",
       "       -1.41488817e-02,  3.81100029e-02, -4.77225333e-03, -1.76072016e-01,\n",
       "       -8.19525495e-03, -2.41317511e-01, -1.78791001e-01,  1.70843616e-01,\n",
       "        1.05144769e-01, -3.54849994e-02, -6.36593699e-02,  8.24410915e-02,\n",
       "       -6.60475045e-02,  1.75964117e-01,  7.10279942e-02,  2.34320566e-01,\n",
       "        2.81901389e-01,  1.61233786e-02, -9.69272554e-02,  8.81024823e-03,\n",
       "        2.76537597e-01, -6.13357462e-02, -1.48710638e-01,  1.30110756e-01,\n",
       "        1.57660276e-01, -4.69886214e-02,  2.20433660e-02, -1.87703744e-01,\n",
       "        8.63682553e-02, -1.20782424e-02,  4.77482259e-01,  1.07988499e-01,\n",
       "       -4.30149585e-03,  1.72538310e-03,  3.10448498e-01,  2.75517516e-02,\n",
       "        2.53875367e-03, -1.77462131e-01, -8.06538835e-02, -1.53762504e-01,\n",
       "        1.03246376e-01,  1.62979737e-01, -6.11867532e-02,  1.55866221e-02,\n",
       "        6.25611320e-02,  2.14978129e-01, -1.09044984e-01, -1.60076227e-02,\n",
       "       -5.81351444e-02, -7.46392488e-01, -7.75686279e-02, -1.41981006e-01,\n",
       "        1.80031732e-01,  1.85812876e-01,  5.65387867e-03, -2.81406879e-01,\n",
       "       -6.96774945e-02, -1.05632246e-01, -1.87364250e-01,  1.18571758e-01,\n",
       "       -8.64446983e-02, -2.23194271e-01, -4.54491228e-02,  1.11895122e-01,\n",
       "        1.21406630e-01,  2.19683617e-01, -2.78908722e-02, -1.77183747e-02,\n",
       "       -1.11304246e-01,  1.18810004e-02,  6.69675618e-02, -9.46513861e-02,\n",
       "       -2.57090777e-01, -3.47942531e-01,  1.06555946e-01,  1.66290879e-01,\n",
       "        9.55850035e-02,  1.27282888e-01, -1.89003404e-02, -5.87407500e-02,\n",
       "       -1.54066831e-04,  2.47692257e-01, -1.54323652e-01, -1.14185125e-01,\n",
       "       -1.25841630e+00,  5.54096326e-02,  2.10076869e-01, -2.90164966e-02,\n",
       "        2.40816213e-02, -8.20298716e-02,  3.04792523e-02,  5.01819998e-02,\n",
       "        2.09783882e-01, -5.68381213e-02,  3.37302387e-01,  1.35725126e-01,\n",
       "        1.39060125e-01,  1.44763421e-02,  3.63954119e-02, -1.04467362e-01,\n",
       "       -1.42605379e-01,  2.20592767e-01,  1.16877377e-01,  1.14198700e-02,\n",
       "        1.94551237e-02, -8.24462175e-02,  1.15943998e-01, -1.17429629e-01,\n",
       "       -5.42049468e-01, -4.18042503e-02,  3.65647450e-02, -1.72254130e-01,\n",
       "       -4.99895103e-02, -5.63225001e-02,  2.14157268e-01,  8.33927393e-02,\n",
       "       -5.73347434e-02,  5.99396266e-02, -1.08109385e-01,  1.42576128e-01,\n",
       "        9.16274823e-03, -1.24008119e-01,  1.01725623e-01, -1.37974367e-01,\n",
       "        1.60397634e-01,  7.16350228e-03, -2.27335423e-01, -1.29035383e-01,\n",
       "       -1.31798625e-01, -3.43850031e-02, -5.52326255e-02, -3.85378636e-02,\n",
       "        4.56593782e-02,  1.26094252e-01,  4.42135036e-02, -3.14317904e-02,\n",
       "       -1.89255010e-02,  4.03621234e-02, -5.64222485e-02, -1.25895128e-01,\n",
       "        9.07506794e-02,  7.55399987e-02, -3.35774034e-01, -7.20500946e-04,\n",
       "        1.79073632e-01, -1.59671888e-01, -9.10234973e-02,  1.24856234e-02,\n",
       "        2.12107468e-02,  1.40060887e-01,  7.18012527e-02,  1.28768757e-02,\n",
       "        1.41936630e-01, -3.97015028e-02, -3.68851237e-02, -1.22518741e-01,\n",
       "       -1.16431497e-01, -1.88416481e-01,  1.78155191e-02,  6.17497563e-02,\n",
       "        4.40366305e-02, -9.54010636e-02, -2.46782497e-01, -1.50974840e-03,\n",
       "       -7.50247389e-02,  3.15520406e-01, -2.20576987e-01, -2.41380781e-01,\n",
       "        5.55037409e-02, -2.12145057e-02,  1.15750857e-01, -3.03514116e-02,\n",
       "        1.47948861e-01,  6.50316179e-02, -2.98705008e-02, -6.39339983e-02,\n",
       "        2.36015499e-01,  1.44526258e-01, -3.16687524e-02, -1.31877497e-01,\n",
       "       -1.52041279e-02, -1.13447621e-01, -6.47586137e-02, -2.71603137e-01,\n",
       "       -9.14648920e-02, -1.72622129e-01, -5.23197539e-02,  1.31624758e-01,\n",
       "       -2.46685501e-02, -1.95347369e-01,  8.83751549e-04, -3.40898745e-02,\n",
       "       -1.05329007e-01,  2.76023865e-01, -8.28466192e-02,  6.22436684e-03,\n",
       "        1.59686372e-01, -3.90301198e-02,  6.75396919e-02,  1.82130516e-01,\n",
       "        5.50384633e-03, -5.18305041e-02,  6.64435029e-02, -2.62083746e-02,\n",
       "       -4.12912518e-02,  1.66236863e-01,  1.41248740e-02,  1.58915624e-01,\n",
       "        1.64948761e-01,  1.01569638e-01, -1.49288625e-01, -4.59927544e-02,\n",
       "        2.60102123e-01, -1.60708502e-01, -1.11310691e-01, -4.95956242e-02,\n",
       "        8.61349422e-03, -2.28345871e-01, -2.04915136e-01,  1.25797987e-01,\n",
       "       -8.74698833e-02, -2.63887551e-02,  2.60302462e-02,  1.07966259e-01,\n",
       "       -1.26986757e-01, -3.10537536e-02, -9.16026607e-02,  1.51191369e-01,\n",
       "        1.57550633e-01,  1.89842373e-01,  8.82858783e-02, -2.65465885e-01,\n",
       "        2.51111221e-02,  1.69126123e-01, -1.76902115e-01,  1.63080245e-01,\n",
       "       -2.37924978e-03, -1.26237869e-01, -2.02645123e-01, -1.06408373e-01,\n",
       "       -2.27299377e-01, -2.97380000e-01,  1.24003507e-01,  1.42430663e-01],\n",
       "      dtype=float32)"
      ]
     },
     "execution_count": 12,
     "metadata": {},
     "output_type": "execute_result"
    }
   ],
   "source": [
    "prediction_doc.vector"
   ]
  },
  {
   "cell_type": "code",
   "execution_count": 13,
   "metadata": {},
   "outputs": [
    {
     "data": {
      "text/plain": [
       "array([-8.01272571e-01,  1.79031253e-01, -5.82190007e-02, -4.93226722e-02,\n",
       "       -1.86806634e-01,  1.06649976e-02, -2.27949008e-01,  2.23186314e-02,\n",
       "        5.82532510e-02,  1.43173873e+00, -1.91523328e-01,  9.29074958e-02,\n",
       "       -2.82150000e-01, -6.67073764e-03, -1.25323206e-01, -1.95667252e-01,\n",
       "       -2.26755753e-01,  8.04331779e-01, -1.62955493e-01, -1.96525007e-02,\n",
       "       -1.70191228e-02,  1.71808768e-02, -7.93302506e-02,  4.61874530e-04,\n",
       "        1.48741268e-02,  2.48367470e-02, -1.25513121e-01,  1.32563382e-01,\n",
       "       -1.96952522e-02, -1.96085006e-01, -1.53880164e-01,  1.51512586e-03,\n",
       "        1.70807645e-01, -5.63037433e-02,  2.55896240e-01,  7.37582445e-02,\n",
       "       -1.10983491e-01, -1.09516317e-02,  7.29376301e-02, -3.32989991e-02,\n",
       "        4.64804769e-02, -2.20928505e-01,  2.63958365e-01,  2.69109011e-02,\n",
       "        7.65738785e-02,  1.32258952e-01, -1.20638870e-01, -4.43828776e-02,\n",
       "       -6.20492510e-02, -3.91898751e-02, -1.50005758e-01,  1.21044993e-01,\n",
       "       -5.48769608e-02, -6.53337613e-02,  8.17546397e-02, -9.78132561e-02,\n",
       "       -1.41488817e-02,  3.81100029e-02, -4.77225333e-03, -1.76072016e-01,\n",
       "       -8.19525495e-03, -2.41317511e-01, -1.78791001e-01,  1.70843616e-01,\n",
       "        1.05144769e-01, -3.54849994e-02, -6.36593699e-02,  8.24410915e-02,\n",
       "       -6.60475045e-02,  1.75964117e-01,  7.10279942e-02,  2.34320566e-01,\n",
       "        2.81901389e-01,  1.61233786e-02, -9.69272554e-02,  8.81024823e-03,\n",
       "        2.76537597e-01, -6.13357462e-02, -1.48710638e-01,  1.30110756e-01,\n",
       "        1.57660276e-01, -4.69886214e-02,  2.20433660e-02, -1.87703744e-01,\n",
       "        8.63682553e-02, -1.20782424e-02,  4.77482259e-01,  1.07988499e-01,\n",
       "       -4.30149585e-03,  1.72538310e-03,  3.10448498e-01,  2.75517516e-02,\n",
       "        2.53875367e-03, -1.77462131e-01, -8.06538835e-02, -1.53762504e-01,\n",
       "        1.03246376e-01,  1.62979737e-01, -6.11867532e-02,  1.55866221e-02,\n",
       "        6.25611320e-02,  2.14978129e-01, -1.09044984e-01, -1.60076227e-02,\n",
       "       -5.81351444e-02, -7.46392488e-01, -7.75686279e-02, -1.41981006e-01,\n",
       "        1.80031732e-01,  1.85812876e-01,  5.65387867e-03, -2.81406879e-01,\n",
       "       -6.96774945e-02, -1.05632246e-01, -1.87364250e-01,  1.18571758e-01,\n",
       "       -8.64446983e-02, -2.23194271e-01, -4.54491228e-02,  1.11895122e-01,\n",
       "        1.21406630e-01,  2.19683617e-01, -2.78908722e-02, -1.77183747e-02,\n",
       "       -1.11304246e-01,  1.18810004e-02,  6.69675618e-02, -9.46513861e-02,\n",
       "       -2.57090777e-01, -3.47942531e-01,  1.06555946e-01,  1.66290879e-01,\n",
       "        9.55850035e-02,  1.27282888e-01, -1.89003404e-02, -5.87407500e-02,\n",
       "       -1.54066831e-04,  2.47692257e-01, -1.54323652e-01, -1.14185125e-01,\n",
       "       -1.25841630e+00,  5.54096326e-02,  2.10076869e-01, -2.90164966e-02,\n",
       "        2.40816213e-02, -8.20298716e-02,  3.04792523e-02,  5.01819998e-02,\n",
       "        2.09783882e-01, -5.68381213e-02,  3.37302387e-01,  1.35725126e-01,\n",
       "        1.39060125e-01,  1.44763421e-02,  3.63954119e-02, -1.04467362e-01,\n",
       "       -1.42605379e-01,  2.20592767e-01,  1.16877377e-01,  1.14198700e-02,\n",
       "        1.94551237e-02, -8.24462175e-02,  1.15943998e-01, -1.17429629e-01,\n",
       "       -5.42049468e-01, -4.18042503e-02,  3.65647450e-02, -1.72254130e-01,\n",
       "       -4.99895103e-02, -5.63225001e-02,  2.14157268e-01,  8.33927393e-02,\n",
       "       -5.73347434e-02,  5.99396266e-02, -1.08109385e-01,  1.42576128e-01,\n",
       "        9.16274823e-03, -1.24008119e-01,  1.01725623e-01, -1.37974367e-01,\n",
       "        1.60397634e-01,  7.16350228e-03, -2.27335423e-01, -1.29035383e-01,\n",
       "       -1.31798625e-01, -3.43850031e-02, -5.52326255e-02, -3.85378636e-02,\n",
       "        4.56593782e-02,  1.26094252e-01,  4.42135036e-02, -3.14317904e-02,\n",
       "       -1.89255010e-02,  4.03621234e-02, -5.64222485e-02, -1.25895128e-01,\n",
       "        9.07506794e-02,  7.55399987e-02, -3.35774034e-01, -7.20500946e-04,\n",
       "        1.79073632e-01, -1.59671888e-01, -9.10234973e-02,  1.24856234e-02,\n",
       "        2.12107468e-02,  1.40060887e-01,  7.18012527e-02,  1.28768757e-02,\n",
       "        1.41936630e-01, -3.97015028e-02, -3.68851237e-02, -1.22518741e-01,\n",
       "       -1.16431497e-01, -1.88416481e-01,  1.78155191e-02,  6.17497563e-02,\n",
       "        4.40366305e-02, -9.54010636e-02, -2.46782497e-01, -1.50974840e-03,\n",
       "       -7.50247389e-02,  3.15520406e-01, -2.20576987e-01, -2.41380781e-01,\n",
       "        5.55037409e-02, -2.12145057e-02,  1.15750857e-01, -3.03514116e-02,\n",
       "        1.47948861e-01,  6.50316179e-02, -2.98705008e-02, -6.39339983e-02,\n",
       "        2.36015499e-01,  1.44526258e-01, -3.16687524e-02, -1.31877497e-01,\n",
       "       -1.52041279e-02, -1.13447621e-01, -6.47586137e-02, -2.71603137e-01,\n",
       "       -9.14648920e-02, -1.72622129e-01, -5.23197539e-02,  1.31624758e-01,\n",
       "       -2.46685501e-02, -1.95347369e-01,  8.83751549e-04, -3.40898745e-02,\n",
       "       -1.05329007e-01,  2.76023865e-01, -8.28466192e-02,  6.22436684e-03,\n",
       "        1.59686372e-01, -3.90301198e-02,  6.75396919e-02,  1.82130516e-01,\n",
       "        5.50384633e-03, -5.18305041e-02,  6.64435029e-02, -2.62083746e-02,\n",
       "       -4.12912518e-02,  1.66236863e-01,  1.41248740e-02,  1.58915624e-01,\n",
       "        1.64948761e-01,  1.01569638e-01, -1.49288625e-01, -4.59927544e-02,\n",
       "        2.60102123e-01, -1.60708502e-01, -1.11310691e-01, -4.95956242e-02,\n",
       "        8.61349422e-03, -2.28345871e-01, -2.04915136e-01,  1.25797987e-01,\n",
       "       -8.74698833e-02, -2.63887551e-02,  2.60302462e-02,  1.07966259e-01,\n",
       "       -1.26986757e-01, -3.10537536e-02, -9.16026607e-02,  1.51191369e-01,\n",
       "        1.57550633e-01,  1.89842373e-01,  8.82858783e-02, -2.65465885e-01,\n",
       "        2.51111221e-02,  1.69126123e-01, -1.76902115e-01,  1.63080245e-01,\n",
       "       -2.37924978e-03, -1.26237869e-01, -2.02645123e-01, -1.06408373e-01,\n",
       "       -2.27299377e-01, -2.97380000e-01,  1.24003507e-01,  1.42430663e-01],\n",
       "      dtype=float32)"
      ]
     },
     "execution_count": 13,
     "metadata": {},
     "output_type": "execute_result"
    }
   ],
   "source": [
    "observation_doc.vector"
   ]
  },
  {
   "cell_type": "code",
   "execution_count": null,
   "metadata": {},
   "outputs": [],
   "source": []
  }
 ],
 "metadata": {
  "kernelspec": {
   "display_name": "predictions",
   "language": "python",
   "name": "python3"
  },
  "language_info": {
   "codemirror_mode": {
    "name": "ipython",
    "version": 3
   },
   "file_extension": ".py",
   "mimetype": "text/x-python",
   "name": "python",
   "nbconvert_exporter": "python",
   "pygments_lexer": "ipython3",
   "version": "3.11.0"
  }
 },
 "nbformat": 4,
 "nbformat_minor": 2
}
