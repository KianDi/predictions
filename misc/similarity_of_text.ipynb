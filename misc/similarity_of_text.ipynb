{
 "cells": [
  {
   "cell_type": "markdown",
   "metadata": {},
   "source": [
    "# How similar is the text?"
   ]
  },
  {
   "cell_type": "code",
   "execution_count": 1,
   "metadata": {},
   "outputs": [],
   "source": [
    "import spacy\n",
    "\n",
    "import gensim.downloader as api"
   ]
  },
  {
   "cell_type": "code",
   "execution_count": 2,
   "metadata": {},
   "outputs": [],
   "source": [
    "load_nlp_model = spacy.load(\"en_core_web_md\")\n",
    "pretrained_word_two_vec_model = api.load('word2vec-google-news-300')"
   ]
  },
  {
   "cell_type": "code",
   "execution_count": 3,
   "metadata": {},
   "outputs": [],
   "source": [
    "prediction_txt = \"I predict it will rain tomorrow.\"\n",
    "observation_txt = \"It rained tomorrow.\"\n",
    "\n",
    "prediction_txt = \"Apple's stock will rise by 10%.\"\n",
    "observation_txt = \"Apple's stock rose by 11%.\"\n",
    "observation_txt_2 = \"Apple's stock rose by 30%.\""
   ]
  },
  {
   "cell_type": "code",
   "execution_count": 4,
   "metadata": {},
   "outputs": [],
   "source": [
    "prediction = load_nlp_model(prediction_txt)\n",
    "observation = load_nlp_model(observation_txt)\n",
    "observation_2 = load_nlp_model(observation_txt_2)\n",
    "\n",
    "p_o = prediction.similarity(observation)\n",
    "p_o_2 = prediction.similarity(observation_2)\n",
    "\n",
    "o_p = observation.similarity(prediction)\n",
    "o_p_2 = observation_2.similarity(prediction)"
   ]
  },
  {
   "cell_type": "code",
   "execution_count": 5,
   "metadata": {},
   "outputs": [
    {
     "data": {
      "text/plain": [
       "(0.9399013747850621, 0.9399013747850621)"
      ]
     },
     "execution_count": 5,
     "metadata": {},
     "output_type": "execute_result"
    }
   ],
   "source": [
    "p_o, p_o_2"
   ]
  },
  {
   "cell_type": "code",
   "execution_count": 6,
   "metadata": {},
   "outputs": [
    {
     "data": {
      "text/plain": [
       "(0.9399013747850621, 0.9399013747850621)"
      ]
     },
     "execution_count": 6,
     "metadata": {},
     "output_type": "execute_result"
    }
   ],
   "source": [
    "o_p, o_p_2"
   ]
  },
  {
   "cell_type": "code",
   "execution_count": 7,
   "metadata": {},
   "outputs": [
    {
     "data": {
      "text/plain": [
       "0.25614710912925986"
      ]
     },
     "execution_count": 7,
     "metadata": {},
     "output_type": "execute_result"
    }
   ],
   "source": [
    "wmdistance_score = pretrained_word_two_vec_model.wmdistance(prediction_txt, observation_txt)\n",
    "wmdistance_score"
   ]
  },
  {
   "cell_type": "code",
   "execution_count": 8,
   "metadata": {},
   "outputs": [
    {
     "name": "stdout",
     "output_type": "stream",
     "text": [
      "0.7331\n"
     ]
    },
    {
     "data": {
      "text/plain": [
       "0.564630188695818"
      ]
     },
     "execution_count": 8,
     "metadata": {},
     "output_type": "execute_result"
    }
   ],
   "source": [
    "sentence_obama = 'Obama speaks to the media in Illinois'.lower().split()\n",
    "sentence_president = 'The president greets the press in Chicago'.lower().split()\n",
    "\n",
    "similarity = pretrained_word_two_vec_model.wmdistance(sentence_obama, sentence_president)\n",
    "print(f\"{similarity:.4f}\")\n",
    "\n",
    "prediction_txt_transformed = prediction_txt.lower().split()\n",
    "observation_txt_transformed = observation_txt.lower().split()\n",
    "wmdistance_score = pretrained_word_two_vec_model.wmdistance(prediction_txt_transformed, observation_txt_transformed)\n",
    "wmdistance_score"
   ]
  },
  {
   "cell_type": "code",
   "execution_count": null,
   "metadata": {},
   "outputs": [],
   "source": []
  }
 ],
 "metadata": {
  "kernelspec": {
   "display_name": "predictions",
   "language": "python",
   "name": "python3"
  },
  "language_info": {
   "codemirror_mode": {
    "name": "ipython",
    "version": 3
   },
   "file_extension": ".py",
   "mimetype": "text/x-python",
   "name": "python",
   "nbconvert_exporter": "python",
   "pygments_lexer": "ipython3",
   "version": "3.11.0"
  }
 },
 "nbformat": 4,
 "nbformat_minor": 2
}
