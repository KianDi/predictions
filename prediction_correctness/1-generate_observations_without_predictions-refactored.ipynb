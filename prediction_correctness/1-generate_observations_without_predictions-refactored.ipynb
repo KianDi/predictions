{
 "cells": [
  {
   "cell_type": "markdown",
   "id": "5fc9e2f4",
   "metadata": {},
   "source": [
    "# 1-Generate Observations using LangChain\n",
    "\n",
    "- **Goal:** observation Recognition\n",
    "\n",
    "- **Purpose:** To implement step 1 with sub steps of observation recognition pipeline. See steps\n",
    "    1. Generate observations\n",
    "        1. Create several observation prompts templates\n",
    "        2. Utilize open-source LLMs to generate observations\n",
    "\n",
    "- **Misc:**\n",
    "    - `%store`: Cell magic will store the variable of interest so we can load in another notebook"
   ]
  },
  {
   "cell_type": "code",
   "execution_count": 1,
   "id": "01a3b011",
   "metadata": {},
   "outputs": [],
   "source": [
    "import os, sys\n",
    "\n",
    "import pandas as pd\n",
    "\n",
    "from tqdm import tqdm\n",
    "from langchain_core.prompts import PipelinePromptTemplate, PromptTemplate\n",
    "\n",
    "# Get the current working directory of the notebook\n",
    "notebook_dir = os.getcwd()\n",
    "# Add the parent directory to the system path\n",
    "sys.path.append(os.path.join(notebook_dir, '../'))\n",
    "\n",
    "from log_files import LogData\n",
    "from data_processing import DataProcessing\n",
    "from text_generation_models import TextGenerationModelFactory"
   ]
  },
  {
   "cell_type": "markdown",
   "id": "a598b119",
   "metadata": {},
   "source": [
    "## Text Generation Models"
   ]
  },
  {
   "cell_type": "code",
   "execution_count": 2,
   "id": "b6f573fb",
   "metadata": {},
   "outputs": [],
   "source": [
    "tgmf = TextGenerationModelFactory()\n",
    "\n",
    "llama_versatile_generation_model = tgmf.create_instance(model_name='llama-3.3-70b-versatile')\n",
    "llama_instant_generation_model = tgmf.create_instance('llama-3.1-8b-instant')\n",
    "llama_70b_8192_generation_model = tgmf.create_instance('llama3-70b-8192')\n",
    "llama_8b_8192_generation_model = tgmf.create_instance('llama3-8b-8192')\n",
    "\n",
    "gpt_35_turbo_generation_model = tgmf.create_instance('gpt-3.5-turbo')\n",
    "gpt_4_o_generation_model = tgmf.create_instance('gpt-4o')\n",
    "mixtral_87b_instruct_generation_model = tgmf.create_instance('mixtral-8x7b-instruct') "
   ]
  },
  {
   "cell_type": "markdown",
   "id": "50f78c6a",
   "metadata": {},
   "source": [
    "## Base Templates for Domain Observations"
   ]
  },
  {
   "cell_type": "code",
   "execution_count": 3,
   "id": "4d32edc7",
   "metadata": {},
   "outputs": [],
   "source": [
    "full_observation_template = \"\"\"{observation_properties}\n",
    "\n",
    "{observation_requirements}\n",
    "\n",
    "{observation_templates}\n",
    "\n",
    "{observation_examples}\n",
    "\"\"\"\n",
    "\n",
    "full_observation_prompt = PromptTemplate.from_template(full_observation_template)"
   ]
  },
  {
   "cell_type": "code",
   "execution_count": 4,
   "id": "3d420e85",
   "metadata": {},
   "outputs": [],
   "source": [
    "observation_properties_template = \"\"\"A observation <o> = (<o_s>, <o_t>, <o_d>, <o_a>), where it consists of the following four properties:\n",
    "\n",
    "    1. <o_s>, any source entity in the {observation_domain} domain.\n",
    "        - Can be a person (with a name) or a {observation_domain} person such as a {observation_domain} reporter, {observation_domain} analyst, {observation_domain} expert, {observation_domain} top executive, {observation_domain} senior level person, etc), civilian.\n",
    "        - Can only be an organization that is associated with the {observation_domain} observation.\n",
    "    2. <o_t>, any target entity in the {observation_domain} domain.\n",
    "\t    - Can be a person (with a name) or a {observation_domain} person such as a {observation_domain} reporter, {observation_domain} analyst, {observation_domain} expert, {observation_domain} top executive, {observation_domain} senior level person, etc).\n",
    "        - Can only be an organization that is associated with the {observation_domain} observation.\n",
    "    3. <o_d>, date or time range when <o> is expected to come to fruition or when one should observe the <o>.\n",
    "        - Forecast can range from a second to anytime in the future.\n",
    "        - Answers the questions: \"How far to go out from today?\" or \"Where to stop?\".\n",
    "    4. <o_a>, {observation_domain} observation attribute.\n",
    "        - Characteristics of a domain-specific attributes such as various quantifiable metrics relevant to the {observation_domain} domain.\n",
    "        - Some examples are {observation_domain_attribute}.  \n",
    "\"\"\"\n",
    "observation_properties_prompt = PromptTemplate.from_template(observation_properties_template)"
   ]
  },
  {
   "cell_type": "code",
   "execution_count": 5,
   "id": "95548954",
   "metadata": {},
   "outputs": [],
   "source": [
    "observation_requirements_template = \"\"\"requirements to use for each observation:\n",
    "\n",
    "    - Should be based on real-world {observation_domain} data and not hallucinate.\n",
    "    - Must be a simple sentence (observation) (and NOT compounding using \"and\" or \"or\").\n",
    "    - Should diversify all four properties of the observation (<o>) as in change and not use same for <o_s>, <o_t>, <o_d>, <o_a>.\n",
    "    - The observation should be unique and not repeated.\n",
    "    - Do not number the observations.\n",
    "    - Do not say, \"Here are {observations_N} unique observation based on the provided templates and examples:\" or anything similar in the prompt.\n",
    "    - Change how the current date (<o_d>) written in the observation with examples of (1) Wednesday, August 21, 2024; (2) Wed, August 21, 2024; (3) 08/21/2024; (4) 08/21/2024; (5) 21/08/2024; (6) 21 August 2024; (7) 2024/08/21; (8) 2024-08-21; (9) August 21, 2024; (10) Aug 21, 2024; (11) 21 August 2024, (12) 21 Aug 2024, Q3 of 2027, 2029 of Q3, etc (with removing day of week).\n",
    "    - Do not use any of the examples in the prompt.\n",
    "    - In front of every observation, put the template number in the format of \"T0:\" and only use \"T0:\" as the template number.\n",
    "    - Do not put template number on line by itself. Always pair with an observation.\n",
    "    - Disregard brackets: \"<>\"\n",
    "    - Do not use person name of entity name more than once as in don't use name Joe as both the <o_s> and <o_t>, unless like Mr. Sach and Goldman Sach or Mr. Sam Walton and Sam's Club, etc.\n",
    "    - The source entity (<o_s>) is rarely the same as the target entity (<o_t>) and if same, the <o_s> is making a observation on itself in the <o_t>.\n",
    "    - Should variate the slope of rise/increase/as much as, fall/decrease/as little as, change, stay stable, high/low chance/probability/degree of, etc.\n",
    "    - Should variate the observation verbs such as will, would, be going to, should, etc.\n",
    "    - Must be past tense as in already occurred and not future tense.\n",
    "    - Don't leave out {observation_domain} domain, so specifically generate for this ({observation_domain}) domain.\"\"\"\n",
    "observation_requirements_prompt = PromptTemplate.from_template(observation_requirements_template)"
   ]
  },
  {
   "cell_type": "code",
   "execution_count": 6,
   "id": "07129ae1",
   "metadata": {},
   "outputs": [],
   "source": [
    "observation_templates_template = \"\"\"Here are some {observation_domain} templates:\n",
    "\n",
    "    - {observation_domain} template 1: <o_s> observed that the <o_a> at <o_t> had decreased in <o_d>.\n",
    "\n",
    "\"\"\"\n",
    "observation_templates_prompt = PromptTemplate.from_template(observation_templates_template)"
   ]
  },
  {
   "cell_type": "code",
   "execution_count": 7,
   "id": "e559ea64",
   "metadata": {},
   "outputs": [],
   "source": [
    "observation_examples_template = \"\"\"Here are some examples of {observation_domain} observations:\n",
    "{domain_examples}\n",
    "\n",
    "With the above, generate a unique set of {observations_N} observations per template following the examples. Think from the perspective of an {observation_domain} analyst, expert, top executive, or senior level person and even a college student, professional, research advisor, etc.\"\"\"\n",
    "observation_examples_prompt = PromptTemplate.from_template(observation_examples_template)"
   ]
  },
  {
   "cell_type": "code",
   "execution_count": 8,
   "id": "ad59deb9",
   "metadata": {},
   "outputs": [
    {
     "name": "stderr",
     "output_type": "stream",
     "text": [
      "/var/folders/78/9z0b45fx1xqbwxh8vk97lcfh0000gn/T/ipykernel_94473/1068429326.py:8: LangChainDeprecationWarning: This class is deprecated. Please see the docstring below or at the link for a replacement option: https://python.langchain.com/api_reference/core/prompts/langchain_core.prompts.pipeline.PipelinePromptTemplate.html\n",
      "  pipeline_prompt = PipelinePromptTemplate(\n"
     ]
    }
   ],
   "source": [
    "observation_input_prompts = [\n",
    "    (\"observation_properties\", observation_properties_prompt),\n",
    "    (\"observation_requirements\", observation_requirements_prompt),\n",
    "    (\"observation_templates\", observation_templates_prompt),\n",
    "    (\"observation_examples\", observation_examples_prompt),\n",
    "]\n",
    "\n",
    "pipeline_prompt = PipelinePromptTemplate(\n",
    "    final_prompt=full_observation_prompt, pipeline_prompts=observation_input_prompts\n",
    ")"
   ]
  },
  {
   "cell_type": "markdown",
   "id": "099b1ddb",
   "metadata": {},
   "source": [
    "## Specific Templates for Domain observations"
   ]
  },
  {
   "cell_type": "markdown",
   "id": "1f51c614",
   "metadata": {},
   "source": [
    "- For now, generating 1 observation per template. From here, I'll try 3 and increase by increments/multiples of 3.\n",
    "\n",
    "- With 1 observation per template,\n",
    "    - 1 observation per template x 6 examples per domain so 6 observations per domain\n",
    "    - 6 observations per domain x 4 domains = 24 observations per model\n",
    "    - 24 observations per model x 2 models = 48 observations across all models\n",
    "    - 48 observations across all models x 2 batches = 96 across all batches"
   ]
  },
  {
   "cell_type": "code",
   "execution_count": 9,
   "id": "be6a146d",
   "metadata": {},
   "outputs": [],
   "source": [
    "examples_per_template = 1\n",
    "generate_N_observations_per_template = 1 * examples_per_template"
   ]
  },
  {
   "cell_type": "markdown",
   "id": "dd133022",
   "metadata": {},
   "source": [
    "### Template for Financial observations"
   ]
  },
  {
   "cell_type": "code",
   "execution_count": 10,
   "id": "5e2ddf01",
   "metadata": {},
   "outputs": [
    {
     "name": "stdout",
     "output_type": "stream",
     "text": [
      "A observation <o> = (<o_s>, <o_t>, <o_d>, <o_a>), where it consists of the following four properties:\n",
      "\n",
      "    1. <o_s>, any source entity in the financial domain.\n",
      "        - Can be a person (with a name) or a financial person such as a financial reporter, financial analyst, financial expert, financial top executive, financial senior level person, etc), civilian.\n",
      "        - Can only be an organization that is associated with the financial observation.\n",
      "    2. <o_t>, any target entity in the financial domain.\n",
      "\t    - Can be a person (with a name) or a financial person such as a financial reporter, financial analyst, financial expert, financial top executive, financial senior level person, etc).\n",
      "        - Can only be an organization that is associated with the financial observation.\n",
      "    3. <o_d>, date or time range when <o> is expected to come to fruition or when one should observe the <o>.\n",
      "        - Forecast can range from a second to anytime in the future.\n",
      "        - Answers the questions: \"How far to go out from today?\" or \"Where to stop?\".\n",
      "    4. <o_a>, financial observation attribute.\n",
      "        - Characteristics of a domain-specific attributes such as various quantifiable metrics relevant to the financial domain.\n",
      "        - Some examples are stock price, net profit, revenue, operating cash flow, research and development expenses, operating income, gross profit..  \n",
      "\n",
      "\n",
      "requirements to use for each observation:\n",
      "\n",
      "    - Should be based on real-world financial data and not hallucinate.\n",
      "    - Must be a simple sentence (observation) (and NOT compounding using \"and\" or \"or\").\n",
      "    - Should diversify all four properties of the observation (<o>) as in change and not use same for <o_s>, <o_t>, <o_d>, <o_a>.\n",
      "    - The observation should be unique and not repeated.\n",
      "    - Do not number the observations.\n",
      "    - Do not say, \"Here are 1 unique observation based on the provided templates and examples:\" or anything similar in the prompt.\n",
      "    - Change how the current date (<o_d>) written in the observation with examples of (1) Wednesday, August 21, 2024; (2) Wed, August 21, 2024; (3) 08/21/2024; (4) 08/21/2024; (5) 21/08/2024; (6) 21 August 2024; (7) 2024/08/21; (8) 2024-08-21; (9) August 21, 2024; (10) Aug 21, 2024; (11) 21 August 2024, (12) 21 Aug 2024, Q3 of 2027, 2029 of Q3, etc (with removing day of week).\n",
      "    - Do not use any of the examples in the prompt.\n",
      "    - In front of every observation, put the template number in the format of \"T0:\" and only use \"T0:\" as the template number.\n",
      "    - Do not put template number on line by itself. Always pair with an observation.\n",
      "    - Disregard brackets: \"<>\"\n",
      "    - Do not use person name of entity name more than once as in don't use name Joe as both the <o_s> and <o_t>, unless like Mr. Sach and Goldman Sach or Mr. Sam Walton and Sam's Club, etc.\n",
      "    - The source entity (<o_s>) is rarely the same as the target entity (<o_t>) and if same, the <o_s> is making a observation on itself in the <o_t>.\n",
      "    - Should variate the slope of rise/increase/as much as, fall/decrease/as little as, change, stay stable, high/low chance/probability/degree of, etc.\n",
      "    - Should variate the observation verbs such as will, would, be going to, should, etc.\n",
      "    - Must be past tense as in already occurred and not future tense.\n",
      "    - Don't leave out financial domain, so specifically generate for this (financial) domain.\n",
      "\n",
      "Here are some financial templates:\n",
      "\n",
      "    - financial template 1: <o_s> observed that the <o_a> at <o_t> had decreased in <o_d>.\n",
      "\n",
      "\n",
      "\n",
      "Here are some examples of financial observations:\n",
      "\n",
      "   - financial examples for template 1:\n",
      "      1. Joseph, the young entrepreneur, observed that the revenue at FUBU (his parents clothing line) had increased for Q3 2028.\n",
      "      2. BJ saw that the operating cash flow at UF's school of Engineering decrease in 05/2025.\n",
      "      3. An fresh investor noticed the ETFs in his portfolio exponentially grew from Apr 7, 1997 to Apr 7, 2025.\n",
      " \n",
      "\n",
      "With the above, generate a unique set of 1 observations per template following the examples. Think from the perspective of an financial analyst, expert, top executive, or senior level person and even a college student, professional, research advisor, etc.\n",
      "\n"
     ]
    }
   ],
   "source": [
    "financial_attributes = \"\"\"stock price, net profit, revenue, operating cash flow, research and development expenses, operating income, gross profit.\"\"\"\n",
    "financial_requirements = \"\"\"- Should be based on real-world financial earnings reports.\n",
    "    - Suppose the time when <o> was made is during any earning season.\n",
    "    - Include stocks from all sectors such as consumer staples, energy, finance, health care, industrials, materials, media, real estate, retail, technology, utilities, defense, etc.\n",
    "    - Include the US Dollar sign ($) before or USD after the amount of the financial attribute.\"\"\"\n",
    "\n",
    "financial_examples = \"\"\"\n",
    "   - financial examples for template 1:\n",
    "      1. Joseph, the young entrepreneur, observed that the revenue at FUBU (his parents clothing line) had increased for Q3 2028.\n",
    "      2. BJ saw that the operating cash flow at UF's school of Engineering decrease in 05/2025.\n",
    "      3. An fresh investor noticed the ETFs in his portfolio exponentially grew from Apr 7, 1997 to Apr 7, 2025.\n",
    " \"\"\"\n",
    "\n",
    "financial_input_dict = {\n",
    "    \"observation_domain\": \"financial\",\n",
    "    \"observation_domain_attribute\": financial_attributes,\n",
    "    \"domain_requirements\": financial_requirements,\n",
    "    \"domain_examples\": financial_examples,\n",
    "    \"observations_N\": generate_N_observations_per_template\n",
    "}\n",
    "financial_prompt_output = pipeline_prompt.format(**financial_input_dict)\n",
    "print(financial_prompt_output)\n"
   ]
  },
  {
   "cell_type": "markdown",
   "id": "7bf6df7a",
   "metadata": {},
   "source": [
    "###  Template for Health observations"
   ]
  },
  {
   "cell_type": "code",
   "execution_count": 11,
   "id": "7d766f1f",
   "metadata": {},
   "outputs": [],
   "source": [
    "health_attributes = \"\"\"obesity rates, prevalence of chronic illnesses, average physical activity levels, nutritional intake, etc.\"\"\"\n",
    "health_requirements = \"\"\"- Should be based on real-world health reports.\n",
    "    - Suppose the time when <o> was made is during any season such as flu season, allergy season, pandemic, epidemic, etc.\n",
    "    - Include reports from all Health organization, researcher, doctor, physical therapist, physician assistant, nurse practictioners, fitness expert, etc.\"\"\"\n",
    "\n",
    "health_examples = \"\"\"\n",
    "- health examples for template 1:\n",
    "    1. WellFlorida caught that the patients' blood glucose at all hospitals in Florida improved from Q1 2021 to Q3 2021.\n",
    "    2. Nurse John observed that the heart rate in patients at Alaska's General Hospital had stabilized from 2023 January to 2023 Dec.\n",
    "    3. I noted that the number of visits my patients in Piscataway, NJ decreased from start of week to end of week.\n",
    "\"\"\"\n",
    "\n",
    "health_input_dict = {\n",
    "    \"observation_domain\": \"health\",\n",
    "    \"observation_domain_attribute\": health_attributes,\n",
    "    \"domain_requirements\": health_requirements,\n",
    "    \"domain_examples\": health_examples,\n",
    "    \"observations_N\": generate_N_observations_per_template\n",
    "}\n",
    "\n",
    "health_prompt_output = pipeline_prompt.format(**health_input_dict)\n"
   ]
  },
  {
   "cell_type": "markdown",
   "id": "0d0959d8",
   "metadata": {},
   "source": [
    "###  Template for Policy observations"
   ]
  },
  {
   "cell_type": "code",
   "execution_count": 12,
   "id": "79c8c628",
   "metadata": {},
   "outputs": [],
   "source": [
    "policy_attributes = \"\"\"election outcomes, economic reforms, legislative impacts.\"\"\"\n",
    "policy_requirements = \"\"\"- Should be based on real-world policy reports.\n",
    "    - Suppose the time when <o> was made is during an election cycle or non-election cycles.\n",
    "    - Include policies & laws, from all sectors such as consumer staples, energy, finance, health care, industrials, materials, media, real estate, retail, technology, utilities, defense, etc.\"\"\"\n",
    "\n",
    "# - {prediction_domain} template 6: <p_t> <p_a> will likely rise in <p_d>, according to <p_s>. \n",
    "#  - policy examples for template 6:\n",
    "#     1. Renewable energy investments are expected to rise in Q3 2025, according to Dr. Elena Foster.\n",
    "#     2. Healthcare subsidies will likely decrease in September 2025, according to Senator Marcus Lee.\n",
    "#     3. Rachel Alvarez's voter participation in local elections will likely stay the same in November 2025, according to Rachel Alvarez.\n",
    "\n",
    "policy_examples = \"\"\"\n",
    "   - policy examples for template 1:\n",
    "      1. Local journalist, Aaron, identified economic reforms in Thomson, GA rose jan 2023.\n",
    "      2. Policy analyst, Michael (Ph.D), remarked that the home tax in Austin, TX had increased on 7/9/18.\n",
    "      3. DCR noted that company employment rates in her city San Francisco had risen from Q1 2025 to Q3 2025.\n",
    "    - policy examples for template 2:\n",
    "      1. Public undergraduate education cost are more affordable in Q4 2021, according to BMB.\n",
    "      2. Protests rose in 2020, according to policy maker Sarah.\n",
    "      3. US Marines recruits drastically enriched after Sept 1, 2001, according to Paul (a highly interviewed former US Marine).\n",
    "\"\"\"\n",
    "\n",
    "policy_input_dict = {\n",
    "    \"observation_domain\": \"policy\",\n",
    "    \"observation_domain_attribute\": policy_attributes,\n",
    "    \"domain_requirements\": policy_requirements,\n",
    "    \"domain_examples\": policy_examples,\n",
    "    \"observations_N\": generate_N_observations_per_template\n",
    "}"
   ]
  },
  {
   "cell_type": "markdown",
   "id": "bad02107",
   "metadata": {},
   "source": [
    "###  Template for Weather observations"
   ]
  },
  {
   "cell_type": "code",
   "execution_count": 13,
   "id": "cc4bdd74",
   "metadata": {},
   "outputs": [],
   "source": [
    "weather_attributes = \"\"\"temperature, precipitation, wind speed, humidity, etc.\"\"\"\n",
    "weather_requirements = \"\"\"- Should be based on real-world weather reports.\n",
    "    - Suppose the time when <o> was made is during any season and any location (ie: Florida known for hurricanes, California known for wildfires, etc).\n",
    "    - Include reports from all meteorologists, weather organizations, or any type of weather entity..\"\"\"\n",
    "\n",
    "weather_examples = \"\"\"\n",
    "    - weather examples for template 1:\n",
    "        1. The street cleaner watched the snow in Minnesota increase from 12/8/9 to 2/8/10.\n",
    "        2. Jade, a farmer, caught that the rainfall in Kansas had decreased at midnight.\n",
    "        3. I felt the wind speed in North Dakota (city of Fargo) picked up drastically today.\n",
    "\n",
    "\"\"\"\n",
    "\n",
    "weather_input_dict = {\n",
    "    \"observation_domain\": \"weather\",\n",
    "    \"observation_domain_attribute\": weather_attributes,\n",
    "    \"domain_requirements\": weather_requirements,\n",
    "    \"domain_examples\": weather_examples,\n",
    "    \"observations_N\": generate_N_observations_per_template\n",
    "}"
   ]
  },
  {
   "cell_type": "markdown",
   "id": "012d23d7",
   "metadata": {},
   "source": [
    "## Generate observations"
   ]
  },
  {
   "cell_type": "code",
   "execution_count": 14,
   "id": "1d02699a",
   "metadata": {},
   "outputs": [],
   "source": [
    "N_batches = 1\n",
    "text_generation_models = [gpt_4_o_generation_model]\n",
    "# text_generation_models = [llama_versatile_generation_model]\n",
    "# text_generation_models = [llama_versatile_generation_model, llama_instant_generation_model, llama_70b_8192_generation_model, \n",
    "#                           llama_8b_8192_generation_model, gpt_35_turbo_generation_model, gpt_4_o_generation_model, \n",
    "#                           mixtral_87b_instruct_generation_model]\n",
    "\n",
    "# text_generation_models = [gpt_4_o_generation_model]\n",
    "\n",
    "# text_generation_models = [llama_versatile_generation_model, llama_instant_generation_model, llama_70b_8192_generation_model, \n",
    "#                           llama_8b_8192_generation_model, gpt_35_turbo_generation_model]"
   ]
  },
  {
   "cell_type": "code",
   "execution_count": null,
   "id": "1546368e",
   "metadata": {},
   "outputs": [
    {
     "name": "stderr",
     "output_type": "stream",
     "text": [
      "  0%|          | 0/1 [00:00<?, ?it/s]"
     ]
    },
    {
     "name": "stdout",
     "output_type": "stream",
     "text": [
      "===================================== Batch 0 ===============================================\n",
      "finance --- gpt-4-turbo --- NAVI_GATOR\n",
      "gpt-4o + finance generates: T0: A financial analyst observed that the stock price at Tesla had increased on 2023-09-15.\n",
      "\n",
      "health --- gpt-4-turbo --- NAVI_GATOR\n",
      "gpt-4o + health generates: T0: Dr. Smith observed that the obesity rates at the New York Health Clinic had decreased in Q4 2022.\n",
      "\n",
      "policy --- gpt-4-turbo --- NAVI_GATOR\n",
      "gpt-4o + policy generates: T0: A financial analyst observed that the net profit at Tesla had increased in Q4 of 2023.\n",
      "\n",
      "weather --- gpt-4-turbo --- NAVI_GATOR\n"
     ]
    },
    {
     "name": "stderr",
     "output_type": "stream",
     "text": [
      "100%|██████████| 1/1 [00:03<00:00,  3.13s/it]"
     ]
    },
    {
     "name": "stdout",
     "output_type": "stream",
     "text": [
      "gpt-4o + weather generates: T0: A financial analyst observed that the net profit at Tesla had increased in Q4 of 2023.\n",
      "\n",
      "Start logging batch\n",
      "log_directory: /Users/detraviousjamaribrinkley/Documents/Development/research_labs/uf_ds/predictions/data/prediction_logs\n",
      "Save CSV: /Users/detraviousjamaribrinkley/Documents/Development/research_labs/uf_ds/predictions/data/prediction_logs/batch_28-prediction/batch_28-from_df.csv\n",
      "\n",
      "CSV to Log\n",
      "                                       Base Sentence  Sentence Label   Domain  \\\n",
      "0  A financial analyst observed that the stock pr...               1  finance   \n",
      "1  Dr. Smith observed that the obesity rates at t...               1   health   \n",
      "2  A financial analyst observed that the net prof...               1   policy   \n",
      "3  A financial analyst observed that the net prof...               1  weather   \n",
      "\n",
      "  Model Name    API Name  Batch ID  Template Number  \n",
      "0     gpt-4o  NAVI_GATOR         0                0  \n",
      "1     gpt-4o  NAVI_GATOR         0                0  \n",
      "2     gpt-4o  NAVI_GATOR         0                0  \n",
      "3     gpt-4o  NAVI_GATOR         0                0  \n",
      "[                                       Base Sentence  Sentence Label   Domain  \\\n",
      "0  A financial analyst observed that the stock pr...               1  finance   \n",
      "1  Dr. Smith observed that the obesity rates at t...               1   health   \n",
      "2  A financial analyst observed that the net prof...               1   policy   \n",
      "3  A financial analyst observed that the net prof...               1  weather   \n",
      "\n",
      "  Model Name    API Name  Batch ID  Template Number  \n",
      "0     gpt-4o  NAVI_GATOR         0                0  \n",
      "1     gpt-4o  NAVI_GATOR         0                0  \n",
      "2     gpt-4o  NAVI_GATOR         0                0  \n",
      "3     gpt-4o  NAVI_GATOR         0                0  ]\n"
     ]
    },
    {
     "name": "stderr",
     "output_type": "stream",
     "text": [
      "\n"
     ]
    }
   ],
   "source": [
    "observation_domains = [\"finance\", \"health\", \"policy\", \"weather\"]\n",
    "observation_prompt_outputs = {\n",
    "    \"finance\": financial_prompt_output,\n",
    "    \"health\": health_prompt_output,\n",
    "    \"policy\": financial_prompt_output,\n",
    "    \"weather\": financial_prompt_output,\n",
    "}\n",
    "observation_label = 0\n",
    "\n",
    "batched_observations_df = tgmf.batch_generate_data(N_batches=N_batches, \n",
    "                                text_generation_models=text_generation_models, \n",
    "                                domains=observation_domains,\n",
    "                                prompt_outputs=observation_prompt_outputs,\n",
    "                                sentence_label=observation_label)"
   ]
  },
  {
   "cell_type": "code",
   "execution_count": 16,
   "id": "ff382f01",
   "metadata": {},
   "outputs": [
    {
     "data": {
      "text/html": [
       "<div>\n",
       "<style scoped>\n",
       "    .dataframe tbody tr th:only-of-type {\n",
       "        vertical-align: middle;\n",
       "    }\n",
       "\n",
       "    .dataframe tbody tr th {\n",
       "        vertical-align: top;\n",
       "    }\n",
       "\n",
       "    .dataframe thead th {\n",
       "        text-align: right;\n",
       "    }\n",
       "</style>\n",
       "<table border=\"1\" class=\"dataframe\">\n",
       "  <thead>\n",
       "    <tr style=\"text-align: right;\">\n",
       "      <th></th>\n",
       "      <th>Base Sentence</th>\n",
       "      <th>Sentence Label</th>\n",
       "      <th>Domain</th>\n",
       "      <th>Model Name</th>\n",
       "      <th>API Name</th>\n",
       "      <th>Batch ID</th>\n",
       "      <th>Template Number</th>\n",
       "    </tr>\n",
       "  </thead>\n",
       "  <tbody>\n",
       "    <tr>\n",
       "      <th>0</th>\n",
       "      <td>A financial analyst observed that the stock price at Tesla had increased on 2023-09-15.</td>\n",
       "      <td>1</td>\n",
       "      <td>finance</td>\n",
       "      <td>gpt-4o</td>\n",
       "      <td>NAVI_GATOR</td>\n",
       "      <td>0</td>\n",
       "      <td>0</td>\n",
       "    </tr>\n",
       "    <tr>\n",
       "      <th>1</th>\n",
       "      <td>Dr. Smith observed that the obesity rates at the New York Health Clinic had decreased in Q4 2022.</td>\n",
       "      <td>1</td>\n",
       "      <td>health</td>\n",
       "      <td>gpt-4o</td>\n",
       "      <td>NAVI_GATOR</td>\n",
       "      <td>0</td>\n",
       "      <td>0</td>\n",
       "    </tr>\n",
       "    <tr>\n",
       "      <th>2</th>\n",
       "      <td>A financial analyst observed that the net profit at Tesla had increased in Q4 of 2023.</td>\n",
       "      <td>1</td>\n",
       "      <td>policy</td>\n",
       "      <td>gpt-4o</td>\n",
       "      <td>NAVI_GATOR</td>\n",
       "      <td>0</td>\n",
       "      <td>0</td>\n",
       "    </tr>\n",
       "    <tr>\n",
       "      <th>3</th>\n",
       "      <td>A financial analyst observed that the net profit at Tesla had increased in Q4 of 2023.</td>\n",
       "      <td>1</td>\n",
       "      <td>weather</td>\n",
       "      <td>gpt-4o</td>\n",
       "      <td>NAVI_GATOR</td>\n",
       "      <td>0</td>\n",
       "      <td>0</td>\n",
       "    </tr>\n",
       "  </tbody>\n",
       "</table>\n",
       "</div>"
      ],
      "text/plain": [
       "                                                                                       Base Sentence  \\\n",
       "0            A financial analyst observed that the stock price at Tesla had increased on 2023-09-15.   \n",
       "1  Dr. Smith observed that the obesity rates at the New York Health Clinic had decreased in Q4 2022.   \n",
       "2             A financial analyst observed that the net profit at Tesla had increased in Q4 of 2023.   \n",
       "3             A financial analyst observed that the net profit at Tesla had increased in Q4 of 2023.   \n",
       "\n",
       "   Sentence Label   Domain Model Name    API Name  Batch ID  Template Number  \n",
       "0               1  finance     gpt-4o  NAVI_GATOR         0                0  \n",
       "1               1   health     gpt-4o  NAVI_GATOR         0                0  \n",
       "2               1   policy     gpt-4o  NAVI_GATOR         0                0  \n",
       "3               1  weather     gpt-4o  NAVI_GATOR         0                0  "
      ]
     },
     "execution_count": 16,
     "metadata": {},
     "output_type": "execute_result"
    }
   ],
   "source": [
    "pd.set_option('max_colwidth', 800)\n",
    "pd.set_option('display.max_columns', None)\n",
    "pd.set_option('display.max_rows', None)\n",
    "batched_observations_df"
   ]
  },
  {
   "cell_type": "code",
   "execution_count": null,
   "id": "4d457a53",
   "metadata": {},
   "outputs": [],
   "source": []
  }
 ],
 "metadata": {
  "kernelspec": {
   "display_name": ".venv_predictions",
   "language": "python",
   "name": "python3"
  },
  "language_info": {
   "codemirror_mode": {
    "name": "ipython",
    "version": 3
   },
   "file_extension": ".py",
   "mimetype": "text/x-python",
   "name": "python",
   "nbconvert_exporter": "python",
   "pygments_lexer": "ipython3",
   "version": "3.11.12"
  }
 },
 "nbformat": 4,
 "nbformat_minor": 5
}
