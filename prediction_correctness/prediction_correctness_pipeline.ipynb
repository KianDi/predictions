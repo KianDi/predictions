{
 "cells": [
  {
   "cell_type": "markdown",
   "id": "6cf3fbb9",
   "metadata": {},
   "source": [
    "# Prediction Correctness Pipeline\n",
    "\n",
    "1. Generate data (predictions and observations)\n",
    "2. Create rules to link predictions with observations\n",
    "3. Get similarity scores\n",
    "4. Classify predictions"
   ]
  },
  {
   "cell_type": "markdown",
   "id": "a70a5362",
   "metadata": {},
   "source": [
    "## Generate data"
   ]
  },
  {
   "cell_type": "markdown",
   "id": "c2cf41b5",
   "metadata": {},
   "source": [
    "## Create rules"
   ]
  },
  {
   "cell_type": "markdown",
   "id": "b05f4dc1",
   "metadata": {},
   "source": [
    "## Get similarity scores"
   ]
  },
  {
   "cell_type": "markdown",
   "id": "ca8d64e1",
   "metadata": {},
   "source": [
    "## Classify predictions"
   ]
  },
  {
   "cell_type": "markdown",
   "id": "2e2ee68f",
   "metadata": {},
   "source": [
    "# References"
   ]
  },
  {
   "cell_type": "markdown",
   "id": "5405e597",
   "metadata": {},
   "source": []
  }
 ],
 "metadata": {
  "language_info": {
   "name": "python"
  }
 },
 "nbformat": 4,
 "nbformat_minor": 5
}
