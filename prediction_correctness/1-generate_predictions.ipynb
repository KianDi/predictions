{
 "cells": [
  {
   "cell_type": "markdown",
   "id": "5fc9e2f4",
   "metadata": {},
   "source": [
    "# 1-Generate Predictions using LangChain\n",
    "\n",
    "- **Goal:** Prediction Recognition\n",
    "\n",
    "- **Purpose:** To implement step 1 with sub steps of prediction recognition pipeline. See steps\n",
    "    1. Generate predictions\n",
    "        1. Create several prediction prompts templates\n",
    "        2. Utilize open-source LLMs to generate predictions\n",
    "\n",
    "- **Misc:**\n",
    "    - `%store`: Cell magic will store the variable of interest so we can load in another notebook"
   ]
  },
  {
   "cell_type": "code",
   "execution_count": 1,
   "id": "7b8c90b4",
   "metadata": {},
   "outputs": [],
   "source": [
    "# !pip3 install pandas langchain spacy numpy Groq"
   ]
  },
  {
   "cell_type": "code",
   "execution_count": 2,
   "id": "b406dff2",
   "metadata": {},
   "outputs": [
    {
     "name": "stdout",
     "output_type": "stream",
     "text": [
      "Defaulting to user installation because normal site-packages is not writeable\n",
      "Requirement already satisfied: scikit-learn in /Users/detraviousjamaribrinkley/Library/Python/3.9/lib/python/site-packages (1.6.1)\n",
      "Requirement already satisfied: pandas in /Users/detraviousjamaribrinkley/Library/Python/3.9/lib/python/site-packages (2.2.3)\n",
      "Requirement already satisfied: tqdm in /Users/detraviousjamaribrinkley/Library/Python/3.9/lib/python/site-packages (4.67.1)\n",
      "Requirement already satisfied: langchain-core in /Users/detraviousjamaribrinkley/Library/Python/3.9/lib/python/site-packages (0.3.51)\n",
      "Requirement already satisfied: spacy in /Users/detraviousjamaribrinkley/Library/Python/3.9/lib/python/site-packages (3.8.5)\n",
      "Requirement already satisfied: groq in /Users/detraviousjamaribrinkley/Library/Python/3.9/lib/python/site-packages (0.22.0)\n",
      "Requirement already satisfied: python-dotenv in /Users/detraviousjamaribrinkley/Library/Python/3.9/lib/python/site-packages (1.1.0)\n",
      "Requirement already satisfied: threadpoolctl>=3.1.0 in /Users/detraviousjamaribrinkley/Library/Python/3.9/lib/python/site-packages (from scikit-learn) (3.6.0)\n",
      "Requirement already satisfied: joblib>=1.2.0 in /Users/detraviousjamaribrinkley/Library/Python/3.9/lib/python/site-packages (from scikit-learn) (1.4.2)\n",
      "Requirement already satisfied: numpy>=1.19.5 in /Users/detraviousjamaribrinkley/Library/Python/3.9/lib/python/site-packages (from scikit-learn) (2.0.2)\n",
      "Requirement already satisfied: scipy>=1.6.0 in /Users/detraviousjamaribrinkley/Library/Python/3.9/lib/python/site-packages (from scikit-learn) (1.13.1)\n",
      "Requirement already satisfied: python-dateutil>=2.8.2 in /Users/detraviousjamaribrinkley/Library/Python/3.9/lib/python/site-packages (from pandas) (2.9.0.post0)\n",
      "Requirement already satisfied: tzdata>=2022.7 in /Users/detraviousjamaribrinkley/Library/Python/3.9/lib/python/site-packages (from pandas) (2025.2)\n",
      "Requirement already satisfied: pytz>=2020.1 in /Users/detraviousjamaribrinkley/Library/Python/3.9/lib/python/site-packages (from pandas) (2025.2)\n",
      "Requirement already satisfied: PyYAML>=5.3 in /Users/detraviousjamaribrinkley/Library/Python/3.9/lib/python/site-packages (from langchain-core) (6.0.2)\n",
      "Requirement already satisfied: jsonpatch<2.0,>=1.33 in /Users/detraviousjamaribrinkley/Library/Python/3.9/lib/python/site-packages (from langchain-core) (1.33)\n",
      "Requirement already satisfied: langsmith<0.4,>=0.1.125 in /Users/detraviousjamaribrinkley/Library/Python/3.9/lib/python/site-packages (from langchain-core) (0.3.28)\n",
      "Requirement already satisfied: packaging<25,>=23.2 in /Users/detraviousjamaribrinkley/Library/Python/3.9/lib/python/site-packages (from langchain-core) (24.2)\n",
      "Requirement already satisfied: tenacity!=8.4.0,<10.0.0,>=8.1.0 in /Users/detraviousjamaribrinkley/Library/Python/3.9/lib/python/site-packages (from langchain-core) (9.1.2)\n",
      "Requirement already satisfied: typing-extensions>=4.7 in /Users/detraviousjamaribrinkley/Library/Python/3.9/lib/python/site-packages (from langchain-core) (4.13.1)\n",
      "Requirement already satisfied: pydantic<3.0.0,>=2.5.2 in /Users/detraviousjamaribrinkley/Library/Python/3.9/lib/python/site-packages (from langchain-core) (2.11.3)\n",
      "Requirement already satisfied: cymem<2.1.0,>=2.0.2 in /Users/detraviousjamaribrinkley/Library/Python/3.9/lib/python/site-packages (from spacy) (2.0.11)\n",
      "Requirement already satisfied: requests<3.0.0,>=2.13.0 in /Users/detraviousjamaribrinkley/Library/Python/3.9/lib/python/site-packages (from spacy) (2.32.3)\n",
      "Requirement already satisfied: spacy-loggers<2.0.0,>=1.0.0 in /Users/detraviousjamaribrinkley/Library/Python/3.9/lib/python/site-packages (from spacy) (1.0.5)\n",
      "Requirement already satisfied: thinc<8.4.0,>=8.3.4 in /Users/detraviousjamaribrinkley/Library/Python/3.9/lib/python/site-packages (from spacy) (8.3.6)\n",
      "Requirement already satisfied: wasabi<1.2.0,>=0.9.1 in /Users/detraviousjamaribrinkley/Library/Python/3.9/lib/python/site-packages (from spacy) (1.1.3)\n",
      "Requirement already satisfied: spacy-legacy<3.1.0,>=3.0.11 in /Users/detraviousjamaribrinkley/Library/Python/3.9/lib/python/site-packages (from spacy) (3.0.12)\n",
      "Requirement already satisfied: setuptools in /Library/Developer/CommandLineTools/Library/Frameworks/Python3.framework/Versions/3.9/lib/python3.9/site-packages (from spacy) (58.0.4)\n",
      "Requirement already satisfied: catalogue<2.1.0,>=2.0.6 in /Users/detraviousjamaribrinkley/Library/Python/3.9/lib/python/site-packages (from spacy) (2.0.10)\n",
      "Requirement already satisfied: langcodes<4.0.0,>=3.2.0 in /Users/detraviousjamaribrinkley/Library/Python/3.9/lib/python/site-packages (from spacy) (3.5.0)\n",
      "Requirement already satisfied: preshed<3.1.0,>=3.0.2 in /Users/detraviousjamaribrinkley/Library/Python/3.9/lib/python/site-packages (from spacy) (3.0.9)\n",
      "Requirement already satisfied: typer<1.0.0,>=0.3.0 in /Users/detraviousjamaribrinkley/Library/Python/3.9/lib/python/site-packages (from spacy) (0.15.2)\n",
      "Requirement already satisfied: jinja2 in /Users/detraviousjamaribrinkley/Library/Python/3.9/lib/python/site-packages (from spacy) (3.1.6)\n",
      "Requirement already satisfied: murmurhash<1.1.0,>=0.28.0 in /Users/detraviousjamaribrinkley/Library/Python/3.9/lib/python/site-packages (from spacy) (1.0.12)\n",
      "Requirement already satisfied: srsly<3.0.0,>=2.4.3 in /Users/detraviousjamaribrinkley/Library/Python/3.9/lib/python/site-packages (from spacy) (2.5.1)\n",
      "Requirement already satisfied: weasel<0.5.0,>=0.1.0 in /Users/detraviousjamaribrinkley/Library/Python/3.9/lib/python/site-packages (from spacy) (0.4.1)\n",
      "Requirement already satisfied: sniffio in /Users/detraviousjamaribrinkley/Library/Python/3.9/lib/python/site-packages (from groq) (1.3.1)\n",
      "Requirement already satisfied: distro<2,>=1.7.0 in /Users/detraviousjamaribrinkley/Library/Python/3.9/lib/python/site-packages (from groq) (1.9.0)\n",
      "Requirement already satisfied: httpx<1,>=0.23.0 in /Users/detraviousjamaribrinkley/Library/Python/3.9/lib/python/site-packages (from groq) (0.28.1)\n",
      "Requirement already satisfied: anyio<5,>=3.5.0 in /Users/detraviousjamaribrinkley/Library/Python/3.9/lib/python/site-packages (from groq) (4.9.0)\n",
      "Requirement already satisfied: exceptiongroup>=1.0.2 in /Users/detraviousjamaribrinkley/Library/Python/3.9/lib/python/site-packages (from anyio<5,>=3.5.0->groq) (1.2.2)\n",
      "Requirement already satisfied: idna>=2.8 in /Users/detraviousjamaribrinkley/Library/Python/3.9/lib/python/site-packages (from anyio<5,>=3.5.0->groq) (3.10)\n",
      "Requirement already satisfied: certifi in /Users/detraviousjamaribrinkley/Library/Python/3.9/lib/python/site-packages (from httpx<1,>=0.23.0->groq) (2025.1.31)\n",
      "Requirement already satisfied: httpcore==1.* in /Users/detraviousjamaribrinkley/Library/Python/3.9/lib/python/site-packages (from httpx<1,>=0.23.0->groq) (1.0.7)\n",
      "Requirement already satisfied: h11<0.15,>=0.13 in /Users/detraviousjamaribrinkley/Library/Python/3.9/lib/python/site-packages (from httpcore==1.*->httpx<1,>=0.23.0->groq) (0.14.0)\n",
      "Requirement already satisfied: jsonpointer>=1.9 in /Users/detraviousjamaribrinkley/Library/Python/3.9/lib/python/site-packages (from jsonpatch<2.0,>=1.33->langchain-core) (3.0.0)\n",
      "Requirement already satisfied: language-data>=1.2 in /Users/detraviousjamaribrinkley/Library/Python/3.9/lib/python/site-packages (from langcodes<4.0.0,>=3.2.0->spacy) (1.3.0)\n",
      "Requirement already satisfied: orjson<4.0.0,>=3.9.14 in /Users/detraviousjamaribrinkley/Library/Python/3.9/lib/python/site-packages (from langsmith<0.4,>=0.1.125->langchain-core) (3.10.16)\n",
      "Requirement already satisfied: requests-toolbelt<2.0.0,>=1.0.0 in /Users/detraviousjamaribrinkley/Library/Python/3.9/lib/python/site-packages (from langsmith<0.4,>=0.1.125->langchain-core) (1.0.0)\n",
      "Requirement already satisfied: zstandard<0.24.0,>=0.23.0 in /Users/detraviousjamaribrinkley/Library/Python/3.9/lib/python/site-packages (from langsmith<0.4,>=0.1.125->langchain-core) (0.23.0)\n",
      "Requirement already satisfied: marisa-trie>=1.1.0 in /Users/detraviousjamaribrinkley/Library/Python/3.9/lib/python/site-packages (from language-data>=1.2->langcodes<4.0.0,>=3.2.0->spacy) (1.2.1)\n",
      "Requirement already satisfied: annotated-types>=0.6.0 in /Users/detraviousjamaribrinkley/Library/Python/3.9/lib/python/site-packages (from pydantic<3.0.0,>=2.5.2->langchain-core) (0.7.0)\n",
      "Requirement already satisfied: pydantic-core==2.33.1 in /Users/detraviousjamaribrinkley/Library/Python/3.9/lib/python/site-packages (from pydantic<3.0.0,>=2.5.2->langchain-core) (2.33.1)\n",
      "Requirement already satisfied: typing-inspection>=0.4.0 in /Users/detraviousjamaribrinkley/Library/Python/3.9/lib/python/site-packages (from pydantic<3.0.0,>=2.5.2->langchain-core) (0.4.0)\n",
      "Requirement already satisfied: six>=1.5 in /Library/Developer/CommandLineTools/Library/Frameworks/Python3.framework/Versions/3.9/lib/python3.9/site-packages (from python-dateutil>=2.8.2->pandas) (1.15.0)\n",
      "Requirement already satisfied: urllib3<3,>=1.21.1 in /Users/detraviousjamaribrinkley/Library/Python/3.9/lib/python/site-packages (from requests<3.0.0,>=2.13.0->spacy) (2.3.0)\n",
      "Requirement already satisfied: charset-normalizer<4,>=2 in /Users/detraviousjamaribrinkley/Library/Python/3.9/lib/python/site-packages (from requests<3.0.0,>=2.13.0->spacy) (3.4.1)\n",
      "Requirement already satisfied: blis<1.4.0,>=1.3.0 in /Users/detraviousjamaribrinkley/Library/Python/3.9/lib/python/site-packages (from thinc<8.4.0,>=8.3.4->spacy) (1.3.0)\n",
      "Requirement already satisfied: confection<1.0.0,>=0.0.1 in /Users/detraviousjamaribrinkley/Library/Python/3.9/lib/python/site-packages (from thinc<8.4.0,>=8.3.4->spacy) (0.1.5)\n",
      "Requirement already satisfied: click>=8.0.0 in /Users/detraviousjamaribrinkley/Library/Python/3.9/lib/python/site-packages (from typer<1.0.0,>=0.3.0->spacy) (8.1.8)\n",
      "Requirement already satisfied: rich>=10.11.0 in /Users/detraviousjamaribrinkley/Library/Python/3.9/lib/python/site-packages (from typer<1.0.0,>=0.3.0->spacy) (14.0.0)\n",
      "Requirement already satisfied: shellingham>=1.3.0 in /Users/detraviousjamaribrinkley/Library/Python/3.9/lib/python/site-packages (from typer<1.0.0,>=0.3.0->spacy) (1.5.4)\n",
      "Requirement already satisfied: markdown-it-py>=2.2.0 in /Users/detraviousjamaribrinkley/Library/Python/3.9/lib/python/site-packages (from rich>=10.11.0->typer<1.0.0,>=0.3.0->spacy) (3.0.0)\n",
      "Requirement already satisfied: pygments<3.0.0,>=2.13.0 in /Users/detraviousjamaribrinkley/Library/Python/3.9/lib/python/site-packages (from rich>=10.11.0->typer<1.0.0,>=0.3.0->spacy) (2.19.1)\n",
      "Requirement already satisfied: mdurl~=0.1 in /Users/detraviousjamaribrinkley/Library/Python/3.9/lib/python/site-packages (from markdown-it-py>=2.2.0->rich>=10.11.0->typer<1.0.0,>=0.3.0->spacy) (0.1.2)\n",
      "Requirement already satisfied: cloudpathlib<1.0.0,>=0.7.0 in /Users/detraviousjamaribrinkley/Library/Python/3.9/lib/python/site-packages (from weasel<0.5.0,>=0.1.0->spacy) (0.21.0)\n",
      "Requirement already satisfied: smart-open<8.0.0,>=5.2.1 in /Users/detraviousjamaribrinkley/Library/Python/3.9/lib/python/site-packages (from weasel<0.5.0,>=0.1.0->spacy) (7.1.0)\n",
      "Requirement already satisfied: wrapt in /Users/detraviousjamaribrinkley/Library/Python/3.9/lib/python/site-packages (from smart-open<8.0.0,>=5.2.1->weasel<0.5.0,>=0.1.0->spacy) (1.17.2)\n",
      "Requirement already satisfied: MarkupSafe>=2.0 in /Users/detraviousjamaribrinkley/Library/Python/3.9/lib/python/site-packages (from jinja2->spacy) (3.0.2)\n",
      "\u001b[33mWARNING: You are using pip version 21.2.4; however, version 25.0.1 is available.\n",
      "You should consider upgrading via the '/Library/Developer/CommandLineTools/usr/bin/python3 -m pip install --upgrade pip' command.\u001b[0m\n"
     ]
    }
   ],
   "source": [
    "!pip3 install -U scikit-learn pandas tqdm langchain-core spacy groq python-dotenv"
   ]
  },
  {
   "cell_type": "code",
   "execution_count": 3,
   "id": "1811bbab",
   "metadata": {},
   "outputs": [],
   "source": [
    "# !pip3 install python-dotenv"
   ]
  },
  {
   "cell_type": "code",
   "execution_count": 4,
   "id": "01a3b011",
   "metadata": {},
   "outputs": [
    {
     "name": "stderr",
     "output_type": "stream",
     "text": [
      "/Users/detraviousjamaribrinkley/Library/Python/3.9/lib/python/site-packages/urllib3/__init__.py:35: NotOpenSSLWarning: urllib3 v2 only supports OpenSSL 1.1.1+, currently the 'ssl' module is compiled with 'LibreSSL 2.8.3'. See: https://github.com/urllib3/urllib3/issues/3020\n",
      "  warnings.warn(\n"
     ]
    }
   ],
   "source": [
    "import os, sys\n",
    "\n",
    "import pandas as pd\n",
    "\n",
    "from tqdm import tqdm\n",
    "from langchain_core.prompts import PipelinePromptTemplate, PromptTemplate\n",
    "\n",
    "# Get the current working directory of the notebook\n",
    "notebook_dir = os.getcwd()\n",
    "# Add the parent directory to the system path\n",
    "sys.path.append(os.path.join(notebook_dir, '../'))\n",
    "\n",
    "from log_files import DataFrameLogger\n",
    "from data_processing import DataProcessing\n",
    "from text_generation_models import TextGenerationModelFactory, LlamaVersatileTextGenerationModel, LlamaInstantTextGenerationModel, Llama70B8192TextGenerationModel, Llama8B8192TextGenerationModel, MixtralTextGenerationModel"
   ]
  },
  {
   "cell_type": "code",
   "execution_count": 5,
   "id": "b6f573fb",
   "metadata": {},
   "outputs": [],
   "source": [
    "# pd.set_option('max_colwidth', 800)\n",
    "\n",
    "llama_versatile_generation_model = LlamaVersatileTextGenerationModel()\n",
    "llama_instant_generation_model = LlamaInstantTextGenerationModel()\n",
    "llama_70b_8192_generation_model = Llama70B8192TextGenerationModel()\n",
    "llama_8b_8192_generation_model = Llama8B8192TextGenerationModel()\n",
    "mixtral_generation_model = MixtralTextGenerationModel()"
   ]
  },
  {
   "cell_type": "markdown",
   "id": "50f78c6a",
   "metadata": {},
   "source": [
    "## LangChain Templates for Domain Predictions"
   ]
  },
  {
   "cell_type": "code",
   "execution_count": 6,
   "id": "4d32edc7",
   "metadata": {},
   "outputs": [],
   "source": [
    "full_prediction_template = \"\"\"{prediction_properties}\n",
    "\n",
    "{prediction_requirements}\n",
    "\n",
    "{prediction_templates}\n",
    "\n",
    "{prediction_examples}\n",
    "\"\"\"\n",
    "\n",
    "full_prediction_prompt = PromptTemplate.from_template(full_prediction_template)"
   ]
  },
  {
   "cell_type": "markdown",
   "id": "5ec60a77",
   "metadata": {},
   "source": [
    "Google predictive spelling/autocomplete "
   ]
  },
  {
   "cell_type": "code",
   "execution_count": 7,
   "id": "3d420e85",
   "metadata": {},
   "outputs": [],
   "source": [
    "prediction_properties_template = \"\"\"A prediction ($p$) = ($p_s$, $p_t$, $p_d$, $p_a$), where it consists of the following four properties:\n",
    "\n",
    "    1. $p_s$, any source entity in the {prediction_domain} domain.\n",
    "        - Can be a person (with a name) or a {prediction_domain} person such as a {prediction_domain} reporter, {prediction_domain} analyst, {prediction_domain} expert, {prediction_domain} top executive, {prediction_domain} senior level person, etc).\n",
    "        - Can only be an organization that is associated with the {prediction_domain} prediction.\n",
    "    2. $p_t$, any target entity in the {prediction_domain} domain.\n",
    "\t      - Can be a person (with a name) or a {prediction_domain} person such as a {prediction_domain} reporter, {prediction_domain} analyst, {prediction_domain} expert, {prediction_domain} top executive, {prediction_domain} senior level person, etc).\n",
    "        - Can only be an organization that is associated with the {prediction_domain} prediction.\n",
    "    3. $p_d$, date range when $p$ is expected to come to fruition.\n",
    "        - Forecast can range from a second to anytime in the future.\n",
    "        - Answers the questions: \"How far to go out from today?\" or \"Where to stop?\".\n",
    "    4. $p_a$, {prediction_domain} prediction attribute.\n",
    "        - Characteristics of a domain-specific attributes such as various quantifiable metrics relevant to the {prediction_domain} domain.\n",
    "        - Some examples are {prediction_domain_attribute}.  \n",
    "\"\"\"\n",
    "prediction_properties_prompt = PromptTemplate.from_template(prediction_properties_template)"
   ]
  },
  {
   "cell_type": "markdown",
   "id": "1b5179fe",
   "metadata": {},
   "source": [
    "    - Keep the brackets around the prediction properties when generating predictions and be sure to include brackets around dates such as \"2024-10-15\", \"2024/08/20\", \"Q4 of 2024\", \"2025\", \"2027 Q1\", \"Q3 2027\", \"On 21 Aug 2024\"."
   ]
  },
  {
   "cell_type": "code",
   "execution_count": 8,
   "id": "95548954",
   "metadata": {},
   "outputs": [],
   "source": [
    "prediction_requirements_template = \"\"\"{prediction_domain} requirements to use for each prediction:\n",
    "\n",
    "    - Should be based on real-world {prediction_domain} data and not hallucinate.\n",
    "    - Only a simple sentence (prediction) (and NOT compounding using \"and\" or \"or\").\n",
    "    - Should diversify all nine properties of the prediction ($p$) meaning to change and not use same (p_p, p_o, p_t, p_f, p_a, p_s, p_m, p_v, p_l) .\n",
    "    - Should use synonyms of $p_w$ such as forecasts, speculates, foresee, envision, etc., and not use any of them more than ten times.\n",
    "    - The prediction should be unique and not repeated.\n",
    "    - The forecast time ($p_f$) should always be after current time ($p_t$) of when forecast ($p$) was made.\n",
    "    - Do not number the predictions.\n",
    "    - Do not say, \"As the {prediction_domain} at organization ($p_o$), I will generate company-based {prediction_domain} predictions using the provided templates.\" or anything similar.\n",
    "    - Should have a forecast time ($p_f$) when $p$ is expected to come to fruition between 2025 to 2050.\n",
    "    - Use the five different templates and examples provided.\n",
    "    - Change how the current time ($p_t$) and forecast time ($p_f$) are written in the prediction with examples of (1) Wednesday, August 21, 2024; (2) Wed, August 21, 2024; (3) 08/21/2024; (4) 08/21/2024; (5) 21/08/2024; (6) 21 August 2024; (7) 2024/08/21; (8) 2024-08-21; (9) August 21, 2024; (10) Aug 21, 2024; (11) 21 August 2024, (12) 21 Aug 2024, Q3 of 2027, 2029 of Q3, etc (with removing day of week).\n",
    "    {domain_requirements}\n",
    "    - Stop saying, \"Here are {predictions_N} unique {prediction_domain} predictions based on the provided templates and examples:\" in the prompt.\n",
    "    - Do not use any of the examples in the prompt.\n",
    "    - In front of every prodiction, put the template number in the format of \"T1:\", \"T2:\", etc. and do not number them like \"1.\", \"2.\", etc.\n",
    "    - Disregard brackets: \"[]\"\n",
    "    - Should never say \"Here are {predictions_N} unique {prediction_domain} predictions based on the provided templates and examples:\" \n",
    "    - Be sure to space words when generating the prediction metric ($p_m$) like \"from _ to _ \n",
    "\"\"\"\n",
    "prediction_requirements_prompt = PromptTemplate.from_template(prediction_requirements_template)"
   ]
  },
  {
   "cell_type": "code",
   "execution_count": 9,
   "id": "07129ae1",
   "metadata": {},
   "outputs": [],
   "source": [
    "prediction_templates_template = \"\"\"Here are some {prediction_domain} templates:\n",
    "\n",
    "- {prediction_domain} template 1: On [ $p_t$ ], [ $p_p$ ] [ $p_w$ ] that the [ $p_a$ ] at [ $p_o$ ] [ $p_v$ ] [ $p_s$ ] by [ $p_m$ ] in [ $p_f$ ].\n",
    "\n",
    "\"\"\"\n",
    "prediction_templates_prompt = PromptTemplate.from_template(prediction_templates_template)"
   ]
  },
  {
   "cell_type": "code",
   "execution_count": 10,
   "id": "e559ea64",
   "metadata": {},
   "outputs": [],
   "source": [
    "prediction_examples_template = \"\"\"Here are some examples of {prediction_domain} predictions:\n",
    "\n",
    "{domain_examples}\n",
    "\n",
    "With the above, generate a unique set of {predictions_N} predictions. Think from the perspective of an {prediction_domain} analyst, expert, top executive, or senior level person.\"\"\"\n",
    "prediction_examples_prompt = PromptTemplate.from_template(prediction_examples_template)"
   ]
  },
  {
   "cell_type": "code",
   "execution_count": 11,
   "id": "ad59deb9",
   "metadata": {},
   "outputs": [
    {
     "name": "stderr",
     "output_type": "stream",
     "text": [
      "/var/folders/78/9z0b45fx1xqbwxh8vk97lcfh0000gn/T/ipykernel_16491/3566428802.py:8: LangChainDeprecationWarning: This class is deprecated. Please see the docstring below or at the link for a replacement option: https://python.langchain.com/api_reference/core/prompts/langchain_core.prompts.pipeline.PipelinePromptTemplate.html\n",
      "  pipeline_prompt = PipelinePromptTemplate(\n"
     ]
    }
   ],
   "source": [
    "prediction_input_prompts = [\n",
    "    (\"prediction_properties\", prediction_properties_prompt),\n",
    "    (\"prediction_requirements\", prediction_requirements_prompt),\n",
    "    (\"prediction_templates\", prediction_templates_prompt),\n",
    "    (\"prediction_examples\", prediction_examples_prompt),\n",
    "]\n",
    "\n",
    "pipeline_prompt = PipelinePromptTemplate(\n",
    "    final_prompt=full_prediction_prompt, pipeline_prompts=prediction_input_prompts\n",
    ")"
   ]
  },
  {
   "cell_type": "markdown",
   "id": "099b1ddb",
   "metadata": {},
   "source": [
    "## Generate Domain Predictions"
   ]
  },
  {
   "cell_type": "code",
   "execution_count": 12,
   "id": "be6a146d",
   "metadata": {},
   "outputs": [],
   "source": [
    "predictions_N = 10"
   ]
  },
  {
   "cell_type": "markdown",
   "id": "dd133022",
   "metadata": {},
   "source": [
    "### Generate Financial Predictions"
   ]
  },
  {
   "cell_type": "code",
   "execution_count": 13,
   "id": "5e2ddf01",
   "metadata": {},
   "outputs": [],
   "source": [
    "financial_attributes = \"\"\"stock price, net profit, revenue, operating cash flow, research and development expenses, operating income, gross profit.\"\"\"\n",
    "financial_requirements = \"\"\"- Should be based on real-world financial earnings reports.\n",
    "    - Suppose the time when $p$ was made is during any earning season.\n",
    "    - Include stocks from all sectors such as consumer staples, energy, finance, health care, industrials, materials, media, real estate, retail, technology, utilities, defense, etc.\n",
    "    - Include the US Dollar sign ($) before or USD after the amount of the financial attribute.\"\"\"\n",
    "\n",
    "financial_examples = \"\"\"\n",
    "- financial examples for template 1:\n",
    "\t\t- {prediction_domain} template 1: [ $p_s$ ] forecasts that the [ $p_a$ ] at [ $p_t$ ] will likely decrease in [ $p_d$ ].\n",
    "\n",
    "    1. [Detravious, an investor] forecasts that the [stock price] at [Apple] will likely decrease in [2025 Q1 to 2025 Q3].\n",
    "    2. [Ava Lee] predicts that the [operating cash flow] at [ExxonMobil] should decrease in [03/21/2025 to 08/21/2025].\n",
    "    \n",
    " \"\"\""
   ]
  },
  {
   "cell_type": "code",
   "execution_count": 14,
   "id": "8d47f9ba",
   "metadata": {},
   "outputs": [
    {
     "name": "stdout",
     "output_type": "stream",
     "text": [
      "A prediction ($p$) = ($p_s$, $p_t$, $p_d$, $p_a$), where it consists of the following four properties:\n",
      "\n",
      "    1. $p_s$, any source entity in the financial domain.\n",
      "        - Can be a person (with a name) or a financial person such as a financial reporter, financial analyst, financial expert, financial top executive, financial senior level person, etc).\n",
      "        - Can only be an organization that is associated with the financial prediction.\n",
      "    2. $p_t$, any target entity in the financial domain.\n",
      "\t      - Can be a person (with a name) or a financial person such as a financial reporter, financial analyst, financial expert, financial top executive, financial senior level person, etc).\n",
      "        - Can only be an organization that is associated with the financial prediction.\n",
      "    3. $p_d$, date range when $p$ is expected to come to fruition.\n",
      "        - Forecast can range from a second to anytime in the future.\n",
      "        - Answers the questions: \"How far to go out from today?\" or \"Where to stop?\".\n",
      "    4. $p_a$, financial prediction attribute.\n",
      "        - Characteristics of a domain-specific attributes such as various quantifiable metrics relevant to the financial domain.\n",
      "        - Some examples are stock price, net profit, revenue, operating cash flow, research and development expenses, operating income, gross profit..  \n",
      "\n",
      "\n",
      "financial requirements to use for each prediction:\n",
      "\n",
      "    - Should be based on real-world financial data and not hallucinate.\n",
      "    - Only a simple sentence (prediction) (and NOT compounding using \"and\" or \"or\").\n",
      "    - Should diversify all nine properties of the prediction ($p$) meaning to change and not use same (p_p, p_o, p_t, p_f, p_a, p_s, p_m, p_v, p_l) .\n",
      "    - Should use synonyms of $p_w$ such as forecasts, speculates, foresee, envision, etc., and not use any of them more than ten times.\n",
      "    - The prediction should be unique and not repeated.\n",
      "    - The forecast time ($p_f$) should always be after current time ($p_t$) of when forecast ($p$) was made.\n",
      "    - Do not number the predictions.\n",
      "    - Do not say, \"As the financial at organization ($p_o$), I will generate company-based financial predictions using the provided templates.\" or anything similar.\n",
      "    - Should have a forecast time ($p_f$) when $p$ is expected to come to fruition between 2025 to 2050.\n",
      "    - Use the five different templates and examples provided.\n",
      "    - Change how the current time ($p_t$) and forecast time ($p_f$) are written in the prediction with examples of (1) Wednesday, August 21, 2024; (2) Wed, August 21, 2024; (3) 08/21/2024; (4) 08/21/2024; (5) 21/08/2024; (6) 21 August 2024; (7) 2024/08/21; (8) 2024-08-21; (9) August 21, 2024; (10) Aug 21, 2024; (11) 21 August 2024, (12) 21 Aug 2024, Q3 of 2027, 2029 of Q3, etc (with removing day of week).\n",
      "    - Should be based on real-world financial earnings reports.\n",
      "    - Suppose the time when $p$ was made is during any earning season.\n",
      "    - Include stocks from all sectors such as consumer staples, energy, finance, health care, industrials, materials, media, real estate, retail, technology, utilities, defense, etc.\n",
      "    - Include the US Dollar sign ($) before or USD after the amount of the financial attribute.\n",
      "    - Stop saying, \"Here are 10 unique financial predictions based on the provided templates and examples:\" in the prompt.\n",
      "    - Do not use any of the examples in the prompt.\n",
      "    - In front of every prodiction, put the template number in the format of \"T1:\", \"T2:\", etc. and do not number them like \"1.\", \"2.\", etc.\n",
      "    - Disregard brackets: \"[]\"\n",
      "    - Should never say \"Here are 10 unique financial predictions based on the provided templates and examples:\" \n",
      "    - Be sure to space words when generating the prediction metric ($p_m$) like \"from _ to _ \n",
      "\n",
      "\n",
      "Here are some financial templates:\n",
      "\n",
      "- financial template 1: On [ $p_t$ ], [ $p_p$ ] [ $p_w$ ] that the [ $p_a$ ] at [ $p_o$ ] [ $p_v$ ] [ $p_s$ ] by [ $p_m$ ] in [ $p_f$ ].\n",
      "\n",
      "\n",
      "\n",
      "Here are some examples of financial predictions:\n",
      "\n",
      "\n",
      "- financial examples for template 1:\n",
      "\t\t- {prediction_domain} template 1: [ $p_s$ ] forecasts that the [ $p_a$ ] at [ $p_t$ ] will likely decrease in [ $p_d$ ].\n",
      "\n",
      "    1. [Detravious, an investor] forecasts that the [stock price] at [Apple] will likely decrease in [2025 Q1 to 2025 Q3].\n",
      "    2. [Ava Lee] predicts that the [operating cash flow] at [ExxonMobil] should decrease in [03/21/2025 to 08/21/2025].\n",
      "    \n",
      " \n",
      "\n",
      "With the above, generate a unique set of 10 predictions. Think from the perspective of an financial analyst, expert, top executive, or senior level person.\n",
      "\n"
     ]
    }
   ],
   "source": [
    "financial_input_dict = {\n",
    "    \"prediction_domain\": \"financial\",\n",
    "    \"prediction_domain_attribute\": financial_attributes,\n",
    "    \"domain_requirements\": financial_requirements,\n",
    "    \"domain_examples\": financial_examples,\n",
    "    \"predictions_N\": predictions_N\n",
    "}\n",
    "financial_prompt_output = pipeline_prompt.format(**financial_input_dict)\n",
    "print(financial_prompt_output)\n",
    "# prompt_template = \"Your prompt here\"\n",
    "# label = 1  # or \"0\" for non-prediction\n",
    "# domain = \"finance\" \n",
    "\n",
    "\n",
    "# pd.set_option('max_colwidth', 800)\n",
    "\n",
    "# llama_versatile_generation_model = LlamaVersatileTextGenerationModel()\n",
    "# llama_instant_generation_model = LlamaInstantTextGenerationModel()\n",
    "# llama_70b_8192_generation_model = Llama70B8192TextGenerationModel()\n",
    "# llama_8b_8192_generation_model = Llama8B8192TextGenerationModel()\n",
    "# mixtral_generation_model = MixtralTextGenerationModel()\n",
    "\n",
    "\n",
    "# versatile_financial_df = llama_versatile_generation_model.generate_predictions(financial_prompt_output, label, domain)\n",
    "# instant_financial_df = llama_instant_generation_model.generate_predictions(financial_prompt_output, label, domain)\n",
    "# seventy_financial_df = llama_70b_8192_generation_model.generate_predictions(financial_prompt_output, label, domain)\n",
    "# eight_financial_df = llama_8b_8192_generation_model.generate_predictions(financial_prompt_output, label, domain)\n",
    "# mixtral_financial_df = mixtral_generation_model.generate_predictions(financial_prompt_output, label, domain)\n",
    "\n",
    "# financial_df = [versatile_financial_df, instant_financial_df, seventy_financial_df, eight_financial_df, mixtral_financial_df]\n",
    "# DataProcessing.concat_dfs(financial_df)"
   ]
  },
  {
   "cell_type": "code",
   "execution_count": 15,
   "id": "1d02699a",
   "metadata": {},
   "outputs": [],
   "source": [
    "tgmf = TextGenerationModelFactory()\n",
    "\n",
    "N_batches = 1\n",
    "text_generation_models = [llama_instant_generation_model]\n",
    "# text_generation_models = [llama_versatile_generation_model, llama_instant_generation_model, llama_70b_8192_generation_model, llama_8b_8192_generation_model, mixtral_generation_model]\n",
    "# text_generation_models = [llama_instant_generation_model, llama_8b_8192_generation_model]\n",
    "\n",
    "# text_generation_models = [llama_versatile_generation_model, llama_70b_8192_generation_model, mixtral_generation_model]"
   ]
  },
  {
   "cell_type": "code",
   "execution_count": 17,
   "id": "1546368e",
   "metadata": {},
   "outputs": [
    {
     "name": "stderr",
     "output_type": "stream",
     "text": [
      "  0%|          | 0/1 [00:00<?, ?it/s]"
     ]
    },
    {
     "name": "stdout",
     "output_type": "stream",
     "text": [
      "finance --- <text_generation_models.LlamaInstantTextGenerationModel object at 0x1051c1610>\n"
     ]
    },
    {
     "name": "stderr",
     "output_type": "stream",
     "text": [
      "100%|██████████| 1/1 [00:01<00:00,  1.03s/it]"
     ]
    },
    {
     "name": "stdout",
     "output_type": "stream",
     "text": [
      "\n",
      "====================================================================================\n"
     ]
    },
    {
     "name": "stderr",
     "output_type": "stream",
     "text": [
      "\n"
     ]
    }
   ],
   "source": [
    "prediction_domains = [\"finance\"]\n",
    "prediction_prompt_outputs = {\n",
    "    \"finance\": financial_prompt_output,\n",
    "}\n",
    "prediction_label = 1\n",
    "\n",
    "batched_predictions_df = tgmf.batch_generate_predictions(N_batches=N_batches, \n",
    "                                text_generation_models=text_generation_models, \n",
    "                                domains=prediction_domains,\n",
    "                                prompt_outputs=prediction_prompt_outputs,\n",
    "                                sentence_label=prediction_label)"
   ]
  },
  {
   "cell_type": "code",
   "execution_count": 18,
   "id": "14728864",
   "metadata": {},
   "outputs": [
    {
     "data": {
      "text/plain": [
       "[                                       Base Sentence  Sentence Label  \\\n",
       " 0  T1: On Wednesday, August 21, 2024, Detravious,...               1   \n",
       " 1  T1: On Wed, August 21, 2024, Ava Lee predicts ...               1   \n",
       " 2  T1: On 08/21/2024, Ethan Kim forecasts that th...               1   \n",
       " 3  T1: On 08/21/2024, Rachel Chen speculates that...               1   \n",
       " 4  T1: On 21/08/2024, David Lee envisions that th...               1   \n",
       " 5  T1: On 21 August 2024, Emily Wong foresees tha...               1   \n",
       " 6  T1: On 2024/08/21, James Chen predicts that th...               1   \n",
       " 7  T1: On 2024-08-21, Sarah Kim forecasts that th...               1   \n",
       " 8  T1: On August 21, 2024, Kevin Brown speculates...               1   \n",
       " 9  T1: On Aug 21, 2024, Olivia Lee envisions that...               1   \n",
       " \n",
       "              Model Name   Domain  Batch Index  \n",
       " 0  llama-3.1-8b-instant  finance            0  \n",
       " 1  llama-3.1-8b-instant  finance            0  \n",
       " 2  llama-3.1-8b-instant  finance            0  \n",
       " 3  llama-3.1-8b-instant  finance            0  \n",
       " 4  llama-3.1-8b-instant  finance            0  \n",
       " 5  llama-3.1-8b-instant  finance            0  \n",
       " 6  llama-3.1-8b-instant  finance            0  \n",
       " 7  llama-3.1-8b-instant  finance            0  \n",
       " 8  llama-3.1-8b-instant  finance            0  \n",
       " 9  llama-3.1-8b-instant  finance            0  ]"
      ]
     },
     "execution_count": 18,
     "metadata": {},
     "output_type": "execute_result"
    }
   ],
   "source": [
    "batched_predictions_df"
   ]
  },
  {
   "cell_type": "markdown",
   "id": "9eaac4c9",
   "metadata": {},
   "source": [
    "### Generate Health Predictions"
   ]
  },
  {
   "cell_type": "code",
   "execution_count": 19,
   "id": "c5834805",
   "metadata": {},
   "outputs": [
    {
     "data": {
      "text/plain": [
       "[                                                                                                                                                      Base Sentence  \\\n",
       " 0         T1: On Wednesday, August 21, 2024, Detravious, an investor, forecasts that the stock price at Apple will likely decrease from $150 to $120 in Q3 of 2027.   \n",
       " 1           T1: On Wed, August 21, 2024, Ava Lee predicts that the operating cash flow at ExxonMobil should decrease from $20 billion to $15 billion in 2029 of Q3.   \n",
       " 2                                 T1: On 08/21/2024, Ethan Kim forecasts that the revenue at Amazon will likely increase from $500 billion to $600 billion in 2028.   \n",
       " 3                    T1: On 08/21/2024, Rachel Chen speculates that the net profit at Microsoft will likely decrease from $20 billion to $15 billion in Q2 of 2026.   \n",
       " 4                          T1: On 21/08/2024, David Lee envisions that the gross profit at Alphabet will likely increase from $100 billion to $120 billion in 2027.   \n",
       " 5  T1: On 21 August 2024, Emily Wong foresees that the research and development expenses at Tesla will likely decrease from $5 billion to $3 billion in Q4 of 2025.   \n",
       " 6               T1: On 2024/08/21, James Chen predicts that the operating income at Johnson & Johnson will likely increase from $20 billion to $25 billion in 2028.   \n",
       " 7  T1: On 2024-08-21, Sarah Kim forecasts that the cash flow from operations at Procter & Gamble will likely decrease from $10 billion to $8 billion in Q1 of 2026.   \n",
       " 8                         T1: On August 21, 2024, Kevin Brown speculates that the earnings per share at Coca-Cola will likely increase from $2.50 to $3.00 in 2029.   \n",
       " 9                                     T1: On Aug 21, 2024, Olivia Lee envisions that the return on equity at 3M will likely decrease from 20% to 15% in Q3 of 2027.   \n",
       " \n",
       "    Sentence Label            Model Name   Domain  Batch Index  \n",
       " 0               1  llama-3.1-8b-instant  finance            0  \n",
       " 1               1  llama-3.1-8b-instant  finance            0  \n",
       " 2               1  llama-3.1-8b-instant  finance            0  \n",
       " 3               1  llama-3.1-8b-instant  finance            0  \n",
       " 4               1  llama-3.1-8b-instant  finance            0  \n",
       " 5               1  llama-3.1-8b-instant  finance            0  \n",
       " 6               1  llama-3.1-8b-instant  finance            0  \n",
       " 7               1  llama-3.1-8b-instant  finance            0  \n",
       " 8               1  llama-3.1-8b-instant  finance            0  \n",
       " 9               1  llama-3.1-8b-instant  finance            0  ]"
      ]
     },
     "execution_count": 19,
     "metadata": {},
     "output_type": "execute_result"
    }
   ],
   "source": [
    "pd.set_option('max_colwidth', 800)\n",
    "pd.set_option('display.max_columns', None)\n",
    "pd.set_option('display.max_rows', None)\n",
    "batched_predictions_df"
   ]
  },
  {
   "cell_type": "code",
   "execution_count": 20,
   "id": "1cde3a2a",
   "metadata": {},
   "outputs": [
    {
     "data": {
      "text/html": [
       "<div>\n",
       "<style scoped>\n",
       "    .dataframe tbody tr th:only-of-type {\n",
       "        vertical-align: middle;\n",
       "    }\n",
       "\n",
       "    .dataframe tbody tr th {\n",
       "        vertical-align: top;\n",
       "    }\n",
       "\n",
       "    .dataframe thead th {\n",
       "        text-align: right;\n",
       "    }\n",
       "</style>\n",
       "<table border=\"1\" class=\"dataframe\">\n",
       "  <thead>\n",
       "    <tr style=\"text-align: right;\">\n",
       "      <th></th>\n",
       "      <th>Base Sentence</th>\n",
       "      <th>Sentence Label</th>\n",
       "      <th>Model Name</th>\n",
       "      <th>Domain</th>\n",
       "      <th>Batch Index</th>\n",
       "    </tr>\n",
       "  </thead>\n",
       "  <tbody>\n",
       "    <tr>\n",
       "      <th>0</th>\n",
       "      <td>T1: On Wednesday, August 21, 2024, Detravious, an investor, forecasts that the stock price at Apple will likely decrease from $150 to $120 in Q3 of 2027.</td>\n",
       "      <td>1</td>\n",
       "      <td>llama-3.1-8b-instant</td>\n",
       "      <td>finance</td>\n",
       "      <td>0</td>\n",
       "    </tr>\n",
       "    <tr>\n",
       "      <th>1</th>\n",
       "      <td>T1: On Wed, August 21, 2024, Ava Lee predicts that the operating cash flow at ExxonMobil should decrease from $20 billion to $15 billion in 2029 of Q3.</td>\n",
       "      <td>1</td>\n",
       "      <td>llama-3.1-8b-instant</td>\n",
       "      <td>finance</td>\n",
       "      <td>0</td>\n",
       "    </tr>\n",
       "    <tr>\n",
       "      <th>2</th>\n",
       "      <td>T1: On 08/21/2024, Ethan Kim forecasts that the revenue at Amazon will likely increase from $500 billion to $600 billion in 2028.</td>\n",
       "      <td>1</td>\n",
       "      <td>llama-3.1-8b-instant</td>\n",
       "      <td>finance</td>\n",
       "      <td>0</td>\n",
       "    </tr>\n",
       "    <tr>\n",
       "      <th>3</th>\n",
       "      <td>T1: On 08/21/2024, Rachel Chen speculates that the net profit at Microsoft will likely decrease from $20 billion to $15 billion in Q2 of 2026.</td>\n",
       "      <td>1</td>\n",
       "      <td>llama-3.1-8b-instant</td>\n",
       "      <td>finance</td>\n",
       "      <td>0</td>\n",
       "    </tr>\n",
       "    <tr>\n",
       "      <th>4</th>\n",
       "      <td>T1: On 21/08/2024, David Lee envisions that the gross profit at Alphabet will likely increase from $100 billion to $120 billion in 2027.</td>\n",
       "      <td>1</td>\n",
       "      <td>llama-3.1-8b-instant</td>\n",
       "      <td>finance</td>\n",
       "      <td>0</td>\n",
       "    </tr>\n",
       "    <tr>\n",
       "      <th>5</th>\n",
       "      <td>T1: On 21 August 2024, Emily Wong foresees that the research and development expenses at Tesla will likely decrease from $5 billion to $3 billion in Q4 of 2025.</td>\n",
       "      <td>1</td>\n",
       "      <td>llama-3.1-8b-instant</td>\n",
       "      <td>finance</td>\n",
       "      <td>0</td>\n",
       "    </tr>\n",
       "    <tr>\n",
       "      <th>6</th>\n",
       "      <td>T1: On 2024/08/21, James Chen predicts that the operating income at Johnson &amp; Johnson will likely increase from $20 billion to $25 billion in 2028.</td>\n",
       "      <td>1</td>\n",
       "      <td>llama-3.1-8b-instant</td>\n",
       "      <td>finance</td>\n",
       "      <td>0</td>\n",
       "    </tr>\n",
       "    <tr>\n",
       "      <th>7</th>\n",
       "      <td>T1: On 2024-08-21, Sarah Kim forecasts that the cash flow from operations at Procter &amp; Gamble will likely decrease from $10 billion to $8 billion in Q1 of 2026.</td>\n",
       "      <td>1</td>\n",
       "      <td>llama-3.1-8b-instant</td>\n",
       "      <td>finance</td>\n",
       "      <td>0</td>\n",
       "    </tr>\n",
       "    <tr>\n",
       "      <th>8</th>\n",
       "      <td>T1: On August 21, 2024, Kevin Brown speculates that the earnings per share at Coca-Cola will likely increase from $2.50 to $3.00 in 2029.</td>\n",
       "      <td>1</td>\n",
       "      <td>llama-3.1-8b-instant</td>\n",
       "      <td>finance</td>\n",
       "      <td>0</td>\n",
       "    </tr>\n",
       "    <tr>\n",
       "      <th>9</th>\n",
       "      <td>T1: On Aug 21, 2024, Olivia Lee envisions that the return on equity at 3M will likely decrease from 20% to 15% in Q3 of 2027.</td>\n",
       "      <td>1</td>\n",
       "      <td>llama-3.1-8b-instant</td>\n",
       "      <td>finance</td>\n",
       "      <td>0</td>\n",
       "    </tr>\n",
       "  </tbody>\n",
       "</table>\n",
       "</div>"
      ],
      "text/plain": [
       "                                                                                                                                                      Base Sentence  \\\n",
       "0         T1: On Wednesday, August 21, 2024, Detravious, an investor, forecasts that the stock price at Apple will likely decrease from $150 to $120 in Q3 of 2027.   \n",
       "1           T1: On Wed, August 21, 2024, Ava Lee predicts that the operating cash flow at ExxonMobil should decrease from $20 billion to $15 billion in 2029 of Q3.   \n",
       "2                                 T1: On 08/21/2024, Ethan Kim forecasts that the revenue at Amazon will likely increase from $500 billion to $600 billion in 2028.   \n",
       "3                    T1: On 08/21/2024, Rachel Chen speculates that the net profit at Microsoft will likely decrease from $20 billion to $15 billion in Q2 of 2026.   \n",
       "4                          T1: On 21/08/2024, David Lee envisions that the gross profit at Alphabet will likely increase from $100 billion to $120 billion in 2027.   \n",
       "5  T1: On 21 August 2024, Emily Wong foresees that the research and development expenses at Tesla will likely decrease from $5 billion to $3 billion in Q4 of 2025.   \n",
       "6               T1: On 2024/08/21, James Chen predicts that the operating income at Johnson & Johnson will likely increase from $20 billion to $25 billion in 2028.   \n",
       "7  T1: On 2024-08-21, Sarah Kim forecasts that the cash flow from operations at Procter & Gamble will likely decrease from $10 billion to $8 billion in Q1 of 2026.   \n",
       "8                         T1: On August 21, 2024, Kevin Brown speculates that the earnings per share at Coca-Cola will likely increase from $2.50 to $3.00 in 2029.   \n",
       "9                                     T1: On Aug 21, 2024, Olivia Lee envisions that the return on equity at 3M will likely decrease from 20% to 15% in Q3 of 2027.   \n",
       "\n",
       "   Sentence Label            Model Name   Domain  Batch Index  \n",
       "0               1  llama-3.1-8b-instant  finance            0  \n",
       "1               1  llama-3.1-8b-instant  finance            0  \n",
       "2               1  llama-3.1-8b-instant  finance            0  \n",
       "3               1  llama-3.1-8b-instant  finance            0  \n",
       "4               1  llama-3.1-8b-instant  finance            0  \n",
       "5               1  llama-3.1-8b-instant  finance            0  \n",
       "6               1  llama-3.1-8b-instant  finance            0  \n",
       "7               1  llama-3.1-8b-instant  finance            0  \n",
       "8               1  llama-3.1-8b-instant  finance            0  \n",
       "9               1  llama-3.1-8b-instant  finance            0  "
      ]
     },
     "execution_count": 20,
     "metadata": {},
     "output_type": "execute_result"
    }
   ],
   "source": [
    "predictions_df = DataProcessing.concat_dfs(batched_predictions_df)\n",
    "predictions_df"
   ]
  },
  {
   "cell_type": "code",
   "execution_count": null,
   "id": "1ec896b0",
   "metadata": {},
   "outputs": [],
   "source": [
    "# logger = DataFrameLogger()\n",
    "# logger.log_df(predictions_df)"
   ]
  },
  {
   "cell_type": "code",
   "execution_count": null,
   "id": "a123b034",
   "metadata": {},
   "outputs": [],
   "source": [
    "# logged_data = logger.load_log()\n",
    "# logged_data"
   ]
  },
  {
   "cell_type": "code",
   "execution_count": null,
   "id": "0cd14bc8",
   "metadata": {},
   "outputs": [],
   "source": [
    "%store updated_predictions_df\n",
    "%store updated_non_predictions_df"
   ]
  },
  {
   "cell_type": "code",
   "execution_count": null,
   "id": "4a857cfb",
   "metadata": {},
   "outputs": [],
   "source": []
  }
 ],
 "metadata": {
  "kernelspec": {
   "display_name": "Python 3",
   "language": "python",
   "name": "python3"
  },
  "language_info": {
   "codemirror_mode": {
    "name": "ipython",
    "version": 3
   },
   "file_extension": ".py",
   "mimetype": "text/x-python",
   "name": "python",
   "nbconvert_exporter": "python",
   "pygments_lexer": "ipython3",
   "version": "3.9.6"
  }
 },
 "nbformat": 4,
 "nbformat_minor": 5
}
