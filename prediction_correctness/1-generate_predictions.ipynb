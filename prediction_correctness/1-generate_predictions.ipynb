{
 "cells": [
  {
   "cell_type": "markdown",
   "id": "5fc9e2f4",
   "metadata": {},
   "source": [
    "# 1-Generate Predictions using LangChain\n",
    "\n",
    "- **Goal:** Prediction Recognition\n",
    "\n",
    "- **Purpose:** To implement step 1 with sub steps of prediction recognition pipeline. See steps\n",
    "    1. Generate predictions\n",
    "        1. Create several prediction prompts templates\n",
    "        2. Utilize open-source LLMs to generate predictions\n",
    "\n",
    "- **Misc:**\n",
    "    - `%store`: Cell magic will store the variable of interest so we can load in another notebook"
   ]
  },
  {
   "cell_type": "code",
   "execution_count": 1,
   "id": "01a3b011",
   "metadata": {},
   "outputs": [],
   "source": [
    "import os, sys\n",
    "\n",
    "import pandas as pd\n",
    "\n",
    "from tqdm import tqdm\n",
    "from langchain_core.prompts import PipelinePromptTemplate, PromptTemplate\n",
    "\n",
    "# Get the current working directory of the notebook\n",
    "notebook_dir = os.getcwd()\n",
    "# Add the parent directory to the system path\n",
    "sys.path.append(os.path.join(notebook_dir, '../'))\n",
    "\n",
    "from log_files import LogData\n",
    "from data_processing import DataProcessing\n",
    "from text_generation_models import TextGenerationModelFactory"
   ]
  },
  {
   "cell_type": "code",
   "execution_count": 2,
   "id": "b6f573fb",
   "metadata": {},
   "outputs": [],
   "source": [
    "# pd.set_option('max_colwidth', 800)\n",
    "\n",
    "groq_cloud_tgmf = TextGenerationModelFactory()\n",
    "llama_versatile_generation_model = groq_cloud_tgmf.create_instance(model_name='llama-3.3-70b-versatile')\n",
    "llama_instant_generation_model = groq_cloud_tgmf.create_instance('llama-3.1-8b-instant')\n",
    "llama_70b_8192_generation_model = groq_cloud_tgmf.create_instance('llama3-70b-8192')\n",
    "llama_8b_8192_generation_model = groq_cloud_tgmf.create_instance('llama3-8b-8192')\n",
    "\n",
    "navi_gator_tgmf = TextGenerationModelFactory()\n",
    "gpt_35_turbo_generation_model = navi_gator_tgmf.create_instance('gpt-3.5-turbo')\n",
    "gpt_4_turbo_generation_model = navi_gator_tgmf.create_instance('gpt-4-turbo')\n",
    "mixtral_87b_instruct_generation_model = navi_gator_tgmf.create_instance('mixtral-8x7b-instruct') "
   ]
  },
  {
   "cell_type": "markdown",
   "id": "50f78c6a",
   "metadata": {},
   "source": [
    "## LangChain Templates for Domain Predictions"
   ]
  },
  {
   "cell_type": "code",
   "execution_count": 3,
   "id": "4d32edc7",
   "metadata": {},
   "outputs": [],
   "source": [
    "full_prediction_template = \"\"\"{prediction_properties}\n",
    "\n",
    "{prediction_requirements}\n",
    "\n",
    "{prediction_templates}\n",
    "\n",
    "{prediction_examples}\n",
    "\"\"\"\n",
    "\n",
    "full_prediction_prompt = PromptTemplate.from_template(full_prediction_template)"
   ]
  },
  {
   "cell_type": "code",
   "execution_count": 4,
   "id": "3d420e85",
   "metadata": {},
   "outputs": [],
   "source": [
    "prediction_properties_template = \"\"\"A prediction <p> = (<p_s>, <p_t>, <p_d>, <p_a>), where it consists of the following four properties:\n",
    "\n",
    "    1. <p_s>, any source entity in the {prediction_domain} domain.\n",
    "        - Can be a person (with a name) or a {prediction_domain} person such as a {prediction_domain} reporter, {prediction_domain} analyst, {prediction_domain} expert, {prediction_domain} top executive, {prediction_domain} senior level person, etc).\n",
    "        - Can only be an organization that is associated with the {prediction_domain} prediction.\n",
    "    2. <p_t>, any target entity in the {prediction_domain} domain.\n",
    "\t    - Can be a person (with a name) or a {prediction_domain} person such as a {prediction_domain} reporter, {prediction_domain} analyst, {prediction_domain} expert, {prediction_domain} top executive, {prediction_domain} senior level person, etc).\n",
    "        - Can only be an organization that is associated with the {prediction_domain} prediction.\n",
    "    3. <p_d>, date range when <p> is expected to come to fruition.\n",
    "        - Forecast can range from a second to anytime in the future.\n",
    "        - Answers the questions: \"How far to go out from today?\" or \"Where to stop?\".\n",
    "    4. <p_a>, {prediction_domain} prediction attribute.\n",
    "        - Characteristics of a domain-specific attributes such as various quantifiable metrics relevant to the {prediction_domain} domain.\n",
    "        - Some examples are {prediction_domain_attribute}.  \n",
    "\"\"\"\n",
    "prediction_properties_prompt = PromptTemplate.from_template(prediction_properties_template)"
   ]
  },
  {
   "cell_type": "code",
   "execution_count": 5,
   "id": "95548954",
   "metadata": {},
   "outputs": [],
   "source": [
    "prediction_requirements_template = \"\"\"{prediction_domain} requirements to use for each prediction:\n",
    "\n",
    "    - Should be based on real-world {prediction_domain} data and not hallucinate.\n",
    "    - Only a simple sentence (prediction) (and NOT compounding using \"and\" or \"or\").\n",
    "    - Should diversify all four properties of the prediction (<p>) as in change and not use same for <p_s>, <p_t>, <p_d>, <p_a>.\n",
    "    - Should use synonyms to predict such as forecasts, speculates, foresee, envision, etc., and not use any of them more than ten times.\n",
    "    - The prediction should be unique and not repeated.\n",
    "    - Do not number the predictions.\n",
    "    - Do not say, \"As the {prediction_domain}, I will generate company-based {prediction_domain} predictions using the provided templates.\" or anything similar.\n",
    "    - Use the five different templates and examples provided.\n",
    "    - Change how the current date (<p_d>) written in the prediction with examples of (1) Wednesday, August 21, 2024; (2) Wed, August 21, 2024; (3) 08/21/2024; (4) 08/21/2024; (5) 21/08/2024; (6) 21 August 2024; (7) 2024/08/21; (8) 2024-08-21; (9) August 21, 2024; (10) Aug 21, 2024; (11) 21 August 2024, (12) 21 Aug 2024, Q3 of 2027, 2029 of Q3, etc (with removing day of week).\n",
    "    {domain_requirements}\n",
    "    - Do not say, \"Here are {predictions_N} unique {prediction_domain} predictions based on the provided templates and examples:\" in the prompt.\n",
    "    - Do not use any of the examples in the prompt.\n",
    "    - In front of every prodiction, put the template number in the format of \"T1:\", \"T2:\", etc. and do not number them like \"1.\", \"2.\", etc.\n",
    "    - Do not put template number on line by itself. Always pair with a prediction.\n",
    "    - Disregard brackets: \"<>\"\n",
    "    - Should never say \"Here are {predictions_N} unique {prediction_domain} predictions based on the provided templates and examples:\" or \"Note: I've made sure to follow the guidelines and templates provided, and generated unique predictions that meet the requirements.\"\n",
    "    - Do not use person name of entity name more than once as in don't use name Joe as both the <p_s> and <p_t>, unless like Mr. Sach and Goldman Sach or Mr. Sam Walton and Sam's Club, etc.\n",
    "    - Should variate the slope of rise/increase/as much as, fall/decrease/as little as, change, stay stable, high/low chance/probability/degree of, etc.\n",
    "    - Should variate the prediction verbs such as will, would, be going to, should, etc.\n",
    "\"\"\"\n",
    "prediction_requirements_prompt = PromptTemplate.from_template(prediction_requirements_template)"
   ]
  },
  {
   "cell_type": "code",
   "execution_count": 6,
   "id": "07129ae1",
   "metadata": {},
   "outputs": [],
   "source": [
    "prediction_templates_template = \"\"\"Here are some {prediction_domain} templates:\n",
    "\n",
    "- {prediction_domain} template 1: <p_s> forecasts that the <p_a> at <p_t> will likely decrease in <p_d>.\n",
    "\n",
    "\"\"\"\n",
    "prediction_templates_prompt = PromptTemplate.from_template(prediction_templates_template)"
   ]
  },
  {
   "cell_type": "code",
   "execution_count": 7,
   "id": "e559ea64",
   "metadata": {},
   "outputs": [],
   "source": [
    "prediction_examples_template = \"\"\"Here are some examples of {prediction_domain} predictions:\n",
    "\n",
    "{domain_examples}\n",
    "\n",
    "With the above, generate a unique set of {predictions_N} predictions. Think from the perspective of an {prediction_domain} analyst, expert, top executive, or senior level person.\"\"\"\n",
    "prediction_examples_prompt = PromptTemplate.from_template(prediction_examples_template)"
   ]
  },
  {
   "cell_type": "code",
   "execution_count": 8,
   "id": "ad59deb9",
   "metadata": {},
   "outputs": [
    {
     "name": "stderr",
     "output_type": "stream",
     "text": [
      "/var/folders/78/9z0b45fx1xqbwxh8vk97lcfh0000gn/T/ipykernel_72555/3566428802.py:8: LangChainDeprecationWarning: This class is deprecated. Please see the docstring below or at the link for a replacement option: https://python.langchain.com/api_reference/core/prompts/langchain_core.prompts.pipeline.PipelinePromptTemplate.html\n",
      "  pipeline_prompt = PipelinePromptTemplate(\n"
     ]
    }
   ],
   "source": [
    "prediction_input_prompts = [\n",
    "    (\"prediction_properties\", prediction_properties_prompt),\n",
    "    (\"prediction_requirements\", prediction_requirements_prompt),\n",
    "    (\"prediction_templates\", prediction_templates_prompt),\n",
    "    (\"prediction_examples\", prediction_examples_prompt),\n",
    "]\n",
    "\n",
    "pipeline_prompt = PipelinePromptTemplate(\n",
    "    final_prompt=full_prediction_prompt, pipeline_prompts=prediction_input_prompts\n",
    ")"
   ]
  },
  {
   "cell_type": "markdown",
   "id": "099b1ddb",
   "metadata": {},
   "source": [
    "## Generate Domain Predictions"
   ]
  },
  {
   "cell_type": "code",
   "execution_count": 9,
   "id": "be6a146d",
   "metadata": {},
   "outputs": [],
   "source": [
    "predictions_N = 2"
   ]
  },
  {
   "cell_type": "markdown",
   "id": "dd133022",
   "metadata": {},
   "source": [
    "### Generate Financial Predictions"
   ]
  },
  {
   "cell_type": "code",
   "execution_count": 10,
   "id": "5e2ddf01",
   "metadata": {},
   "outputs": [],
   "source": [
    "financial_attributes = \"\"\"stock price, net profit, revenue, operating cash flow, research and development expenses, operating income, gross profit.\"\"\"\n",
    "financial_requirements = \"\"\"- Should be based on real-world financial earnings reports.\n",
    "    - Suppose the time when $p$ was made is during any earning season.\n",
    "    - Include stocks from all sectors such as consumer staples, energy, finance, health care, industrials, materials, media, real estate, retail, technology, utilities, defense, etc.\n",
    "    - Include the US Dollar sign ($) before or USD after the amount of the financial attribute.\"\"\"\n",
    "\n",
    "financial_examples = \"\"\"\n",
    "    1. Detravious, an investor forecasts that the stock price at Apple will likely decrease in 2025 Q1.\n",
    "    2. Ava Lee predicts that the operating cash flow at ExxonMobil should decrease in 03/21/2025 to 08/21/2025.\n",
    " \"\"\""
   ]
  },
  {
   "cell_type": "code",
   "execution_count": 11,
   "id": "8d47f9ba",
   "metadata": {},
   "outputs": [
    {
     "name": "stdout",
     "output_type": "stream",
     "text": [
      "A prediction <p> = (<p_s>, <p_t>, <p_d>, <p_a>), where it consists of the following four properties:\n",
      "\n",
      "    1. <p_s>, any source entity in the financial domain.\n",
      "        - Can be a person (with a name) or a financial person such as a financial reporter, financial analyst, financial expert, financial top executive, financial senior level person, etc).\n",
      "        - Can only be an organization that is associated with the financial prediction.\n",
      "    2. <p_t>, any target entity in the financial domain.\n",
      "\t    - Can be a person (with a name) or a financial person such as a financial reporter, financial analyst, financial expert, financial top executive, financial senior level person, etc).\n",
      "        - Can only be an organization that is associated with the financial prediction.\n",
      "    3. <p_d>, date range when <p> is expected to come to fruition.\n",
      "        - Forecast can range from a second to anytime in the future.\n",
      "        - Answers the questions: \"How far to go out from today?\" or \"Where to stop?\".\n",
      "    4. <p_a>, financial prediction attribute.\n",
      "        - Characteristics of a domain-specific attributes such as various quantifiable metrics relevant to the financial domain.\n",
      "        - Some examples are stock price, net profit, revenue, operating cash flow, research and development expenses, operating income, gross profit..  \n",
      "\n",
      "\n",
      "financial requirements to use for each prediction:\n",
      "\n",
      "    - Should be based on real-world financial data and not hallucinate.\n",
      "    - Only a simple sentence (prediction) (and NOT compounding using \"and\" or \"or\").\n",
      "    - Should diversify all four properties of the prediction (<p>) as in change and not use same for <p_s>, <p_t>, <p_d>, <p_a>.\n",
      "    - Should use synonyms to predict such as forecasts, speculates, foresee, envision, etc., and not use any of them more than ten times.\n",
      "    - The prediction should be unique and not repeated.\n",
      "    - Do not number the predictions.\n",
      "    - Do not say, \"As the financial, I will generate company-based financial predictions using the provided templates.\" or anything similar.\n",
      "    - Use the five different templates and examples provided.\n",
      "    - Change how the current date (<p_d>) written in the prediction with examples of (1) Wednesday, August 21, 2024; (2) Wed, August 21, 2024; (3) 08/21/2024; (4) 08/21/2024; (5) 21/08/2024; (6) 21 August 2024; (7) 2024/08/21; (8) 2024-08-21; (9) August 21, 2024; (10) Aug 21, 2024; (11) 21 August 2024, (12) 21 Aug 2024, Q3 of 2027, 2029 of Q3, etc (with removing day of week).\n",
      "    - Should be based on real-world financial earnings reports.\n",
      "    - Suppose the time when $p$ was made is during any earning season.\n",
      "    - Include stocks from all sectors such as consumer staples, energy, finance, health care, industrials, materials, media, real estate, retail, technology, utilities, defense, etc.\n",
      "    - Include the US Dollar sign ($) before or USD after the amount of the financial attribute.\n",
      "    - Do not say, \"Here are 2 unique financial predictions based on the provided templates and examples:\" in the prompt.\n",
      "    - Do not use any of the examples in the prompt.\n",
      "    - In front of every prodiction, put the template number in the format of \"T1:\", \"T2:\", etc. and do not number them like \"1.\", \"2.\", etc.\n",
      "    - Do not put template number on line by itself. Always pair with a prediction.\n",
      "    - Disregard brackets: \"<>\"\n",
      "    - Should never say \"Here are 2 unique financial predictions based on the provided templates and examples:\" or \"Note: I've made sure to follow the guidelines and templates provided, and generated unique predictions that meet the requirements.\"\n",
      "    - Do not use person name of entity name more than once as in don't use name Joe as both the <p_s> and <p_t>, unless like Mr. Sach and Goldman Sach or Mr. Sam Walton and Sam's Club, etc.\n",
      "    - Should variate the slope of rise/increase/as much as, fall/decrease/as little as, change, stay stable, high/low chance/probability/degree of, etc.\n",
      "    - Should variate the prediction verbs such as will, would, be going to, should, etc.\n",
      "\n",
      "\n",
      "Here are some financial templates:\n",
      "\n",
      "- financial template 1: <p_s> forecasts that the <p_a> at <p_t> will likely decrease in <p_d>.\n",
      "\n",
      "\n",
      "\n",
      "Here are some examples of financial predictions:\n",
      "\n",
      "\n",
      "    1. Detravious, an investor forecasts that the stock price at Apple will likely decrease in 2025 Q1.\n",
      "    2. Ava Lee predicts that the operating cash flow at ExxonMobil should decrease in 03/21/2025 to 08/21/2025.\n",
      " \n",
      "\n",
      "With the above, generate a unique set of 2 predictions. Think from the perspective of an financial analyst, expert, top executive, or senior level person.\n",
      "\n"
     ]
    }
   ],
   "source": [
    "financial_input_dict = {\n",
    "    \"prediction_domain\": \"financial\",\n",
    "    \"prediction_domain_attribute\": financial_attributes,\n",
    "    \"domain_requirements\": financial_requirements,\n",
    "    \"domain_examples\": financial_examples,\n",
    "    \"predictions_N\": predictions_N\n",
    "}\n",
    "financial_prompt_output = pipeline_prompt.format(**financial_input_dict)\n",
    "print(financial_prompt_output)\n"
   ]
  },
  {
   "cell_type": "code",
   "execution_count": 12,
   "id": "1d02699a",
   "metadata": {},
   "outputs": [],
   "source": [
    "N_batches = 1\n",
    "# text_generation_models = [llama_instant_generation_model]\n",
    "# text_generation_models = [llama_versatile_generation_model]\n",
    "text_generation_models = [llama_versatile_generation_model, llama_instant_generation_model, llama_70b_8192_generation_model, \n",
    "                          llama_8b_8192_generation_model, gpt_35_turbo_generation_model, gpt_4_turbo_generation_model, \n",
    "                          mixtral_87b_instruct_generation_model]\n",
    "\n",
    "# text_generation_models = [llama_versatile_generation_model, llama_instant_generation_model, llama_70b_8192_generation_model, \n",
    "#                           llama_8b_8192_generation_model, gpt_35_turbo_generation_model]"
   ]
  },
  {
   "cell_type": "code",
   "execution_count": 13,
   "id": "1546368e",
   "metadata": {},
   "outputs": [
    {
     "name": "stderr",
     "output_type": "stream",
     "text": [
      "  0%|          | 0/1 [00:00<?, ?it/s]"
     ]
    },
    {
     "name": "stdout",
     "output_type": "stream",
     "text": [
      "finance --- <text_generation_models.LlamaVersatileTextGenerationModel object at 0x1618162a0>\n",
      "finance --- <text_generation_models.LlamaInstantTextGenerationModel object at 0x16233f9e0>\n",
      "finance --- <text_generation_models.Llama70B8192TextGenerationModel object at 0x162368cb0>\n",
      "finance --- <text_generation_models.Llama8B8192TextGenerationModel object at 0x162369f10>\n",
      "finance --- <text_generation_models.Gpt35TurboTextGenerationModel object at 0x16236b230>\n",
      "finance --- <text_generation_models.Gpt4TurboTextGenerationModel object at 0x16237cce0>\n",
      "finance --- <text_generation_models.Mixtral87BInstructTextGenerationModel object at 0x16237e9c0>\n"
     ]
    },
    {
     "name": "stderr",
     "output_type": "stream",
     "text": [
      "100%|██████████| 1/1 [00:07<00:00,  7.25s/it]"
     ]
    },
    {
     "name": "stdout",
     "output_type": "stream",
     "text": [
      "\n",
      "====================================================================================\n"
     ]
    },
    {
     "name": "stderr",
     "output_type": "stream",
     "text": [
      "\n"
     ]
    }
   ],
   "source": [
    "prediction_domains = [\"finance\"]\n",
    "prediction_prompt_outputs = {\n",
    "    \"finance\": financial_prompt_output,\n",
    "}\n",
    "prediction_label = 1\n",
    "\n",
    "batched_predictions_df = groq_cloud_tgmf.batch_generate_predictions(N_batches=N_batches, \n",
    "                                text_generation_models=text_generation_models, \n",
    "                                domains=prediction_domains,\n",
    "                                prompt_outputs=prediction_prompt_outputs,\n",
    "                                sentence_label=prediction_label)"
   ]
  },
  {
   "cell_type": "code",
   "execution_count": 14,
   "id": "14728864",
   "metadata": {},
   "outputs": [
    {
     "data": {
      "text/plain": [
       "[                                       Base Sentence  Sentence Label  \\\n",
       " 0  T1: Goldman Sachs forecasts that the revenue a...               1   \n",
       " 1  T2: JPMorgan Chase predicts that the net profi...               1   \n",
       " \n",
       "                 Model Name   Domain  Batch Index  \n",
       " 0  llama-3.3-70b-versatile  finance            0  \n",
       " 1  llama-3.3-70b-versatile  finance            0  ,\n",
       "                                        Base Sentence  Sentence Label  \\\n",
       " 0  T1: Mr. Thompson, a financial expert, forecast...               1   \n",
       " 1  T2: Samantha, a financial analyst, predicts th...               1   \n",
       " \n",
       "              Model Name   Domain  Batch Index  \n",
       " 0  llama-3.1-8b-instant  finance            0  \n",
       " 1  llama-3.1-8b-instant  finance            0  ,\n",
       "                                        Base Sentence  Sentence Label  \\\n",
       " 0         Here are two unique financial predictions:               1   \n",
       " 1  T1: Samantha Jenkins, a financial expert, fore...               1   \n",
       " 2  T5: Goldman Sachs envisions that the net profi...               1   \n",
       " \n",
       "         Model Name   Domain  Batch Index  \n",
       " 0  llama3-70b-8192  finance            0  \n",
       " 1  llama3-70b-8192  finance            0  \n",
       " 2  llama3-70b-8192  finance            0  ,\n",
       "                                        Base Sentence  Sentence Label  \\\n",
       " 0  Here are two unique financial predictions base...               1   \n",
       " 1  T1: Morgan Stanley forecasts that the revenue ...               1   \n",
       " 2  T2: Dr. Sophia Patel speculates that the net p...               1   \n",
       " \n",
       "        Model Name   Domain  Batch Index  \n",
       " 0  llama3-8b-8192  finance            0  \n",
       " 1  llama3-8b-8192  finance            0  \n",
       " 2  llama3-8b-8192  finance            0  ,\n",
       "                                        Base Sentence  Sentence Label  \\\n",
       " 0  T1: Mr. Johnson speculates that the net profit...               1   \n",
       " 1  T2: Financial expert, Sarah Thompson, envision...               1   \n",
       " \n",
       "       Model Name   Domain  Batch Index  \n",
       " 0  gpt-3.5-turbo  finance            0  \n",
       " 1  gpt-3.5-turbo  finance            0  ,\n",
       "                                        Base Sentence  Sentence Label  \\\n",
       " 0  T1: Goldman Sachs speculates that the net prof...               1   \n",
       " 1  T2: The financial expert at Bloomberg envision...               1   \n",
       " \n",
       "     Model Name   Domain  Batch Index  \n",
       " 0  gpt-4-turbo  finance            0  \n",
       " 1  gpt-4-turbo  finance            0  ,\n",
       "                                        Base Sentence  Sentence Label  \\\n",
       " 0  T1: Goldman Sachs' financial expert envisions ...               1   \n",
       " 1  T2: Mr. Warren Buffett, an investor, predicts ...               1   \n",
       " \n",
       "               Model Name   Domain  Batch Index  \n",
       " 0  mixtral-8x7b-instruct  finance            0  \n",
       " 1  mixtral-8x7b-instruct  finance            0  ]"
      ]
     },
     "execution_count": 14,
     "metadata": {},
     "output_type": "execute_result"
    }
   ],
   "source": [
    "batched_predictions_df"
   ]
  },
  {
   "cell_type": "code",
   "execution_count": 15,
   "id": "c5834805",
   "metadata": {},
   "outputs": [
    {
     "data": {
      "text/plain": [
       "[                                                                                                            Base Sentence  \\\n",
       " 0                           T1: Goldman Sachs forecasts that the revenue at Microsoft will likely increase in Q4 of 2024.   \n",
       " 1  T2: JPMorgan Chase predicts that the net profit at Amazon should decrease in the period from 2024-08-21 to 2025-02-20.   \n",
       " \n",
       "    Sentence Label               Model Name   Domain  Batch Index  \n",
       " 0               1  llama-3.3-70b-versatile  finance            0  \n",
       " 1               1  llama-3.3-70b-versatile  finance            0  ,\n",
       "                                                                                                                         Base Sentence  \\\n",
       " 0                   T1: Mr. Thompson, a financial expert, forecasts that the net profit at Microsoft will likely decrease in 2027 Q3.   \n",
       " 1  T2: Samantha, a financial analyst, predicts that the research and development expenses at Tesla should increase in 21 August 2024.   \n",
       " \n",
       "    Sentence Label            Model Name   Domain  Batch Index  \n",
       " 0               1  llama-3.1-8b-instant  finance            0  \n",
       " 1               1  llama-3.1-8b-instant  finance            0  ,\n",
       "                                                                                                        Base Sentence  \\\n",
       " 0                                                                         Here are two unique financial predictions:   \n",
       " 1  T1: Samantha Jenkins, a financial expert, forecasts that the revenue at Tesla will likely increase in Q2 of 2024.   \n",
       " 2       T5: Goldman Sachs envisions that the net profit at Coca-Cola will stay stable from 2024-08-15 to 2024-11-15.   \n",
       " \n",
       "    Sentence Label       Model Name   Domain  Batch Index  \n",
       " 0               1  llama3-70b-8192  finance            0  \n",
       " 1               1  llama3-70b-8192  finance            0  \n",
       " 2               1  llama3-70b-8192  finance            0  ,\n",
       "                                                                                                                      Base Sentence  \\\n",
       " 0                                          Here are two unique financial predictions based on the provided templates and examples:   \n",
       " 1                                      T1: Morgan Stanley forecasts that the revenue at Amazon will likely increase in Q3 of 2027.   \n",
       " 2  T2: Dr. Sophia Patel speculates that the net profit at Johnson & Johnson will likely stay stable from 2024-08-21 to 2024-12-31.   \n",
       " \n",
       "    Sentence Label      Model Name   Domain  Batch Index  \n",
       " 0               1  llama3-8b-8192  finance            0  \n",
       " 1               1  llama3-8b-8192  finance            0  \n",
       " 2               1  llama3-8b-8192  finance            0  ,\n",
       "                                                                                                   Base Sentence  \\\n",
       " 0                  T1: Mr. Johnson speculates that the net profit at Amazon will likely increase in Q4 of 2023.   \n",
       " 1  T2: Financial expert, Sarah Thompson, envisions that the revenue at Google will decrease in August 21, 2024.   \n",
       " \n",
       "    Sentence Label     Model Name   Domain  Batch Index  \n",
       " 0               1  gpt-3.5-turbo  finance            0  \n",
       " 1               1  gpt-3.5-turbo  finance            0  ,\n",
       "                                                                                                                                          Base Sentence  \\\n",
       " 0                                    T1: Goldman Sachs speculates that the net profit at Microsoft will likely decrease by $200 million in Q2 of 2024.   \n",
       " 1  T2: The financial expert at Bloomberg envisions that the revenue at Amazon should fall by $500 million in the period from 2024-08-21 to 2024-12-21.   \n",
       " \n",
       "    Sentence Label   Model Name   Domain  Batch Index  \n",
       " 0               1  gpt-4-turbo  finance            0  \n",
       " 1               1  gpt-4-turbo  finance            0  ,\n",
       "                                                                                                                              Base Sentence  \\\n",
       " 0                                  T1: Goldman Sachs' financial expert envisions a decrease in Netflix's net profit from Q2 to Q4 of 2024.   \n",
       " 1  T2: Mr. Warren Buffett, an investor, predicts that the stock price of Tesla would stay stable in the third and fourth quarters of 2027.   \n",
       " \n",
       "    Sentence Label             Model Name   Domain  Batch Index  \n",
       " 0               1  mixtral-8x7b-instruct  finance            0  \n",
       " 1               1  mixtral-8x7b-instruct  finance            0  ]"
      ]
     },
     "execution_count": 15,
     "metadata": {},
     "output_type": "execute_result"
    }
   ],
   "source": [
    "pd.set_option('max_colwidth', 800)\n",
    "pd.set_option('display.max_columns', None)\n",
    "pd.set_option('display.max_rows', None)\n",
    "batched_predictions_df"
   ]
  },
  {
   "cell_type": "code",
   "execution_count": 16,
   "id": "1cde3a2a",
   "metadata": {},
   "outputs": [
    {
     "data": {
      "text/html": [
       "<div>\n",
       "<style scoped>\n",
       "    .dataframe tbody tr th:only-of-type {\n",
       "        vertical-align: middle;\n",
       "    }\n",
       "\n",
       "    .dataframe tbody tr th {\n",
       "        vertical-align: top;\n",
       "    }\n",
       "\n",
       "    .dataframe thead th {\n",
       "        text-align: right;\n",
       "    }\n",
       "</style>\n",
       "<table border=\"1\" class=\"dataframe\">\n",
       "  <thead>\n",
       "    <tr style=\"text-align: right;\">\n",
       "      <th></th>\n",
       "      <th>Base Sentence</th>\n",
       "      <th>Sentence Label</th>\n",
       "      <th>Model Name</th>\n",
       "      <th>Domain</th>\n",
       "      <th>Batch Index</th>\n",
       "    </tr>\n",
       "  </thead>\n",
       "  <tbody>\n",
       "    <tr>\n",
       "      <th>0</th>\n",
       "      <td>T1: Goldman Sachs forecasts that the revenue at Microsoft will likely increase in Q4 of 2024.</td>\n",
       "      <td>1</td>\n",
       "      <td>llama-3.3-70b-versatile</td>\n",
       "      <td>finance</td>\n",
       "      <td>0</td>\n",
       "    </tr>\n",
       "    <tr>\n",
       "      <th>1</th>\n",
       "      <td>T2: JPMorgan Chase predicts that the net profit at Amazon should decrease in the period from 2024-08-21 to 2025-02-20.</td>\n",
       "      <td>1</td>\n",
       "      <td>llama-3.3-70b-versatile</td>\n",
       "      <td>finance</td>\n",
       "      <td>0</td>\n",
       "    </tr>\n",
       "    <tr>\n",
       "      <th>2</th>\n",
       "      <td>T1: Mr. Thompson, a financial expert, forecasts that the net profit at Microsoft will likely decrease in 2027 Q3.</td>\n",
       "      <td>1</td>\n",
       "      <td>llama-3.1-8b-instant</td>\n",
       "      <td>finance</td>\n",
       "      <td>0</td>\n",
       "    </tr>\n",
       "    <tr>\n",
       "      <th>3</th>\n",
       "      <td>T2: Samantha, a financial analyst, predicts that the research and development expenses at Tesla should increase in 21 August 2024.</td>\n",
       "      <td>1</td>\n",
       "      <td>llama-3.1-8b-instant</td>\n",
       "      <td>finance</td>\n",
       "      <td>0</td>\n",
       "    </tr>\n",
       "    <tr>\n",
       "      <th>4</th>\n",
       "      <td>Here are two unique financial predictions:</td>\n",
       "      <td>1</td>\n",
       "      <td>llama3-70b-8192</td>\n",
       "      <td>finance</td>\n",
       "      <td>0</td>\n",
       "    </tr>\n",
       "    <tr>\n",
       "      <th>5</th>\n",
       "      <td>T1: Samantha Jenkins, a financial expert, forecasts that the revenue at Tesla will likely increase in Q2 of 2024.</td>\n",
       "      <td>1</td>\n",
       "      <td>llama3-70b-8192</td>\n",
       "      <td>finance</td>\n",
       "      <td>0</td>\n",
       "    </tr>\n",
       "    <tr>\n",
       "      <th>6</th>\n",
       "      <td>T5: Goldman Sachs envisions that the net profit at Coca-Cola will stay stable from 2024-08-15 to 2024-11-15.</td>\n",
       "      <td>1</td>\n",
       "      <td>llama3-70b-8192</td>\n",
       "      <td>finance</td>\n",
       "      <td>0</td>\n",
       "    </tr>\n",
       "    <tr>\n",
       "      <th>7</th>\n",
       "      <td>Here are two unique financial predictions based on the provided templates and examples:</td>\n",
       "      <td>1</td>\n",
       "      <td>llama3-8b-8192</td>\n",
       "      <td>finance</td>\n",
       "      <td>0</td>\n",
       "    </tr>\n",
       "    <tr>\n",
       "      <th>8</th>\n",
       "      <td>T1: Morgan Stanley forecasts that the revenue at Amazon will likely increase in Q3 of 2027.</td>\n",
       "      <td>1</td>\n",
       "      <td>llama3-8b-8192</td>\n",
       "      <td>finance</td>\n",
       "      <td>0</td>\n",
       "    </tr>\n",
       "    <tr>\n",
       "      <th>9</th>\n",
       "      <td>T2: Dr. Sophia Patel speculates that the net profit at Johnson &amp; Johnson will likely stay stable from 2024-08-21 to 2024-12-31.</td>\n",
       "      <td>1</td>\n",
       "      <td>llama3-8b-8192</td>\n",
       "      <td>finance</td>\n",
       "      <td>0</td>\n",
       "    </tr>\n",
       "    <tr>\n",
       "      <th>10</th>\n",
       "      <td>T1: Mr. Johnson speculates that the net profit at Amazon will likely increase in Q4 of 2023.</td>\n",
       "      <td>1</td>\n",
       "      <td>gpt-3.5-turbo</td>\n",
       "      <td>finance</td>\n",
       "      <td>0</td>\n",
       "    </tr>\n",
       "    <tr>\n",
       "      <th>11</th>\n",
       "      <td>T2: Financial expert, Sarah Thompson, envisions that the revenue at Google will decrease in August 21, 2024.</td>\n",
       "      <td>1</td>\n",
       "      <td>gpt-3.5-turbo</td>\n",
       "      <td>finance</td>\n",
       "      <td>0</td>\n",
       "    </tr>\n",
       "    <tr>\n",
       "      <th>12</th>\n",
       "      <td>T1: Goldman Sachs speculates that the net profit at Microsoft will likely decrease by $200 million in Q2 of 2024.</td>\n",
       "      <td>1</td>\n",
       "      <td>gpt-4-turbo</td>\n",
       "      <td>finance</td>\n",
       "      <td>0</td>\n",
       "    </tr>\n",
       "    <tr>\n",
       "      <th>13</th>\n",
       "      <td>T2: The financial expert at Bloomberg envisions that the revenue at Amazon should fall by $500 million in the period from 2024-08-21 to 2024-12-21.</td>\n",
       "      <td>1</td>\n",
       "      <td>gpt-4-turbo</td>\n",
       "      <td>finance</td>\n",
       "      <td>0</td>\n",
       "    </tr>\n",
       "    <tr>\n",
       "      <th>14</th>\n",
       "      <td>T1: Goldman Sachs' financial expert envisions a decrease in Netflix's net profit from Q2 to Q4 of 2024.</td>\n",
       "      <td>1</td>\n",
       "      <td>mixtral-8x7b-instruct</td>\n",
       "      <td>finance</td>\n",
       "      <td>0</td>\n",
       "    </tr>\n",
       "    <tr>\n",
       "      <th>15</th>\n",
       "      <td>T2: Mr. Warren Buffett, an investor, predicts that the stock price of Tesla would stay stable in the third and fourth quarters of 2027.</td>\n",
       "      <td>1</td>\n",
       "      <td>mixtral-8x7b-instruct</td>\n",
       "      <td>finance</td>\n",
       "      <td>0</td>\n",
       "    </tr>\n",
       "  </tbody>\n",
       "</table>\n",
       "</div>"
      ],
      "text/plain": [
       "                                                                                                                                          Base Sentence  \\\n",
       "0                                                         T1: Goldman Sachs forecasts that the revenue at Microsoft will likely increase in Q4 of 2024.   \n",
       "1                                T2: JPMorgan Chase predicts that the net profit at Amazon should decrease in the period from 2024-08-21 to 2025-02-20.   \n",
       "2                                     T1: Mr. Thompson, a financial expert, forecasts that the net profit at Microsoft will likely decrease in 2027 Q3.   \n",
       "3                    T2: Samantha, a financial analyst, predicts that the research and development expenses at Tesla should increase in 21 August 2024.   \n",
       "4                                                                                                            Here are two unique financial predictions:   \n",
       "5                                     T1: Samantha Jenkins, a financial expert, forecasts that the revenue at Tesla will likely increase in Q2 of 2024.   \n",
       "6                                          T5: Goldman Sachs envisions that the net profit at Coca-Cola will stay stable from 2024-08-15 to 2024-11-15.   \n",
       "7                                                               Here are two unique financial predictions based on the provided templates and examples:   \n",
       "8                                                           T1: Morgan Stanley forecasts that the revenue at Amazon will likely increase in Q3 of 2027.   \n",
       "9                       T2: Dr. Sophia Patel speculates that the net profit at Johnson & Johnson will likely stay stable from 2024-08-21 to 2024-12-31.   \n",
       "10                                                         T1: Mr. Johnson speculates that the net profit at Amazon will likely increase in Q4 of 2023.   \n",
       "11                                         T2: Financial expert, Sarah Thompson, envisions that the revenue at Google will decrease in August 21, 2024.   \n",
       "12                                    T1: Goldman Sachs speculates that the net profit at Microsoft will likely decrease by $200 million in Q2 of 2024.   \n",
       "13  T2: The financial expert at Bloomberg envisions that the revenue at Amazon should fall by $500 million in the period from 2024-08-21 to 2024-12-21.   \n",
       "14                                              T1: Goldman Sachs' financial expert envisions a decrease in Netflix's net profit from Q2 to Q4 of 2024.   \n",
       "15              T2: Mr. Warren Buffett, an investor, predicts that the stock price of Tesla would stay stable in the third and fourth quarters of 2027.   \n",
       "\n",
       "    Sentence Label               Model Name   Domain  Batch Index  \n",
       "0                1  llama-3.3-70b-versatile  finance            0  \n",
       "1                1  llama-3.3-70b-versatile  finance            0  \n",
       "2                1     llama-3.1-8b-instant  finance            0  \n",
       "3                1     llama-3.1-8b-instant  finance            0  \n",
       "4                1          llama3-70b-8192  finance            0  \n",
       "5                1          llama3-70b-8192  finance            0  \n",
       "6                1          llama3-70b-8192  finance            0  \n",
       "7                1           llama3-8b-8192  finance            0  \n",
       "8                1           llama3-8b-8192  finance            0  \n",
       "9                1           llama3-8b-8192  finance            0  \n",
       "10               1            gpt-3.5-turbo  finance            0  \n",
       "11               1            gpt-3.5-turbo  finance            0  \n",
       "12               1              gpt-4-turbo  finance            0  \n",
       "13               1              gpt-4-turbo  finance            0  \n",
       "14               1    mixtral-8x7b-instruct  finance            0  \n",
       "15               1    mixtral-8x7b-instruct  finance            0  "
      ]
     },
     "execution_count": 16,
     "metadata": {},
     "output_type": "execute_result"
    }
   ],
   "source": [
    "predictions_df = DataProcessing.concat_dfs(batched_predictions_df)\n",
    "predictions_df"
   ]
  },
  {
   "cell_type": "code",
   "execution_count": null,
   "id": "a40358be",
   "metadata": {},
   "outputs": [],
   "source": [
    "log_directory = '../data/prediction_logs/'\n",
    "file_name = 'test.log'"
   ]
  },
  {
   "cell_type": "code",
   "execution_count": null,
   "id": "1ec896b0",
   "metadata": {},
   "outputs": [],
   "source": [
    "logger = LogData(log_directory, file_name)\n",
    "logger"
   ]
  },
  {
   "cell_type": "code",
   "execution_count": null,
   "id": "4a857cfb",
   "metadata": {},
   "outputs": [],
   "source": [
    "csv_output_path = os.path.join(log_directory, 'from_dataframe.csv')\n",
    "logger.dataframe_to_csv(predictions_df, csv_output_path)"
   ]
  },
  {
   "cell_type": "code",
   "execution_count": null,
   "id": "260bfc71",
   "metadata": {},
   "outputs": [],
   "source": [
    "csv_input_path = os.path.join(log_directory, 'from_dataframe.csv')\n",
    "file_name = 'from_csv.log'\n",
    "logger.csv_to_log(csv_input_path, file_name)"
   ]
  },
  {
   "cell_type": "code",
   "execution_count": null,
   "id": "9d124d90",
   "metadata": {},
   "outputs": [],
   "source": [
    "csv_output_from_log_path = os.path.join(log_directory, 'from_log.csv')\n",
    "ignore_patterns = ['INFO', 'DEBUG', 'ERROR', 'WARNING', 'CSV Row: '] # Example patterns to ignore\n",
    "\n",
    "logger.log_to_csv(file_name, csv_output_from_log_path, ignore_patterns)"
   ]
  },
  {
   "cell_type": "code",
   "execution_count": null,
   "id": "20463eda",
   "metadata": {},
   "outputs": [],
   "source": [
    "csv_input_from_log_path = os.path.join(log_directory, 'from_dataframe.csv')\n",
    "df_from_log_csv = logger.csv_to_dataframe(csv_input_from_log_path)\n",
    "\n",
    "if df_from_log_csv is not None:\n",
    "    print(\"\\nDataFrame created from log CSV:\")\n",
    "    print(df_from_log_csv)\n",
    "else:\n",
    "    print(\"\\nFailed to create DataFrame from log CSV. Check the log file for errors.\")"
   ]
  },
  {
   "cell_type": "code",
   "execution_count": null,
   "id": "be029e82",
   "metadata": {},
   "outputs": [],
   "source": [
    "df_from_log_csv"
   ]
  },
  {
   "cell_type": "code",
   "execution_count": null,
   "id": "6cad7888",
   "metadata": {},
   "outputs": [],
   "source": []
  }
 ],
 "metadata": {
  "kernelspec": {
   "display_name": "predictions",
   "language": "python",
   "name": "python3"
  },
  "language_info": {
   "codemirror_mode": {
    "name": "ipython",
    "version": 3
   },
   "file_extension": ".py",
   "mimetype": "text/x-python",
   "name": "python",
   "nbconvert_exporter": "python",
   "pygments_lexer": "ipython3",
   "version": "3.12.9"
  }
 },
 "nbformat": 4,
 "nbformat_minor": 5
}
