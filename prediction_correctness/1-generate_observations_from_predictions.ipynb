{
 "cells": [
  {
   "cell_type": "markdown",
   "id": "c57505a0",
   "metadata": {},
   "source": [
    "# Generate Observations from Predictions using LangChain Templates\n",
    "\n",
    "- **Goal:** Prediction Similarity\n",
    "\n",
    "- **Purpose:** To implement step 1 with sub steps of prediction similarity pipeline. See steps\n",
    "    1. Generate predictions\n",
    "        1. Create several prediction prompts templates\n",
    "        2. Utilize open-source LLMs to generate predictions\n",
    "    2. Generate observations    \n",
    "\n",
    "- **Misc:**\n",
    "    - `%store`: Cell magic will store the variable of interest so we can load in another notebook\n",
    "    - See `read_log_file.ipynb`"
   ]
  },
  {
   "cell_type": "code",
   "execution_count": 1,
   "id": "2f8aee88",
   "metadata": {},
   "outputs": [],
   "source": [
    "import os, sys\n",
    "\n",
    "import pandas as pd\n",
    "\n",
    "from tqdm import tqdm\n",
    "from langchain_core.prompts import PipelinePromptTemplate, PromptTemplate\n",
    "\n",
    "# Get the current working directory of the notebook\n",
    "notebook_dir = os.getcwd()\n",
    "# Add the parent directory to the system path\n",
    "sys.path.append(os.path.join(notebook_dir, '../'))\n",
    "\n",
    "from log_files import LogData\n",
    "from data_processing import DataProcessing\n",
    "from text_generation_models import TextGenerationModelFactory"
   ]
  },
  {
   "cell_type": "code",
   "execution_count": 2,
   "id": "a9dacc6b",
   "metadata": {},
   "outputs": [
    {
     "name": "stdout",
     "output_type": "stream",
     "text": [
      "<text_generation_models.TextGenerationModelFactory object at 0x36215db20>\n"
     ]
    }
   ],
   "source": [
    "tgmf = TextGenerationModelFactory()\n",
    "print(tgmf)\n",
    "llama_versatile_generation_model = tgmf.create_instance(model_name='llama-3.3-70b-versatile')\n",
    "llama_instant_generation_model = tgmf.create_instance('llama-3.1-8b-instant')\n",
    "llama_70b_8192_generation_model = tgmf.create_instance('llama3-70b-8192')\n",
    "llama_8b_8192_generation_model = tgmf.create_instance('llama3-8b-8192')\n",
    "\n",
    "gpt_35_turbo_generation_model = tgmf.create_instance('gpt-3.5-turbo')\n",
    "gpt_4_o_generation_model = tgmf.create_instance('gpt-4o')\n",
    "mixtral_87b_instruct_generation_model = tgmf.create_instance('mixtral-8x7b-instruct') "
   ]
  },
  {
   "cell_type": "markdown",
   "id": "7943eb6a",
   "metadata": {},
   "source": [
    "## LangChain Templates for Any Domain Non-Predictions"
   ]
  },
  {
   "cell_type": "code",
   "execution_count": 3,
   "id": "4ae059e7",
   "metadata": {},
   "outputs": [],
   "source": [
    "observation_template = \"\"\"{observation_properties}\n",
    "\n",
    "{observation_requirements}\n",
    "\n",
    "Given the above and a prediction: {prediction}, generate {observation_N} observations\n",
    "\"\"\"\n",
    "observation_prompt = PromptTemplate.from_template(observation_template)"
   ]
  },
  {
   "cell_type": "code",
   "execution_count": 4,
   "id": "e72e05df",
   "metadata": {},
   "outputs": [],
   "source": [
    "observation_properties_template = \"\"\"An observation <o> = (<o_s>, <p_t>, <o_d>, <o_a>), where it consists of the following four properties:\n",
    "\n",
    "    1. <o_s>, any source entity in the {observation_domain} domain.\n",
    "        - Can be a person (with a name) or a {observation_domain} person such as a {observation_domain} reporter, {observation_domain} analyst, {observation_domain} expert, {observation_domain} top executive, {observation_domain} senior level person, etc), civilian.\n",
    "        - Can only be an organization that is associated with the {observation_domain} obervation.\n",
    "    2. <o_t>, any target entity in the {observation_domain} domain.\n",
    "\t    - Can be a person (with a name) or a {observation_domain} person such as a {observation_domain} reporter, {observation_domain} analyst, {observation_domain} expert, {observation_domain} top executive, {observation_domain} senior level person, etc).\n",
    "        - Can only be an organization that is associated with the {observation_domain} obervation.\n",
    "    3. <o_d>, date or time range when <p> is expected to come to fruition or when one should observe the <p>.\n",
    "        - Forecast can range from a second to anytime in the future.\n",
    "        - Answers the questions: \"How far to go out from today?\" or \"Where to stop?\".\n",
    "    4. <o_a>, {observation_domain} obervation attribute.\n",
    "        - Characteristics of a domain-specific attributes such as various quantifiable metrics relevant to the {observation_domain} domain.\n",
    "        - Some examples are {observation_attributes}.\n",
    "\"\"\"\n",
    "observation_properties_prompt = PromptTemplate.from_template(observation_properties_template)"
   ]
  },
  {
   "cell_type": "code",
   "execution_count": 5,
   "id": "a2c87da5",
   "metadata": {},
   "outputs": [],
   "source": [
    "observation_requirements = \"\"\" requirements to use for each observation:\n",
    "\n",
    "    - Should be based on real-world {observation_domain} data and not hallucinate.\n",
    "    - Must be a simple sentence (observation) (and NOT compounding using \"and\" or \"or\").\n",
    "    - Should diversify all four properties of the observation (<o>) as in change and not use same for <p_s>, <p_t>, <p_d>, <p_a>.\n",
    "    - The observation should be unique and not repeated.\n",
    "    - Do not number the observations.\n",
    "    - Do not say, \"Here are {observation_N} unique observation based on the provided templates and examples:\" or anything similar in the prompt.\n",
    "    - Change how the current date (<p_d>) written in the observation with examples of (1) Wednesday, August 21, 2024; (2) Wed, August 21, 2024; (3) 08/21/2024; (4) 08/21/2024; (5) 21/08/2024; (6) 21 August 2024; (7) 2024/08/21; (8) 2024-08-21; (9) August 21, 2024; (10) Aug 21, 2024; (11) 21 August 2024, (12) 21 Aug 2024, Q3 of 2027, 2029 of Q3, etc (with removing day of week).\n",
    "    - Do not use any of the examples in the prompt.\n",
    "    - In front of every observation, put the template number in the format of \"T0:\" and only use \"T0:\" as the template number.\n",
    "    - Do not put template number on line by itself. Always pair with an observation.\n",
    "    - Disregard brackets: \"<>\"\n",
    "    - Do not use person name of entity name more than once as in don't use name Joe as both the <p_s> and <p_t>, unless like Mr. Sach and Goldman Sach or Mr. Sam Walton and Sam's Club, etc.\n",
    "    - The source entity (<p_s>) is rarely the same as the target entity (<p_t>) and if same, the <p_s> is making a observation on itself in the <p_t>.\n",
    "    - Should variate the slope of rise/increase/as much as, fall/decrease/as little as, change, stay stable, high/low chance/probability/degree of, etc.\n",
    "    - Should variate the observation verbs such as will, would, be going to, should, etc.\n",
    "    - Must be past tense as in already occurred and not future tense.\"\"\"\n",
    "observation_requirements_prompt = PromptTemplate.from_template(observation_requirements)"
   ]
  },
  {
   "cell_type": "code",
   "execution_count": 6,
   "id": "434bc1ef",
   "metadata": {},
   "outputs": [],
   "source": [
    "prediction_sentence =\"Detravious, an investor forecasts that the stock price at Apple will likely decrease in 2025 Q1.\"\n",
    "prediction_sentence_prompt = PromptTemplate.from_template(prediction_sentence)"
   ]
  },
  {
   "cell_type": "code",
   "execution_count": 7,
   "id": "97b3c057",
   "metadata": {},
   "outputs": [
    {
     "name": "stderr",
     "output_type": "stream",
     "text": [
      "/var/folders/78/9z0b45fx1xqbwxh8vk97lcfh0000gn/T/ipykernel_449/18822472.py:7: LangChainDeprecationWarning: This class is deprecated. Please see the docstring below or at the link for a replacement option: https://python.langchain.com/api_reference/core/prompts/langchain_core.prompts.pipeline.PipelinePromptTemplate.html\n",
      "  observation_pipeline_prompt = PipelinePromptTemplate(\n"
     ]
    }
   ],
   "source": [
    "observation_input_prompts = [\n",
    "    (\"observation_properties\", observation_properties_prompt),\n",
    "    (\"observation_requirements\", observation_requirements_prompt),\n",
    "    (\"prediction\", prediction_sentence_prompt)\n",
    "]\n",
    "\n",
    "observation_pipeline_prompt = PipelinePromptTemplate(\n",
    "    final_prompt=observation_prompt, pipeline_prompts=observation_input_prompts\n",
    ")"
   ]
  },
  {
   "cell_type": "code",
   "execution_count": 8,
   "id": "eaf2cfd2",
   "metadata": {},
   "outputs": [
    {
     "name": "stdout",
     "output_type": "stream",
     "text": [
      "An observation <o> = (<o_s>, <p_t>, <o_d>, <o_a>), where it consists of the following four properties:\n",
      "\n",
      "    1. <o_s>, any source entity in the finance domain.\n",
      "        - Can be a person (with a name) or a finance person such as a finance reporter, finance analyst, finance expert, finance top executive, finance senior level person, etc), civilian.\n",
      "        - Can only be an organization that is associated with the finance obervation.\n",
      "    2. <o_t>, any target entity in the finance domain.\n",
      "\t    - Can be a person (with a name) or a finance person such as a finance reporter, finance analyst, finance expert, finance top executive, finance senior level person, etc).\n",
      "        - Can only be an organization that is associated with the finance obervation.\n",
      "    3. <o_d>, date or time range when <p> is expected to come to fruition or when one should observe the <p>.\n",
      "        - Forecast can range from a second to anytime in the future.\n",
      "        - Answers the questions: \"How far to go out from today?\" or \"Where to stop?\".\n",
      "    4. <o_a>, finance obervation attribute.\n",
      "        - Characteristics of a domain-specific attributes such as various quantifiable metrics relevant to the finance domain.\n",
      "        - Some examples are stock price, net profit, revenue, operating cash flow, research and development expenses, operating income, gross profit..\n",
      "\n",
      "\n",
      " requirements to use for each observation:\n",
      "\n",
      "    - Should be based on real-world finance data and not hallucinate.\n",
      "    - Must be a simple sentence (observation) (and NOT compounding using \"and\" or \"or\").\n",
      "    - Should diversify all four properties of the observation (<o>) as in change and not use same for <p_s>, <p_t>, <p_d>, <p_a>.\n",
      "    - The observation should be unique and not repeated.\n",
      "    - Do not number the observations.\n",
      "    - Do not say, \"Here are 1 unique observation based on the provided templates and examples:\" or anything similar in the prompt.\n",
      "    - Change how the current date (<p_d>) written in the observation with examples of (1) Wednesday, August 21, 2024; (2) Wed, August 21, 2024; (3) 08/21/2024; (4) 08/21/2024; (5) 21/08/2024; (6) 21 August 2024; (7) 2024/08/21; (8) 2024-08-21; (9) August 21, 2024; (10) Aug 21, 2024; (11) 21 August 2024, (12) 21 Aug 2024, Q3 of 2027, 2029 of Q3, etc (with removing day of week).\n",
      "    - Do not use any of the examples in the prompt.\n",
      "    - In front of every observation, put the template number in the format of \"T0:\" and only use \"T0:\" as the template number.\n",
      "    - Do not put template number on line by itself. Always pair with an observation.\n",
      "    - Disregard brackets: \"<>\"\n",
      "    - Do not use person name of entity name more than once as in don't use name Joe as both the <p_s> and <p_t>, unless like Mr. Sach and Goldman Sach or Mr. Sam Walton and Sam's Club, etc.\n",
      "    - The source entity (<p_s>) is rarely the same as the target entity (<p_t>) and if same, the <p_s> is making a observation on itself in the <p_t>.\n",
      "    - Should variate the slope of rise/increase/as much as, fall/decrease/as little as, change, stay stable, high/low chance/probability/degree of, etc.\n",
      "    - Should variate the observation verbs such as will, would, be going to, should, etc.\n",
      "    - Must be past tense as in already occurred and not future tense.\n",
      "\n",
      "Given the above and a prediction: Detravious, an investor forecasts that the stock price at Apple will likely decrease in 2025 Q1., generate 1 observations\n",
      "\n"
     ]
    }
   ],
   "source": [
    "observation_N = 1\n",
    "\n",
    "financial_attributes = \"\"\"stock price, net profit, revenue, operating cash flow, research and development expenses, operating income, gross profit.\"\"\"\n",
    "# health_attributes = \"\"\"obesity rates, prevalence of chronic illnesses, average physical activity levels, nutritional intake, etc.\"\"\"\n",
    "# policy_attributes = \"\"\"election outcomes, economic reforms, legislative impacts.\"\"\"\n",
    "# weather_attributes = \"\"\"temperature, precipitation, wind speed, humidity, etc.\"\"\"\n",
    "\n",
    "# observation_attributes = f\"{financial_attributes} + {health_attributes} + {policy_attributes} + {weather_attributes}\"\n",
    "\n",
    "observation_attributes = f\"{financial_attributes}\"\n",
    "\n",
    "observation_input_dict = {\n",
    "    \"observation_domain\": \"finance\",\n",
    "    \"observation_attributes\": observation_attributes,\n",
    "    \"observation_N\": observation_N\n",
    "}\n",
    "\n",
    "observation_prompt_output = observation_pipeline_prompt.format(**observation_input_dict)\n",
    "print(observation_prompt_output)"
   ]
  },
  {
   "cell_type": "markdown",
   "id": "63742bb9",
   "metadata": {},
   "source": [
    "## Batch Generation Data"
   ]
  },
  {
   "cell_type": "code",
   "execution_count": null,
   "id": "e76936d2",
   "metadata": {},
   "outputs": [],
   "source": [
    "tgmf = TextGenerationModelFactory()\n",
    "\n",
    "N_batches = 1\n",
    "\n",
    "# text_generation_models = [llama_versatile_generation_model, llama_instant_generation_model, llama_70b_8192_generation_model, \n",
    "#                           llama_8b_8192_generation_model, gpt_35_turbo_generation_model, gpt_4_o_generation_model, \n",
    "#                           mixtral_87b_instruct_generation_model]\n",
    "\n",
    "# llama_instant_generation_model is generating too many\n",
    "\n",
    "text_generation_models = [llama_versatile_generation_model, llama_70b_8192_generation_model, \n",
    "                          llama_8b_8192_generation_model, gpt_35_turbo_generation_model, gpt_4_o_generation_model, \n",
    "                          mixtral_87b_instruct_generation_model]\n",
    "\n",
    "# text_generation_models = [gpt_4_o_generation_model, \n",
    "#                           mixtral_87b_instruct_generation_model]"
   ]
  },
  {
   "cell_type": "code",
   "execution_count": 10,
   "id": "25664938",
   "metadata": {},
   "outputs": [
    {
     "name": "stderr",
     "output_type": "stream",
     "text": [
      "  0%|          | 0/1 [00:00<?, ?it/s]"
     ]
    },
    {
     "name": "stdout",
     "output_type": "stream",
     "text": [
      "===================================== Batch 0 ===============================================\n",
      "mixed --- llama-3.3-70b-versatile --- GROQ_CLOUD\n",
      "mixed --- llama3-70b-8192 --- GROQ_CLOUD\n",
      "mixed --- llama3-8b-8192 --- GROQ_CLOUD\n",
      "mixed --- gpt-3.5-turbo --- NAVI_GATOR\n",
      "mixed --- gpt-4-turbo --- NAVI_GATOR\n",
      "mixed --- mixtral-8x7b-instruct --- NAVI_GATOR\n"
     ]
    },
    {
     "name": "stderr",
     "output_type": "stream",
     "text": [
      "100%|██████████| 1/1 [00:03<00:00,  3.91s/it]"
     ]
    },
    {
     "name": "stdout",
     "output_type": "stream",
     "text": [
      "\n",
      "Start logging batch\n",
      "log_directory: /Users/detraviousjamaribrinkley/Documents/Development/research_labs/uf_ds/predictions/data/prediction_logs\n",
      "Save CSV: /Users/detraviousjamaribrinkley/Documents/Development/research_labs/uf_ds/predictions/data/prediction_logs/batch_22-predictions/batch_22-from_df.csv\n",
      "\n",
      "CSV to Log\n"
     ]
    },
    {
     "name": "stderr",
     "output_type": "stream",
     "text": [
      "\n"
     ]
    }
   ],
   "source": [
    "observation_domains = [\"mixed\"]\n",
    "observation_prompt_outputs = {\n",
    "    \"mixed\": observation_prompt_output,\n",
    "}\n",
    "observation_label = 0\n",
    "\n",
    "batched_observations_df = tgmf.batch_generate_predictions(N_batches=N_batches,\n",
    "                                text_generation_models=text_generation_models,\n",
    "                                domains=observation_prompt_outputs,\n",
    "                                prompt_outputs=observation_prompt_outputs,\n",
    "                                sentence_label=observation_label)\n"
   ]
  },
  {
   "cell_type": "code",
   "execution_count": 11,
   "id": "e98e29dd",
   "metadata": {},
   "outputs": [
    {
     "data": {
      "text/plain": [
       "[                                                                                             Base Sentence  \\\n",
       " 0  T0: Detravious, an investor, forecasted that the stock price at Apple would likely decrease in 2025 Q1.   \n",
       " \n",
       "    Sentence Label Domain               Model Name    API Name  \n",
       " 0               0  mixed  llama-3.3-70b-versatile  GROQ_CLOUD  ,\n",
       "                                                                            Base Sentence  \\\n",
       " 0                    Here is an observation based on the provided template and examples:   \n",
       " 1  T0: Detravious, an investor, observed that the revenue at Tesla decreased in 2022 Q3.   \n",
       " \n",
       "    Sentence Label Domain       Model Name    API Name  \n",
       " 0               0  mixed  llama3-70b-8192  GROQ_CLOUD  \n",
       " 1               0  mixed  llama3-70b-8192  GROQ_CLOUD  ,\n",
       "                                                                                                                                                                                                                                                                                                                                                     Base Sentence  \\\n",
       " 0                                                                                                                                                                                                                                                                                           Here is one observation based on the provided templates and examples:   \n",
       " 1                                                                                                                                                                                                                                      T0: The finance expert, Warren Buffett, observes that the net profit of Coca-Cola will rise as much as 15% by August 2027.   \n",
       " 2  Note: I've followed the requirements to generate this observation. The source entity is Warren Buffett, a finance expert, and the target entity is Coca-Cola, an organization. The date is August 2027, and the observation attribute is net profit, which is expected to rise by 15%. The observation is unique and not repeated, and it's in the past tense.   \n",
       " \n",
       "    Sentence Label Domain      Model Name    API Name  \n",
       " 0               0  mixed  llama3-8b-8192  GROQ_CLOUD  \n",
       " 1               0  mixed  llama3-8b-8192  GROQ_CLOUD  \n",
       " 2               0  mixed  llama3-8b-8192  GROQ_CLOUD  ,\n",
       "                                                                                                        Base Sentence  \\\n",
       " 0  T0: A finance expert, Detravious, predicted that the stock price at Apple decreased in the first quarter of 2025.   \n",
       " \n",
       "    Sentence Label Domain     Model Name    API Name  \n",
       " 0               0  mixed  gpt-3.5-turbo  NAVI_GATOR  ,\n",
       "                                                                                   Base Sentence  \\\n",
       " 0  T0: Detravious, an investor, observed that the stock price at Apple decreased in Q1 of 2025.   \n",
       " \n",
       "    Sentence Label Domain Model Name    API Name  \n",
       " 0               0  mixed     gpt-4o  NAVI_GATOR  ,\n",
       "                                                                                 Base Sentence  \\\n",
       " 0  T0: Observation = (Apple, Detravious, investor, Q1 2025, stock price will likely decrease)   \n",
       " \n",
       "    Sentence Label Domain             Model Name    API Name  \n",
       " 0               0  mixed  mixtral-8x7b-instruct  NAVI_GATOR  ]"
      ]
     },
     "execution_count": 11,
     "metadata": {},
     "output_type": "execute_result"
    }
   ],
   "source": [
    "pd.set_option('max_colwidth', 800)\n",
    "pd.set_option('display.max_columns', None)\n",
    "pd.set_option('display.max_rows', None)\n",
    "batched_observations_df"
   ]
  },
  {
   "cell_type": "code",
   "execution_count": 12,
   "id": "9c191a57",
   "metadata": {},
   "outputs": [],
   "source": [
    "# prediction_sentence =\"Detravious, an investor forecasts that the stock price at Apple will likely decrease in 2025 Q1.\"\n"
   ]
  },
  {
   "cell_type": "code",
   "execution_count": 13,
   "id": "6b7640a3",
   "metadata": {},
   "outputs": [
    {
     "data": {
      "text/html": [
       "<div>\n",
       "<style scoped>\n",
       "    .dataframe tbody tr th:only-of-type {\n",
       "        vertical-align: middle;\n",
       "    }\n",
       "\n",
       "    .dataframe tbody tr th {\n",
       "        vertical-align: top;\n",
       "    }\n",
       "\n",
       "    .dataframe thead th {\n",
       "        text-align: right;\n",
       "    }\n",
       "</style>\n",
       "<table border=\"1\" class=\"dataframe\">\n",
       "  <thead>\n",
       "    <tr style=\"text-align: right;\">\n",
       "      <th></th>\n",
       "      <th>Base Sentence</th>\n",
       "      <th>Sentence Label</th>\n",
       "      <th>Domain</th>\n",
       "      <th>Model Name</th>\n",
       "      <th>API Name</th>\n",
       "    </tr>\n",
       "  </thead>\n",
       "  <tbody>\n",
       "    <tr>\n",
       "      <th>0</th>\n",
       "      <td>T0: Detravious, an investor, forecasted that the stock price at Apple would likely decrease in 2025 Q1.</td>\n",
       "      <td>0</td>\n",
       "      <td>mixed</td>\n",
       "      <td>llama-3.3-70b-versatile</td>\n",
       "      <td>GROQ_CLOUD</td>\n",
       "    </tr>\n",
       "    <tr>\n",
       "      <th>1</th>\n",
       "      <td>Here is an observation based on the provided template and examples:</td>\n",
       "      <td>0</td>\n",
       "      <td>mixed</td>\n",
       "      <td>llama3-70b-8192</td>\n",
       "      <td>GROQ_CLOUD</td>\n",
       "    </tr>\n",
       "    <tr>\n",
       "      <th>2</th>\n",
       "      <td>T0: Detravious, an investor, observed that the revenue at Tesla decreased in 2022 Q3.</td>\n",
       "      <td>0</td>\n",
       "      <td>mixed</td>\n",
       "      <td>llama3-70b-8192</td>\n",
       "      <td>GROQ_CLOUD</td>\n",
       "    </tr>\n",
       "    <tr>\n",
       "      <th>3</th>\n",
       "      <td>Here is one observation based on the provided templates and examples:</td>\n",
       "      <td>0</td>\n",
       "      <td>mixed</td>\n",
       "      <td>llama3-8b-8192</td>\n",
       "      <td>GROQ_CLOUD</td>\n",
       "    </tr>\n",
       "    <tr>\n",
       "      <th>4</th>\n",
       "      <td>T0: The finance expert, Warren Buffett, observes that the net profit of Coca-Cola will rise as much as 15% by August 2027.</td>\n",
       "      <td>0</td>\n",
       "      <td>mixed</td>\n",
       "      <td>llama3-8b-8192</td>\n",
       "      <td>GROQ_CLOUD</td>\n",
       "    </tr>\n",
       "    <tr>\n",
       "      <th>5</th>\n",
       "      <td>Note: I've followed the requirements to generate this observation. The source entity is Warren Buffett, a finance expert, and the target entity is Coca-Cola, an organization. The date is August 2027, and the observation attribute is net profit, which is expected to rise by 15%. The observation is unique and not repeated, and it's in the past tense.</td>\n",
       "      <td>0</td>\n",
       "      <td>mixed</td>\n",
       "      <td>llama3-8b-8192</td>\n",
       "      <td>GROQ_CLOUD</td>\n",
       "    </tr>\n",
       "    <tr>\n",
       "      <th>6</th>\n",
       "      <td>T0: A finance expert, Detravious, predicted that the stock price at Apple decreased in the first quarter of 2025.</td>\n",
       "      <td>0</td>\n",
       "      <td>mixed</td>\n",
       "      <td>gpt-3.5-turbo</td>\n",
       "      <td>NAVI_GATOR</td>\n",
       "    </tr>\n",
       "    <tr>\n",
       "      <th>7</th>\n",
       "      <td>T0: Detravious, an investor, observed that the stock price at Apple decreased in Q1 of 2025.</td>\n",
       "      <td>0</td>\n",
       "      <td>mixed</td>\n",
       "      <td>gpt-4o</td>\n",
       "      <td>NAVI_GATOR</td>\n",
       "    </tr>\n",
       "    <tr>\n",
       "      <th>8</th>\n",
       "      <td>T0: Observation = (Apple, Detravious, investor, Q1 2025, stock price will likely decrease)</td>\n",
       "      <td>0</td>\n",
       "      <td>mixed</td>\n",
       "      <td>mixtral-8x7b-instruct</td>\n",
       "      <td>NAVI_GATOR</td>\n",
       "    </tr>\n",
       "  </tbody>\n",
       "</table>\n",
       "</div>"
      ],
      "text/plain": [
       "                                                                                                                                                                                                                                                                                                                                                    Base Sentence  \\\n",
       "0                                                                                                                                                                                                                                                         T0: Detravious, an investor, forecasted that the stock price at Apple would likely decrease in 2025 Q1.   \n",
       "1                                                                                                                                                                                                                                                                                             Here is an observation based on the provided template and examples:   \n",
       "2                                                                                                                                                                                                                                                                           T0: Detravious, an investor, observed that the revenue at Tesla decreased in 2022 Q3.   \n",
       "3                                                                                                                                                                                                                                                                                           Here is one observation based on the provided templates and examples:   \n",
       "4                                                                                                                                                                                                                                      T0: The finance expert, Warren Buffett, observes that the net profit of Coca-Cola will rise as much as 15% by August 2027.   \n",
       "5  Note: I've followed the requirements to generate this observation. The source entity is Warren Buffett, a finance expert, and the target entity is Coca-Cola, an organization. The date is August 2027, and the observation attribute is net profit, which is expected to rise by 15%. The observation is unique and not repeated, and it's in the past tense.   \n",
       "6                                                                                                                                                                                                                                               T0: A finance expert, Detravious, predicted that the stock price at Apple decreased in the first quarter of 2025.   \n",
       "7                                                                                                                                                                                                                                                                    T0: Detravious, an investor, observed that the stock price at Apple decreased in Q1 of 2025.   \n",
       "8                                                                                                                                                                                                                                                                      T0: Observation = (Apple, Detravious, investor, Q1 2025, stock price will likely decrease)   \n",
       "\n",
       "   Sentence Label Domain               Model Name    API Name  \n",
       "0               0  mixed  llama-3.3-70b-versatile  GROQ_CLOUD  \n",
       "1               0  mixed          llama3-70b-8192  GROQ_CLOUD  \n",
       "2               0  mixed          llama3-70b-8192  GROQ_CLOUD  \n",
       "3               0  mixed           llama3-8b-8192  GROQ_CLOUD  \n",
       "4               0  mixed           llama3-8b-8192  GROQ_CLOUD  \n",
       "5               0  mixed           llama3-8b-8192  GROQ_CLOUD  \n",
       "6               0  mixed            gpt-3.5-turbo  NAVI_GATOR  \n",
       "7               0  mixed                   gpt-4o  NAVI_GATOR  \n",
       "8               0  mixed    mixtral-8x7b-instruct  NAVI_GATOR  "
      ]
     },
     "execution_count": 13,
     "metadata": {},
     "output_type": "execute_result"
    }
   ],
   "source": [
    "observations_df = DataProcessing.concat_dfs(batched_observations_df)\n",
    "observations_df"
   ]
  }
 ],
 "metadata": {
  "kernelspec": {
   "display_name": "predictions",
   "language": "python",
   "name": "python3"
  },
  "language_info": {
   "codemirror_mode": {
    "name": "ipython",
    "version": 3
   },
   "file_extension": ".py",
   "mimetype": "text/x-python",
   "name": "python",
   "nbconvert_exporter": "python",
   "pygments_lexer": "ipython3",
   "version": "3.12.2"
  }
 },
 "nbformat": 4,
 "nbformat_minor": 5
}
